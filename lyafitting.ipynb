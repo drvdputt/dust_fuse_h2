{
 "cells": [
  {
   "cell_type": "markdown",
   "id": "06dd9f8d-579f-4c5b-87ec-9250de3970c9",
   "metadata": {},
   "source": [
    "# Lyman alpha fitting\n",
    "\n",
    "The equation for the cross section is (Diplas \\& Savage 1994)\n",
    "\n",
    "$ \\sigma(\\lambda) = 4.26e^{-20} \\text{cm}^2 / [6.04e^{-10}+ (\\lambda - \\lambda_0)^2] $\n",
    "\n",
    "where $\\lambda_0 = 1215.67 \\AA$. We might need a velocity doppler shift parameter for $\\lambda_0$. The model for the spectrum, with $N = N(\\text{H I})$ as a parameter, is written as\n",
    "\n",
    "$ f_m(\\lambda; N) = f_c(\\lambda) \\exp(-N \\sigma(\\lambda)) $.\n",
    "\n",
    "\n",
    "The function $f_c(\\lambda)$ describes the continuum, the flux without any lines. It is usually a constant or 1st order approximation, determined by fitting or sometimes by eye. $N(\\text{HI})$ can be found by minimizing a $\\chi^2$ function\n",
    "\n",
    "$ \\chi^2(N) = \\frac{1}{n - 1} \\sum_i \\sigma\n",
    "_c^{-1} (f_i - f_m(\\lambda_i; N))^2$. \n",
    "\n",
    "Here, a suitable noise model $\\sigma_c$ needs to be chosen. In DS94, $\\sigma_c = \\text{constant} \\times \\exp(\\sigma(\\lambda_i) N)$. This is not an error on the measurement, but rather a factor to treat the other features of the spectrum as noise. For the constant, they use the RMS deviation with respect to $f_c$, over a wavelength range outside the line, deemed to have similar noise as the line wings. \n",
    "\n",
    "The workflow goes as follows:\n",
    "1. Find a suitable approximation for the continuum.\n",
    "2. Find a suitable noise level with respect to the continuum.\n",
    "2. Mask wavelengths that have troublesome features.\n",
    "3. Optimize the $\\chi^2$ function for the remaining data points $(\\lambda_i, f_i)$, minimizing the differences between $f_i$ and $f_m(\\lambda_i)$.\n"
   ]
  },
  {
   "cell_type": "code",
   "execution_count": null,
   "id": "96fac418-a06f-4acc-a49e-3922692362ab",
   "metadata": {},
   "outputs": [],
   "source": [
    "def sigma(l):\n",
    "    l0 = 1215.67\n",
    "    return 4.26e-20 / (6.04e-10 + np.square(l - l0))\n",
    "    \n",
    "def fmodel(fcontinuum, NHI):\n",
    "    return lambda l : fcontinuum(l) * np.exp(-NHI * sigma(l))\n",
    "\n",
    "def chi2(NHI, fc, sigma_c, wavs, fs):\n",
    "    extinctions = np.exp(NHI * sigma(l))\n",
    "    deltas = fc(wavs) - fs * extinctions\n",
    "    sigmas = sigma_c * extinctions\n",
    "    chi2 = np.square((deltas / sigmas)).sum() / (len(deltas) - 1)\n",
    "    return chi2\n"
   ]
  },
  {
   "cell_type": "code",
   "execution_count": null,
   "id": "26b9b9f0-9bb8-43eb-b292-64334f3b1347",
   "metadata": {},
   "outputs": [],
   "source": [
    "from matplotlib import pyplot as plt\n",
    "import numpy as np\n",
    "import matplotlib as mpl\n",
    "mpl.rcParams['figure.dpi'] = 226\n",
    "\n",
    "def prepare_axes():\n",
    "    plt.xlabel('wavelength')\n",
    "    plt.ylabel('flux (erg cm$^{-2}$s$^{-1}\\\\AA^{-1}$)')\n",
    "\n",
    "def plot_iue(table):\n",
    "    plt.plot(table['WAVELENGTH'], table[data_column_name])\n",
    "    prepare_axes()\n",
    "    \n",
    "def plot_iue_order(table, index):\n",
    "    data_column_name = 'ABS_CAL'\n",
    "    flux = table[index][data_column_name]\n",
    "    wavs = [table[index]['WAVELENGTH'] + table[index]['DELTAW'] * i for i in range(len(flux))]\n",
    "#    dq = table[index]['QUALITY']\n",
    " #   good = dq == -2  \n",
    "  #  plt.plot(wavs[good], flux[good])\n",
    "    plt.plot(wavs, flux)\n",
    "    \n",
    "def plot_stis_order(table, index):\n",
    "    wavs = table[index]['WAVELENGTH']\n",
    "    data_column_name = 'FLUX'\n",
    "    flux = table[index][data_column_name]\n",
    "    plt.plot(wavs, flux)\n",
    "    \n",
    "def plot_function_at_lya(f, ylabel='f(x)', *args):\n",
    "    x = np.linspace(1100, 1300, 1000)\n",
    "    y = f(x, *args)\n",
    "    plt.xlabel('wavelength')\n",
    "    "
   ]
  },
  {
   "cell_type": "markdown",
   "id": "f141fa0f-ca49-43b5-8dc2-99a354621878",
   "metadata": {},
   "source": [
    "## Data exploration"
   ]
  },
  {
   "cell_type": "code",
   "execution_count": null,
   "id": "e7483b42-16a2-44e1-b12b-0b7e018a5b4b",
   "metadata": {},
   "outputs": [],
   "source": [
    "# open some data\n",
    "from astropy.io import fits\n",
    "from astropy.table import Table\n",
    "from pathlib import Path"
   ]
  },
  {
   "cell_type": "code",
   "execution_count": null,
   "id": "1f64dfe3-26ba-44d7-b170-245afc243284",
   "metadata": {},
   "outputs": [],
   "source": [
    "def sort_by_wav(wavs, flux):\n",
    "    idxs = np.argsort(wavs)\n",
    "    return wavs[idxs], flux[idxs]"
   ]
  },
  {
   "cell_type": "markdown",
   "id": "62e95ccc-6924-46c4-8447-4c4c09b19fde",
   "metadata": {},
   "source": [
    "### STIS data looks like this"
   ]
  },
  {
   "cell_type": "code",
   "execution_count": null,
   "id": "85881da4-fe7b-4edd-b7e1-4dc201ce2c7d",
   "metadata": {},
   "outputs": [],
   "source": [
    "spectrum_file = '/Users/dvandeputte/Projects/FUSE H2/plotting_git/data/HD094493/mastDownload/HST/o54306010/o54306010_x1d.fits'\n",
    "fits.info(spectrum_file)"
   ]
  },
  {
   "cell_type": "code",
   "execution_count": null,
   "id": "b63849bf-c702-422c-959c-d974659090ef",
   "metadata": {
    "scrolled": true,
    "tags": []
   },
   "outputs": [],
   "source": [
    "t = Table.read(spectrum_file)\n",
    "t"
   ]
  },
  {
   "cell_type": "code",
   "execution_count": null,
   "id": "7bd8e83f-4a56-4796-b5f8-45ce20c7e48e",
   "metadata": {},
   "outputs": [],
   "source": [
    "import numpy as np\n",
    "def stis_merge_orders(t):\n",
    "    \"\"\"\n",
    "    Put the data from all spectral orders of a set of STIS data into one big array\n",
    "    \n",
    "    Returns\n",
    "    -------\n",
    "        allwavs, allflux: ndarray, wavelengths and fluxes, sorted by wavelength\n",
    "    \"\"\"\n",
    "    allwavs = np.concatenate(t['WAVELENGTH'])\n",
    "    allflux = np.concatenate(t['FLUX'])\n",
    "    return sort_by_wav(allwavs, allflux)"
   ]
  },
  {
   "cell_type": "code",
   "execution_count": null,
   "id": "0c1333a5-2deb-40a7-a623-69953bc24cfe",
   "metadata": {},
   "outputs": [],
   "source": [
    "# try plotting this\n",
    "x, y = stis_merge_orders(t)\n",
    "plt.plot(x, y)"
   ]
  },
  {
   "cell_type": "markdown",
   "id": "6cebce7d-95fa-4124-a352-e798369dd8e7",
   "metadata": {},
   "source": [
    "### IUE high res like this"
   ]
  },
  {
   "cell_type": "code",
   "execution_count": null,
   "id": "958f5b86-74fa-4138-9283-97efb1067880",
   "metadata": {},
   "outputs": [],
   "source": [
    "spectrum_file = '/Users/dvandeputte/Projects/FUSE H2/plotting_git/data/HD094493/swp49770.mxhi.gz'\n",
    "fits.info(spectrum_file)"
   ]
  },
  {
   "cell_type": "code",
   "execution_count": null,
   "id": "f2810f24-0e90-402d-8950-fc0248c96aa9",
   "metadata": {
    "scrolled": true,
    "tags": []
   },
   "outputs": [],
   "source": [
    "t = Table.read(spectrum_file)\n",
    "t"
   ]
  },
  {
   "cell_type": "code",
   "execution_count": null,
   "id": "f877b88c-8431-4ecd-9d02-ee2bc25bb65e",
   "metadata": {
    "scrolled": true,
    "tags": []
   },
   "outputs": [],
   "source": [
    "# check the contents of one row\n",
    "row = 1\n",
    "print(t[row]['WAVELENGTH'])\n",
    "t[row]['NET'].shape\n",
    "dq = t[row]['QUALITY']\n",
    "dq == -2"
   ]
  },
  {
   "cell_type": "code",
   "execution_count": null,
   "id": "f6006eee-68ae-4bbf-bb90-0008ed5205a4",
   "metadata": {},
   "outputs": [],
   "source": [
    "def iue_h_merge_orders(t):\n",
    "    \n",
    "    def iue_wavs(i):\n",
    "        return t[i]['WAVELENGTH'] + t[i]['DELTAW'] * np.arange(t[i]['NPOINTS'])\n",
    "    \n",
    "    def iue_flux(i):\n",
    "        pixrange = slice(t[i]['STARTPIX'], t[i]['STARTPIX'] + t[i]['NPOINTS'])\n",
    "        return t[i]['ABS_CAL'][pixrange]\n",
    "    \n",
    "    allwavs = np.concatenate([iue_wavs(i) for i in range(len(t))])\n",
    "    allflux = np.concatenate([iue_flux(i) for i in range(len(t))])\n",
    "    \n",
    "    return sort_by_wav(allwavs, allflux)"
   ]
  },
  {
   "cell_type": "code",
   "execution_count": null,
   "id": "6d147a46-dcdb-4715-a35a-e6e2a6aa2646",
   "metadata": {},
   "outputs": [],
   "source": [
    "allwavs, allflux = iue_h_merge_orders(t)\n",
    "plt.plot(allwavs, allflux)"
   ]
  },
  {
   "cell_type": "code",
   "execution_count": null,
   "id": "87c78126-bc95-4d9c-b023-2102391c9947",
   "metadata": {},
   "outputs": [],
   "source": []
  }
 ],
 "metadata": {
  "kernelspec": {
   "display_name": "Python 3",
   "language": "python",
   "name": "python3"
  },
  "language_info": {
   "codemirror_mode": {
    "name": "ipython",
    "version": 3
   },
   "file_extension": ".py",
   "mimetype": "text/x-python",
   "name": "python",
   "nbconvert_exporter": "python",
   "pygments_lexer": "ipython3",
   "version": "3.8.10"
  }
 },
 "nbformat": 4,
 "nbformat_minor": 5
}
