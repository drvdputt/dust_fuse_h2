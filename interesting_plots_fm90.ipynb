{
 "cells": [
  {
   "cell_type": "markdown",
   "metadata": {},
   "source": [
    "# Investigating the Data"
   ]
  },
  {
   "cell_type": "code",
   "execution_count": 140,
   "metadata": {},
   "outputs": [
    {
     "name": "stdout",
     "output_type": "stream",
     "text": [
      "The autoreload extension is already loaded. To reload it, use:\n",
      "  %reload_ext autoreload\n"
     ]
    }
   ],
   "source": [
    "%load_ext autoreload\n",
    "%autoreload 2\n",
    "\n",
    "from get_data import (get_merged_table, get_bohlin78, get_shull2021)\n",
    "from plot_fuse_results import plot_results2\n",
    "from matplotlib import pyplot as plt\n",
    "from astropy.table import Column\n",
    "\n",
    "plt.ioff()\n",
    "\n",
    "import matplotlib as mpl\n",
    "mpl.rcParams['figure.dpi'] = 120\n",
    "%matplotlib widget"
   ]
  },
  {
   "cell_type": "markdown",
   "metadata": {},
   "source": [
    "# Get the data"
   ]
  },
  {
   "cell_type": "markdown",
   "metadata": {},
   "source": [
    "### data for Gordon09 extinction curve sightlines"
   ]
  },
  {
   "cell_type": "code",
   "execution_count": 141,
   "metadata": {},
   "outputs": [],
   "source": [
    "data = get_merged_table()\n",
    "# add comments for certain stars here\n",
    "data.add_column(Column(['no'] * len(data), dtype='<U16', name='comment'))\n",
    "def set_comment(name, s):\n",
    "    data['comment'][data['Name'] == name] = s\n",
    "\n",
    "for name in [\"HD200775\", \"HD164906\", \"HD045314\", \"HD206773\"]:\n",
    "    set_comment(name, \"lo_h_av\")\n",
    "\n",
    "set_comment(\"HD096675\", \"hi_h_av\")"
   ]
  },
  {
   "cell_type": "markdown",
   "metadata": {},
   "source": [
    "### data for Gordon09 comparision star sightlines"
   ]
  },
  {
   "cell_type": "code",
   "execution_count": 142,
   "metadata": {},
   "outputs": [],
   "source": [
    "data_comp = get_merged_table(comp=True)"
   ]
  },
  {
   "cell_type": "markdown",
   "metadata": {},
   "source": [
    "### data for Bohlin 78 Copernicus sightlines"
   ]
  },
  {
   "cell_type": "code",
   "execution_count": 143,
   "metadata": {},
   "outputs": [],
   "source": [
    "data_bohlin78 = get_bohlin78()"
   ]
  },
  {
   "cell_type": "code",
   "execution_count": 144,
   "metadata": {},
   "outputs": [
    {
     "name": "stdout",
     "output_type": "stream",
     "text": [
      "['A1000', 'A1000_AV', 'A1000_AV_unc', 'A1000_unc', 'A1100', 'A1100_AV', 'A1100_AV_unc', 'A1100_unc', 'A1300', 'A1300_AV', 'A1300_AV_unc', 'A1300_unc', 'A2000', 'A2000_AV', 'A2000_AV_unc', 'A2000_unc', 'A4000', 'A4000_AV', 'A4000_AV_unc', 'A4000_unc', 'A880', 'A880_AV', 'A880_AV_unc', 'A880_unc', 'AV', 'AV_runc', 'AV_sunc', 'AV_unc', 'C1', 'C1_unc', 'C2', 'C2_unc', 'C3', 'C3_unc', 'C4', 'C4_unc', 'CAV1', 'CAV1_runc', 'CAV1_sunc', 'CAV1_unc', 'CAV2', 'CAV2_runc', 'CAV2_sunc', 'CAV2_unc', 'CAV3', 'CAV3_runc', 'CAV3_sunc', 'CAV3_unc', 'CAV4', 'CAV4_runc', 'CAV4_sunc', 'CAV4_unc', 'Comparison', 'EBV', 'EBV_runc', 'EBV_sunc', 'EBV_unc', 'NH_AV', 'NH_AV_unc', 'NH_EBV', 'NH_EBV_unc', 'Name', 'RV', 'RV_runc', 'RV_sunc', 'RV_unc', 'SpType', 'V', 'bump_area', 'bump_area_unc', 'comment', 'fh2', 'fh2_unc', 'gamma', 'gamma_runc', 'gamma_sunc', 'gamma_unc', 'hiref', 'logfh2', 'lognh', 'lognh2', 'lognh2_unc', 'lognhi', 'lognhi_unc', 'lognhtot', 'lognhtot_unc', 'nh', 'nh2', 'nh2_unc', 'nhi', 'nhi_unc', 'nhtot', 'nhtot_unc', 'x_o', 'x_o_runc', 'x_o_sunc', 'x_o_unc']\n"
     ]
    }
   ],
   "source": [
    "print(sorted(data.colnames))"
   ]
  },
  {
   "cell_type": "markdown",
   "metadata": {},
   "source": [
    "# FM90 params versus fraction H2"
   ]
  },
  {
   "cell_type": "markdown",
   "metadata": {
    "tags": []
   },
   "source": [
    "## Specific wavelength extinction\n",
    "fh2 vs 1000 (or 1100) shows some structure.\n",
    "fh2 vs 1300 none at all\n",
    "fh2 vs 4000 looks like fh2 vs AV (as expected)"
   ]
  },
  {
   "cell_type": "code",
   "execution_count": 148,
   "metadata": {},
   "outputs": [
    {
     "data": {
      "application/vnd.jupyter.widget-view+json": {
       "model_id": "390abb2eb6ac448991061e7a904b9f1c",
       "version_major": 2,
       "version_minor": 0
      },
      "text/plain": [
       "Canvas(toolbar=Toolbar(toolitems=[('Home', 'Reset original view', 'home', 'home'), ('Back', 'Back to previous …"
      ]
     },
     "metadata": {},
     "output_type": "display_data"
    },
    {
     "name": "stdout",
     "output_type": "stream",
     "text": [
      "No covariances implemented for this parameter pair. If x and y are uncorrelated, you can dismiss this.\n",
      "No covariances implemented for this parameter pair. If x and y are uncorrelated, you can dismiss this.\n",
      "Solution\n",
      "m, b_perp: 0.04194022841320776 -0.16973002786749938\n",
      "m, b: 0.04194022841320776 -0.16987923837803057\n",
      "chi2min: 129.98183737784802 or 1.7805731147650414 per DOF\n",
      "Bootstrap: m = 0.0412066774317763 ; b = -0.1622523021442515\n",
      "Bootstrap: sm = 0.004944212694099267 ; sb = 0.044168654332737096\n",
      "Bootstrap: corr(m, b) = -0.9425784688160092\n"
     ]
    }
   ],
   "source": [
    "_ = plot_results2(data, \"A880\", 'fh2', mark_comments=['lo_h_av'])"
   ]
  },
  {
   "cell_type": "code",
   "execution_count": 149,
   "metadata": {},
   "outputs": [
    {
     "data": {
      "application/vnd.jupyter.widget-view+json": {
       "model_id": "29428d4a5a6b46d880e52b604eb32007",
       "version_major": 2,
       "version_minor": 0
      },
      "text/plain": [
       "Canvas(toolbar=Toolbar(toolitems=[('Home', 'Reset original view', 'home', 'home'), ('Back', 'Back to previous …"
      ]
     },
     "metadata": {},
     "output_type": "display_data"
    },
    {
     "name": "stdout",
     "output_type": "stream",
     "text": [
      "No covariances implemented for this parameter pair. If x and y are uncorrelated, you can dismiss this.\n",
      "No covariances implemented for this parameter pair. If x and y are uncorrelated, you can dismiss this.\n",
      "Solution\n",
      "m, b_perp: 0.06052270279599328 -0.1945110071873502\n",
      "m, b: 0.06052270279599328 -0.19486692822255938\n",
      "chi2min: 138.15402600093603 or 1.8925209041224114 per DOF\n",
      "Bootstrap: m = 0.06102181328856157 ; b = -0.19662051313661139\n",
      "Bootstrap: sm = 0.007155575013429395 ; sb = 0.04329282870153787\n",
      "Bootstrap: corr(m, b) = -0.9471268934788701\n"
     ]
    }
   ],
   "source": [
    "_ = plot_results2(data, \"A1000\", 'fh2', mark_comments=['lo_h_av'])"
   ]
  },
  {
   "cell_type": "code",
   "execution_count": 124,
   "metadata": {},
   "outputs": [
    {
     "data": {
      "application/vnd.jupyter.widget-view+json": {
       "model_id": "82c9c3e8e268461680c1ad9f15ae4f78",
       "version_major": 2,
       "version_minor": 0
      },
      "text/plain": [
       "Canvas(toolbar=Toolbar(toolitems=[('Home', 'Reset original view', 'home', 'home'), ('Back', 'Back to previous …"
      ]
     },
     "metadata": {},
     "output_type": "display_data"
    },
    {
     "name": "stdout",
     "output_type": "stream",
     "text": [
      "No covariances implemented for this parameter pair. If x and y are uncorrelated, you can dismiss this.\n",
      "No covariances implemented for this parameter pair. If x and y are uncorrelated, you can dismiss this.\n",
      "Solution\n",
      "m, b_perp: 0.0074576790143094296 0.02744180035666839\n",
      "m, b: 0.0074576790143094296 0.027442563461037916\n",
      "chi2min: 337.3752827758306 or 4.621579216107269 per DOF\n",
      "Bootstrap: m = 0.010483484640874459 ; b = 0.032285480652338584\n",
      "Bootstrap: sm = 0.019043365186181976 ; sb = 0.10117736039749775\n",
      "Bootstrap: corr(m, b) = -0.9647989120888129\n"
     ]
    }
   ],
   "source": [
    "_ = plot_results2(data, \"A1000_AV\", 'fh2', mark_comments=['lo_h_av'])"
   ]
  },
  {
   "cell_type": "code",
   "execution_count": 125,
   "metadata": {},
   "outputs": [
    {
     "data": {
      "application/vnd.jupyter.widget-view+json": {
       "model_id": "4818cb102ba042249da0b6ad0f61cd41",
       "version_major": 2,
       "version_minor": 0
      },
      "text/plain": [
       "Canvas(toolbar=Toolbar(toolitems=[('Home', 'Reset original view', 'home', 'home'), ('Back', 'Back to previous …"
      ]
     },
     "metadata": {},
     "output_type": "display_data"
    },
    {
     "name": "stdout",
     "output_type": "stream",
     "text": [
      "No covariances implemented for this parameter pair. If x and y are uncorrelated, you can dismiss this.\n",
      "No covariances implemented for this parameter pair. If x and y are uncorrelated, you can dismiss this.\n",
      "Solution\n",
      "m, b_perp: 0.0043255714962580055 0.0447898147033407\n",
      "m, b: 0.0043255714962580055 0.04479023372283478\n",
      "chi2min: 341.470138874433 or 4.677673135266206 per DOF\n",
      "Bootstrap: m = 0.0036245696264729254 ; b = 0.06573847086528092\n",
      "Bootstrap: sm = 0.02105647357575563 ; sb = 0.10021049219832412\n",
      "Bootstrap: corr(m, b) = -0.9512960957645832\n"
     ]
    }
   ],
   "source": [
    "_ = plot_results2(data, \"A1100_AV\", 'fh2', mark_comments=['lo_h_av'])"
   ]
  },
  {
   "cell_type": "code",
   "execution_count": 147,
   "metadata": {},
   "outputs": [
    {
     "data": {
      "application/vnd.jupyter.widget-view+json": {
       "model_id": "4732acabae944afd949d5752a6563c46",
       "version_major": 2,
       "version_minor": 0
      },
      "text/plain": [
       "Canvas(toolbar=Toolbar(toolitems=[('Home', 'Reset original view', 'home', 'home'), ('Back', 'Back to previous …"
      ]
     },
     "metadata": {},
     "output_type": "display_data"
    },
    {
     "name": "stdout",
     "output_type": "stream",
     "text": [
      "No covariances implemented for this parameter pair. If x and y are uncorrelated, you can dismiss this.\n",
      "No covariances implemented for this parameter pair. If x and y are uncorrelated, you can dismiss this.\n",
      "Solution\n",
      "m, b_perp: 0.0998419355403732 -0.21532679086180265\n",
      "m, b: 0.0998419355403732 -0.21639736259561018\n",
      "chi2min: 158.33283529594252 or 2.1689429492594865 per DOF\n",
      "Bootstrap: m = 0.09923542183239781 ; b = -0.21288887905622836\n",
      "Bootstrap: sm = 0.014690931537194581 ; sb = 0.05717635251768166\n",
      "Bootstrap: corr(m, b) = -0.9566213706402078\n"
     ]
    }
   ],
   "source": [
    "_ = plot_results2(data, \"A1300\", 'fh2', mark_comments=['lo_h_av'])"
   ]
  },
  {
   "cell_type": "code",
   "execution_count": 118,
   "metadata": {},
   "outputs": [
    {
     "data": {
      "application/vnd.jupyter.widget-view+json": {
       "model_id": "3758a91aa116447d928785d198d50327",
       "version_major": 2,
       "version_minor": 0
      },
      "text/plain": [
       "Canvas(toolbar=Toolbar(toolitems=[('Home', 'Reset original view', 'home', 'home'), ('Back', 'Back to previous …"
      ]
     },
     "metadata": {},
     "output_type": "display_data"
    },
    {
     "name": "stdout",
     "output_type": "stream",
     "text": [
      "No covariances implemented for this parameter pair. If x and y are uncorrelated, you can dismiss this.\n",
      "No covariances implemented for this parameter pair. If x and y are uncorrelated, you can dismiss this.\n",
      "Solution\n",
      "m, b_perp: -0.0040874267056030655 0.07509455969246252\n",
      "m, b: -0.0040874267056030655 0.07509518699438979\n",
      "chi2min: 342.06882932344575 or 4.685874374293777 per DOF\n",
      "Bootstrap: m = -0.0031602589952884363 ; b = 0.0839095671345725\n",
      "Bootstrap: sm = 0.027348340124512132 ; sb = 0.097260389035386\n",
      "Bootstrap: corr(m, b) = -0.9542920019793856\n"
     ]
    }
   ],
   "source": [
    "_ = plot_results2(data, \"A1300_AV\", 'fh2', mark_comments=['lo_h_av'])"
   ]
  },
  {
   "cell_type": "code",
   "execution_count": 152,
   "metadata": {},
   "outputs": [
    {
     "data": {
      "application/vnd.jupyter.widget-view+json": {
       "model_id": "2a89b6f34e0f4f649a045b23baf4f1fe",
       "version_major": 2,
       "version_minor": 0
      },
      "text/plain": [
       "Canvas(toolbar=Toolbar(toolitems=[('Home', 'Reset original view', 'home', 'home'), ('Back', 'Back to previous …"
      ]
     },
     "metadata": {},
     "output_type": "display_data"
    },
    {
     "name": "stdout",
     "output_type": "stream",
     "text": [
      "No covariances implemented for this parameter pair. If x and y are uncorrelated, you can dismiss this.\n",
      "No covariances implemented for this parameter pair. If x and y are uncorrelated, you can dismiss this.\n",
      "Solution\n",
      "m, b_perp: 0.10083268655957249 -0.18590290977877455\n",
      "m, b: 0.10083268655957249 -0.18684557863924364\n",
      "chi2min: 158.51821584428322 or 2.1714824088257974 per DOF\n",
      "Bootstrap: m = 0.10023728129387115 ; b = -0.18257110268548957\n",
      "Bootstrap: sm = 0.01435030154033978 ; sb = 0.0478347907324506\n",
      "Bootstrap: corr(m, b) = -0.9551045701503127\n"
     ]
    }
   ],
   "source": [
    "_ = plot_results2(data, \"A2000\", 'fh2', mark_comments=['lo_h_av'])"
   ]
  },
  {
   "cell_type": "code",
   "execution_count": 128,
   "metadata": {},
   "outputs": [
    {
     "data": {
      "application/vnd.jupyter.widget-view+json": {
       "model_id": "a2d18a38ef5441ccabc53872eaee08c9",
       "version_major": 2,
       "version_minor": 0
      },
      "text/plain": [
       "Canvas(toolbar=Toolbar(toolitems=[('Home', 'Reset original view', 'home', 'home'), ('Back', 'Back to previous …"
      ]
     },
     "metadata": {},
     "output_type": "display_data"
    },
    {
     "name": "stdout",
     "output_type": "stream",
     "text": [
      "No covariances implemented for this parameter pair. If x and y are uncorrelated, you can dismiss this.\n",
      "No covariances implemented for this parameter pair. If x and y are uncorrelated, you can dismiss this.\n",
      "Solution\n",
      "m, b_perp: 0.16403775126935052 -0.2103428372136125\n",
      "m, b: 0.16403775126935052 -0.21315404438871274\n",
      "chi2min: 268.9749771356129 or 3.6845887278851084 per DOF\n",
      "Bootstrap: m = 0.18114766846645666 ; b = -0.23052860304751838\n",
      "Bootstrap: sm = 0.07915144540142856 ; sb = 0.12356138715402368\n",
      "Bootstrap: corr(m, b) = -0.9918426200509984\n"
     ]
    }
   ],
   "source": [
    "_ = plot_results2(data, \"A4000_AV\", 'fh2', mark_comments=['lo_h_av'])"
   ]
  },
  {
   "cell_type": "code",
   "execution_count": 25,
   "metadata": {},
   "outputs": [
    {
     "data": {
      "application/vnd.jupyter.widget-view+json": {
       "model_id": "618b14ad39814a7babb0945029bfffe5",
       "version_major": 2,
       "version_minor": 0
      },
      "text/plain": [
       "Canvas(toolbar=Toolbar(toolitems=[('Home', 'Reset original view', 'home', 'home'), ('Back', 'Back to previous …"
      ]
     },
     "metadata": {},
     "output_type": "display_data"
    },
    {
     "name": "stdout",
     "output_type": "stream",
     "text": [
      "No covariances implemented for this parameter pair. If x and y are uncorrelated, you can dismiss this.\n",
      "No covariances implemented for this parameter pair. If x and y are uncorrelated, you can dismiss this.\n",
      "Solution\n",
      "m, b_perp: 0.1197958211407039 0.021274468506207057\n",
      "m, b: 0.1197958211407039 0.021426580071617473\n",
      "chi2min: 275.69016884831274 or 3.776577655456339 per DOF\n",
      "Bootstrap: m = 0.11821829717462316 ; b = 0.02743351534667877\n",
      "Bootstrap: sm = 0.065833922609091 ; sb = 0.04327501080013794\n",
      "Bootstrap: corr(m, b) = -0.734605766009372\n"
     ]
    }
   ],
   "source": [
    "_ = plot_results2(data, 'CAV1', 'fh2', mark_comments=['lo_h_av'])"
   ]
  },
  {
   "cell_type": "code",
   "execution_count": 24,
   "metadata": {},
   "outputs": [
    {
     "data": {
      "application/vnd.jupyter.widget-view+json": {
       "model_id": "4cf4e21dec7d4882b3a9a64c3bb0ca24",
       "version_major": 2,
       "version_minor": 0
      },
      "text/plain": [
       "Canvas(toolbar=Toolbar(toolitems=[('Home', 'Reset original view', 'home', 'home'), ('Back', 'Back to previous …"
      ]
     },
     "metadata": {},
     "output_type": "display_data"
    },
    {
     "name": "stdout",
     "output_type": "stream",
     "text": [
      "No covariances implemented for this parameter pair. If x and y are uncorrelated, you can dismiss this.\n",
      "No covariances implemented for this parameter pair. If x and y are uncorrelated, you can dismiss this.\n",
      "Solution\n",
      "m, b_perp: -0.2439533147495993 0.14575655254257147\n",
      "m, b: -0.2439533147495993 0.15003109455424093\n",
      "chi2min: 319.04164778501774 or 4.370433531301613 per DOF\n",
      "Bootstrap: m = -0.24271884673834182 ; b = 0.15547369460143096\n",
      "Bootstrap: sm = 0.283955533657784 ; sb = 0.08290683924466258\n",
      "Bootstrap: corr(m, b) = -0.9153774375884773\n"
     ]
    }
   ],
   "source": [
    "_ = plot_results2(data, 'CAV2', 'fh2', mark_comments=['lo_h_av'])"
   ]
  },
  {
   "cell_type": "code",
   "execution_count": 23,
   "metadata": {},
   "outputs": [
    {
     "data": {
      "application/vnd.jupyter.widget-view+json": {
       "model_id": "bc3319934488471c90c37395b40cf93a",
       "version_major": 2,
       "version_minor": 0
      },
      "text/plain": [
       "Canvas(toolbar=Toolbar(toolitems=[('Home', 'Reset original view', 'home', 'home'), ('Back', 'Back to previous …"
      ]
     },
     "metadata": {},
     "output_type": "display_data"
    },
    {
     "name": "stdout",
     "output_type": "stream",
     "text": [
      "No covariances implemented for this parameter pair. If x and y are uncorrelated, you can dismiss this.\n",
      "No covariances implemented for this parameter pair. If x and y are uncorrelated, you can dismiss this.\n",
      "Solution\n",
      "m, b_perp: 0.28792888884330753 -0.10108964846957384\n",
      "m, b: 0.28792888884330753 -0.1051965443673031\n",
      "chi2min: 98.13090937819638 or 1.4221870924376288 per DOF\n",
      "Bootstrap: m = 0.2471914056611908 ; b = -0.06845729356582088\n",
      "Bootstrap: sm = 0.12402112857962827 ; sb = 0.10030061181296969\n",
      "Bootstrap: corr(m, b) = -0.9818225578650045\n"
     ]
    }
   ],
   "source": [
    "_ = plot_results2(data, 'CAV3', 'fh2', ignore_comments=['lo_h_av'])"
   ]
  },
  {
   "cell_type": "code",
   "execution_count": 153,
   "metadata": {},
   "outputs": [
    {
     "data": {
      "application/vnd.jupyter.widget-view+json": {
       "model_id": "d42c13dfcbba4cbda1363d9211629246",
       "version_major": 2,
       "version_minor": 0
      },
      "text/plain": [
       "Canvas(toolbar=Toolbar(toolitems=[('Home', 'Reset original view', 'home', 'home'), ('Back', 'Back to previous …"
      ]
     },
     "metadata": {},
     "output_type": "display_data"
    },
    {
     "name": "stdout",
     "output_type": "stream",
     "text": [
      "No covariances implemented for this parameter pair. If x and y are uncorrelated, you can dismiss this.\n",
      "No covariances implemented for this parameter pair. If x and y are uncorrelated, you can dismiss this.\n",
      "Solution\n",
      "m, b_perp: 2.184666204393503 -0.021589695555773322\n",
      "m, b: 2.184666204393503 -0.0518726590562558\n",
      "chi2min: 111.8268769018042 or 1.6206793753884667 per DOF\n",
      "Bootstrap: m = 2.183859686821457 ; b = -0.01834859849196038\n",
      "Bootstrap: sm = 0.4597721125101186 ; sb = 0.02184923693009281\n",
      "Bootstrap: corr(m, b) = -0.8790978440038024\n"
     ]
    }
   ],
   "source": [
    "_ = plot_results2(data, 'CAV4', 'fh2', ignore_comments=['lo_h_av'])"
   ]
  },
  {
   "cell_type": "code",
   "execution_count": 26,
   "metadata": {},
   "outputs": [
    {
     "data": {
      "application/vnd.jupyter.widget-view+json": {
       "model_id": "649056e6530c4c4a8a1b88d1fac31f70",
       "version_major": 2,
       "version_minor": 0
      },
      "text/plain": [
       "Canvas(toolbar=Toolbar(toolitems=[('Home', 'Reset original view', 'home', 'home'), ('Back', 'Back to previous …"
      ]
     },
     "metadata": {},
     "output_type": "display_data"
    },
    {
     "name": "stdout",
     "output_type": "stream",
     "text": [
      "No covariances implemented for this parameter pair. If x and y are uncorrelated, you can dismiss this.\n",
      "Solution\n",
      "m, b_perp: -33.473323718686366 4.589228099863335\n",
      "m, b: -33.473323718686366 153.6852530463585\n",
      "chi2min: 27.64731511238186 or 0.378730344005231 per DOF\n",
      "Bootstrap: m = -15908.802538801627 ; b = 4.496638120704161\n",
      "Bootstrap: sm = 143653.47528905264 ; sb = 0.9124198944830613\n",
      "Bootstrap: corr(m, b) = -0.010784332183861161\n"
     ]
    }
   ],
   "source": [
    "_ = plot_results2(data, 'x_o', 'fh2')"
   ]
  },
  {
   "cell_type": "code",
   "execution_count": 29,
   "metadata": {},
   "outputs": [
    {
     "data": {
      "application/vnd.jupyter.widget-view+json": {
       "model_id": "834372ab8fd6433f8550f98355914bbe",
       "version_major": 2,
       "version_minor": 0
      },
      "text/plain": [
       "Canvas(toolbar=Toolbar(toolitems=[('Home', 'Reset original view', 'home', 'home'), ('Back', 'Back to previous …"
      ]
     },
     "metadata": {},
     "output_type": "display_data"
    },
    {
     "name": "stdout",
     "output_type": "stream",
     "text": [
      "No covariances implemented for this parameter pair. If x and y are uncorrelated, you can dismiss this.\n",
      "No covariances implemented for this parameter pair. If x and y are uncorrelated, you can dismiss this.\n",
      "Solution\n",
      "m, b_perp: -0.23644945760530706 0.31824508684008995\n",
      "m, b: -0.23644945760530706 0.32702038004309963\n",
      "chi2min: 275.9500232054144 or 3.9992756986291944 per DOF\n",
      "Bootstrap: m = -0.14618111084362628 ; b = 0.2427473652822088\n",
      "Bootstrap: sm = 0.2898598139709144 ; sb = 0.23967351342422158\n",
      "Bootstrap: corr(m, b) = -0.9914227797220463\n"
     ]
    }
   ],
   "source": [
    "_ = plot_results2(data, 'gamma', 'fh2', ignore_comments=['lo_h_av'])"
   ]
  },
  {
   "cell_type": "code",
   "execution_count": 30,
   "metadata": {},
   "outputs": [
    {
     "data": {
      "application/vnd.jupyter.widget-view+json": {
       "model_id": "5ebdf2d0c05c41fdb81b1934da740f02",
       "version_major": 2,
       "version_minor": 0
      },
      "text/plain": [
       "Canvas(toolbar=Toolbar(toolitems=[('Home', 'Reset original view', 'home', 'home'), ('Back', 'Back to previous …"
      ]
     },
     "metadata": {},
     "output_type": "display_data"
    },
    {
     "name": "stdout",
     "output_type": "stream",
     "text": [
      "No covariances implemented for this parameter pair. If x and y are uncorrelated, you can dismiss this.\n",
      "Solution\n",
      "m, b_perp: 0.21605012759420775 -0.15049054362211758\n",
      "m, b: 0.21605012759420775 -0.15396276003240125\n",
      "chi2min: 98.21894946470378 or 1.3454650611603258 per DOF\n",
      "Bootstrap: m = 0.18400693428414985 ; b = -0.10072129498044116\n",
      "Bootstrap: sm = 0.11686999089118907 ; sb = 0.17820793398339163\n",
      "Bootstrap: corr(m, b) = -0.9975866936794268\n"
     ]
    }
   ],
   "source": [
    "_ = plot_results2(data, 'bump_area', 'fh2')"
   ]
  },
  {
   "cell_type": "markdown",
   "metadata": {},
   "source": [
    "# FM90 parameters versus R(V)"
   ]
  },
  {
   "cell_type": "code",
   "execution_count": 34,
   "metadata": {},
   "outputs": [
    {
     "data": {
      "application/vnd.jupyter.widget-view+json": {
       "model_id": "22663316953b43aab91dee0181ea9fbb",
       "version_major": 2,
       "version_minor": 0
      },
      "text/plain": [
       "Canvas(toolbar=Toolbar(toolitems=[('Home', 'Reset original view', 'home', 'home'), ('Back', 'Back to previous …"
      ]
     },
     "metadata": {},
     "output_type": "display_data"
    },
    {
     "name": "stdout",
     "output_type": "stream",
     "text": [
      "No covariances implemented for this parameter pair. If x and y are uncorrelated, you can dismiss this.\n",
      "Solution\n",
      "m, b_perp: 2.7170972181887048 -0.20286456231278496\n",
      "m, b: 2.7170972181887048 -0.5873486945102839\n",
      "chi2min: 82.21532397036128 or 1.1262373146624833 per DOF\n",
      "Bootstrap: m = 2.7236393606578333 ; b = -0.200895904392685\n",
      "Bootstrap: sm = 0.4112407850564881 ; sb = 0.016813974827684017\n",
      "Bootstrap: corr(m, b) = -0.954723845447261\n"
     ]
    }
   ],
   "source": [
    "_ = plot_results2(data, '1_RV', 'CAV2')"
   ]
  },
  {
   "cell_type": "code",
   "execution_count": 36,
   "metadata": {},
   "outputs": [
    {
     "data": {
      "application/vnd.jupyter.widget-view+json": {
       "model_id": "92f74258679e4846990a973d2cb13b50",
       "version_major": 2,
       "version_minor": 0
      },
      "text/plain": [
       "Canvas(toolbar=Toolbar(toolitems=[('Home', 'Reset original view', 'home', 'home'), ('Back', 'Back to previous …"
      ]
     },
     "metadata": {},
     "output_type": "display_data"
    },
    {
     "name": "stdout",
     "output_type": "stream",
     "text": [
      "No covariances implemented for this parameter pair. If x and y are uncorrelated, you can dismiss this.\n",
      "Solution\n",
      "m, b_perp: 8.553706222619855 -0.17387457131547843\n",
      "m, b: 8.553706222619855 -1.4974012075316476\n",
      "chi2min: 83.85835585150276 or 1.1487446007055173 per DOF\n",
      "Bootstrap: m = 8.559629319691911 ; b = -0.16914986739475282\n",
      "Bootstrap: sm = 1.799823844406072 ; sb = 0.025294776980287943\n",
      "Bootstrap: corr(m, b) = -0.9504861656097529\n"
     ]
    }
   ],
   "source": [
    "_ = plot_results2(data, '1_RV', 'CAV3')"
   ]
  },
  {
   "cell_type": "code",
   "execution_count": 38,
   "metadata": {},
   "outputs": [
    {
     "data": {
      "application/vnd.jupyter.widget-view+json": {
       "model_id": "cc25e57dd74e409bb0362db443cad43b",
       "version_major": 2,
       "version_minor": 0
      },
      "text/plain": [
       "Canvas(toolbar=Toolbar(toolitems=[('Home', 'Reset original view', 'home', 'home'), ('Back', 'Back to previous …"
      ]
     },
     "metadata": {},
     "output_type": "display_data"
    },
    {
     "name": "stdout",
     "output_type": "stream",
     "text": [
      "No covariances implemented for this parameter pair. If x and y are uncorrelated, you can dismiss this.\n",
      "Solution\n",
      "m, b_perp: 1.6705870266785705 -0.19672069421129335\n",
      "m, b: 1.6705870266785705 -0.3830178192969282\n",
      "chi2min: 125.53220413147899 or 1.7196192346777943 per DOF\n",
      "Bootstrap: m = 1.9904086728492083 ; b = -0.1943084032257188\n",
      "Bootstrap: sm = 1.3506156558369327 ; sb = 0.037784437009572285\n",
      "Bootstrap: corr(m, b) = -0.839826962454736\n"
     ]
    }
   ],
   "source": [
    "_ = plot_results2(data, '1_RV', 'CAV4')"
   ]
  },
  {
   "cell_type": "code",
   "execution_count": 40,
   "metadata": {},
   "outputs": [
    {
     "data": {
      "application/vnd.jupyter.widget-view+json": {
       "model_id": "bc2298dfbcbb4249add6b3adf515ac36",
       "version_major": 2,
       "version_minor": 0
      },
      "text/plain": [
       "Canvas(toolbar=Toolbar(toolitems=[('Home', 'Reset original view', 'home', 'home'), ('Back', 'Back to previous …"
      ]
     },
     "metadata": {},
     "output_type": "display_data"
    },
    {
     "name": "stdout",
     "output_type": "stream",
     "text": [
      "No covariances implemented for this parameter pair. If x and y are uncorrelated, you can dismiss this.\n",
      "Solution\n",
      "m, b_perp: 7.435095932190435 -2.9875980962005864\n",
      "m, b: 7.435095932190435 -22.41308985175227\n",
      "chi2min: 125.60670368373985 or 1.720639776489587 per DOF\n",
      "Bootstrap: m = -105259.72121524284 ; b = 0.4945604034668527\n",
      "Bootstrap: sm = 941000.4328277209 ; sb = 2.81656294663271\n",
      "Bootstrap: corr(m, b) = -0.15882406857385606\n"
     ]
    }
   ],
   "source": [
    "_ = plot_results2(data, 'RV', 'gamma')"
   ]
  },
  {
   "cell_type": "code",
   "execution_count": 43,
   "metadata": {},
   "outputs": [
    {
     "data": {
      "application/vnd.jupyter.widget-view+json": {
       "model_id": "216d408f4a424a069f11e1ce26a8ad1e",
       "version_major": 2,
       "version_minor": 0
      },
      "text/plain": [
       "Canvas(toolbar=Toolbar(toolitems=[('Home', 'Reset original view', 'home', 'home'), ('Back', 'Back to previous …"
      ]
     },
     "metadata": {},
     "output_type": "display_data"
    },
    {
     "name": "stdout",
     "output_type": "stream",
     "text": [
      "No covariances implemented for this parameter pair. If x and y are uncorrelated, you can dismiss this.\n",
      "Solution\n",
      "m, b_perp: 0.06719993339607427 4.550667069512774\n",
      "m, b: 0.06719993339607427 4.560930517387212\n",
      "chi2min: 27.73845087211643 or 0.3799787790700881 per DOF\n",
      "Bootstrap: m = 0.06932043385230914 ; b = 4.532505439996624\n",
      "Bootstrap: sm = 0.0882547158609506 ; sb = 0.051392659256533704\n",
      "Bootstrap: corr(m, b) = -0.9082702379051643\n"
     ]
    }
   ],
   "source": [
    "_ = plot_results2(data, '1_RV', 'x_o')"
   ]
  },
  {
   "cell_type": "code",
   "execution_count": 45,
   "metadata": {},
   "outputs": [
    {
     "data": {
      "application/vnd.jupyter.widget-view+json": {
       "model_id": "7b424cf9a02448239103eb133f7dbab0",
       "version_major": 2,
       "version_minor": 0
      },
      "text/plain": [
       "Canvas(toolbar=Toolbar(toolitems=[('Home', 'Reset original view', 'home', 'home'), ('Back', 'Back to previous …"
      ]
     },
     "metadata": {},
     "output_type": "display_data"
    },
    {
     "name": "stdout",
     "output_type": "stream",
     "text": [
      "No covariances implemented for this parameter pair. If x and y are uncorrelated, you can dismiss this.\n",
      "Solution\n",
      "m, b_perp: 10.175338094186083 -0.13732782675840888\n",
      "m, b: 10.175338094186083 -1.4040889233647362\n",
      "chi2min: 54.42643346630988 or 0.7455675817302724 per DOF\n",
      "Bootstrap: m = 10.273777435504117 ; b = -0.13550649288239217\n",
      "Bootstrap: sm = 1.3031846490820544 ; sb = 0.021158156633777424\n",
      "Bootstrap: corr(m, b) = -0.9789027004898957\n"
     ]
    }
   ],
   "source": [
    "_ = plot_results2(data, '1_RV', 'bump_area')"
   ]
  },
  {
   "cell_type": "markdown",
   "metadata": {},
   "source": [
    "# FM90 parameters in native form (E(lambda - V)/E(B-V)) versus R(V)"
   ]
  },
  {
   "cell_type": "code",
   "execution_count": 48,
   "metadata": {},
   "outputs": [
    {
     "data": {
      "application/vnd.jupyter.widget-view+json": {
       "model_id": "47bcc6091fe1466fa3b48ab1374d151e",
       "version_major": 2,
       "version_minor": 0
      },
      "text/plain": [
       "Canvas(toolbar=Toolbar(toolitems=[('Home', 'Reset original view', 'home', 'home'), ('Back', 'Back to previous …"
      ]
     },
     "metadata": {},
     "output_type": "display_data"
    },
    {
     "name": "stdout",
     "output_type": "stream",
     "text": [
      "No covariances implemented for this parameter pair. If x and y are uncorrelated, you can dismiss this.\n",
      "Solution\n",
      "m, b_perp: 6.321099745625062 -0.1892960156136236\n",
      "m, b: 6.321099745625062 -1.2114398098041066\n",
      "chi2min: 92.67664165083116 or 1.2695430363127556 per DOF\n",
      "Bootstrap: m = 5.859579653989263 ; b = -0.14899040469872746\n",
      "Bootstrap: sm = 2.014706885858072 ; sb = 0.14841512456711642\n",
      "Bootstrap: corr(m, b) = -0.8523270422820928\n"
     ]
    }
   ],
   "source": [
    "_ = plot_results2(data, '1_RV', 'C2')"
   ]
  },
  {
   "cell_type": "code",
   "execution_count": 50,
   "metadata": {},
   "outputs": [
    {
     "data": {
      "application/vnd.jupyter.widget-view+json": {
       "model_id": "67e45ab4ff98430d8089f598637528ca",
       "version_major": 2,
       "version_minor": 0
      },
      "text/plain": [
       "Canvas(toolbar=Toolbar(toolitems=[('Home', 'Reset original view', 'home', 'home'), ('Back', 'Back to previous …"
      ]
     },
     "metadata": {},
     "output_type": "display_data"
    },
    {
     "name": "stdout",
     "output_type": "stream",
     "text": [
      "No covariances implemented for this parameter pair. If x and y are uncorrelated, you can dismiss this.\n",
      "Solution\n",
      "m, b_perp: 14.774725820542718 -0.0819222561152492\n",
      "m, b: 14.774725820542718 -1.2131480831015666\n",
      "chi2min: 82.57946228828433 or 1.1312255107984155 per DOF\n",
      "Bootstrap: m = 11.627240913016486 ; b = 0.040797817315745284\n",
      "Bootstrap: sm = 10.487048283428194 ; sb = 0.2935585305811774\n",
      "Bootstrap: corr(m, b) = -0.747684917946712\n"
     ]
    }
   ],
   "source": [
    "_ = plot_results2(data, '1_RV', 'C3')"
   ]
  },
  {
   "cell_type": "code",
   "execution_count": 51,
   "metadata": {},
   "outputs": [
    {
     "data": {
      "application/vnd.jupyter.widget-view+json": {
       "model_id": "82355a3502f54d24824348da519c78c3",
       "version_major": 2,
       "version_minor": 0
      },
      "text/plain": [
       "Canvas(toolbar=Toolbar(toolitems=[('Home', 'Reset original view', 'home', 'home'), ('Back', 'Back to previous …"
      ]
     },
     "metadata": {},
     "output_type": "display_data"
    },
    {
     "name": "stdout",
     "output_type": "stream",
     "text": [
      "No covariances implemented for this parameter pair. If x and y are uncorrelated, you can dismiss this.\n",
      "Solution\n",
      "m, b_perp: 2.295987441982398 -0.14560816701390772\n",
      "m, b: 2.295987441982398 -0.36464769097358984\n",
      "chi2min: 111.02285430130729 or 1.5208610178261273 per DOF\n",
      "Bootstrap: m = 19865.805643224707 ; b = -0.14272592628288738\n",
      "Bootstrap: sm = 141154.3708334347 ; sb = 0.06662752309473384\n",
      "Bootstrap: corr(m, b) = -0.32691550031740585\n"
     ]
    }
   ],
   "source": [
    "_ = plot_results2(data, '1_RV', 'C4')"
   ]
  },
  {
   "cell_type": "code",
   "execution_count": 52,
   "metadata": {},
   "outputs": [
    {
     "data": {
      "application/vnd.jupyter.widget-view+json": {
       "model_id": "a13dc92e524748459e4dd608c60cec50",
       "version_major": 2,
       "version_minor": 0
      },
      "text/plain": [
       "Canvas(toolbar=Toolbar(toolitems=[('Home', 'Reset original view', 'home', 'home'), ('Back', 'Back to previous …"
      ]
     },
     "metadata": {},
     "output_type": "display_data"
    },
    {
     "name": "stdout",
     "output_type": "stream",
     "text": [
      "No covariances implemented for this parameter pair. If x and y are uncorrelated, you can dismiss this.\n",
      "Solution\n",
      "m, b_perp: 1864170.7257290224 -0.297379896298616\n",
      "m, b: 1864170.7257290224 -554366.8971002921\n",
      "chi2min: 169.4381687339302 or 2.3210708045743864 per DOF\n",
      "Bootstrap: m = 2284283.417720678 ; b = -0.00947465255150158\n",
      "Bootstrap: sm = 11352981.088653978 ; sb = 0.3413964474992961\n",
      "Bootstrap: corr(m, b) = -0.16423917739541039\n"
     ]
    }
   ],
   "source": [
    "_ = plot_results2(data, '1_RV', 'gamma')"
   ]
  },
  {
   "cell_type": "code",
   "execution_count": 54,
   "metadata": {},
   "outputs": [
    {
     "data": {
      "application/vnd.jupyter.widget-view+json": {
       "model_id": "246e7ce8d4944606960737a298ec4007",
       "version_major": 2,
       "version_minor": 0
      },
      "text/plain": [
       "Canvas(toolbar=Toolbar(toolitems=[('Home', 'Reset original view', 'home', 'home'), ('Back', 'Back to previous …"
      ]
     },
     "metadata": {},
     "output_type": "display_data"
    },
    {
     "name": "stdout",
     "output_type": "stream",
     "text": [
      "No covariances implemented for this parameter pair. If x and y are uncorrelated, you can dismiss this.\n",
      "Solution\n",
      "m, b_perp: 0.06719993339607427 4.550667069512774\n",
      "m, b: 0.06719993339607427 4.560930517387212\n",
      "chi2min: 27.73845087211643 or 0.3799787790700881 per DOF\n",
      "Bootstrap: m = 0.07700495873768189 ; b = 4.532369094318488\n",
      "Bootstrap: sm = 0.07482369684244833 ; sb = 0.04894287422855798\n",
      "Bootstrap: corr(m, b) = -0.884388063635655\n"
     ]
    }
   ],
   "source": [
    "_ = plot_results2(data, '1_RV', 'x_o')"
   ]
  },
  {
   "cell_type": "markdown",
   "metadata": {},
   "source": [
    "# Some FM90 parameters versus A(V)"
   ]
  },
  {
   "cell_type": "code",
   "execution_count": 83,
   "metadata": {},
   "outputs": [
    {
     "data": {
      "application/vnd.jupyter.widget-view+json": {
       "model_id": "b4b3d018cc7b4a738d57943ae28daaf8",
       "version_major": 2,
       "version_minor": 0
      },
      "text/plain": [
       "Canvas(toolbar=Toolbar(toolitems=[('Home', 'Reset original view', 'home', 'home'), ('Back', 'Back to previous …"
      ]
     },
     "metadata": {},
     "output_type": "display_data"
    },
    {
     "name": "stdout",
     "output_type": "stream",
     "text": [
      "No covariances implemented for this parameter pair. If x and y are uncorrelated, you can dismiss this.\n",
      "Solution\n",
      "m, b_perp: -0.0077265514038351146 0.1112026287685957\n",
      "m, b: -0.0077265514038351146 0.11120594809509478\n",
      "chi2min: 861.2241000208925 or 11.797590411245103 per DOF\n",
      "Bootstrap: m = -0.0076596640783868205 ; b = 0.11155171632409754\n",
      "Bootstrap: sm = 0.01600477234059564 ; sb = 0.02668923109269146\n",
      "Bootstrap: corr(m, b) = -0.9705082706261177\n"
     ]
    },
    {
     "name": "stderr",
     "output_type": "stream",
     "text": [
      "/Users/dvandeputte/Projects/FUSE H2/plotting_git/linear_ortho_fit.py:313: RuntimeWarning: invalid value encountered in true_divide\n",
      "  L_grid /= np.sum(L_grid)\n"
     ]
    },
    {
     "ename": "ValueError",
     "evalue": "probabilities contain NaN",
     "output_type": "error",
     "traceback": [
      "\u001b[0;31m---------------------------------------------------------------------------\u001b[0m",
      "\u001b[0;31mValueError\u001b[0m                                Traceback (most recent call last)",
      "\u001b[0;32m/var/folders/ls/5hq1qd290zb7dmjtzf31p6dr000122/T/ipykernel_29966/3416048617.py\u001b[0m in \u001b[0;36m<module>\u001b[0;34m\u001b[0m\n\u001b[0;32m----> 1\u001b[0;31m \u001b[0m_\u001b[0m \u001b[0;34m=\u001b[0m \u001b[0mplot_results2\u001b[0m\u001b[0;34m(\u001b[0m\u001b[0mdata\u001b[0m\u001b[0;34m,\u001b[0m \u001b[0;34m'AV'\u001b[0m\u001b[0;34m,\u001b[0m \u001b[0;34m'CAV4'\u001b[0m\u001b[0;34m)\u001b[0m\u001b[0;34m\u001b[0m\u001b[0;34m\u001b[0m\u001b[0m\n\u001b[0m",
      "\u001b[0;32m~/Projects/FUSE H2/plotting_git/plot_fuse_results.py\u001b[0m in \u001b[0;36mplot_results2\u001b[0;34m(data, xparam, yparam, pxrange, pyrange, data_comp, data_bohlin, data_shull, figsize, alpha, ignore_comments, mark_comments)\u001b[0m\n\u001b[1;32m    322\u001b[0m         \u001b[0mm\u001b[0m \u001b[0;34m-\u001b[0m \u001b[0ma\u001b[0m \u001b[0;34m*\u001b[0m \u001b[0msm\u001b[0m\u001b[0;34m,\u001b[0m \u001b[0mm\u001b[0m \u001b[0;34m+\u001b[0m \u001b[0ma\u001b[0m \u001b[0;34m*\u001b[0m \u001b[0msm\u001b[0m\u001b[0;34m,\u001b[0m \u001b[0mb_perp\u001b[0m \u001b[0;34m-\u001b[0m \u001b[0ma\u001b[0m \u001b[0;34m*\u001b[0m \u001b[0msb_perp\u001b[0m\u001b[0;34m,\u001b[0m \u001b[0mb_perp\u001b[0m \u001b[0;34m+\u001b[0m \u001b[0ma\u001b[0m \u001b[0;34m*\u001b[0m \u001b[0msb_perp\u001b[0m\u001b[0;34m,\u001b[0m \u001b[0mxs\u001b[0m\u001b[0;34m,\u001b[0m \u001b[0mys\u001b[0m\u001b[0;34m,\u001b[0m \u001b[0mcovs\u001b[0m\u001b[0;34m\u001b[0m\u001b[0;34m\u001b[0m\u001b[0m\n\u001b[1;32m    323\u001b[0m     )\n\u001b[0;32m--> 324\u001b[0;31m     random_m, random_b_perp = linear_ortho_fit.sample_likelihood(\n\u001b[0m\u001b[1;32m    325\u001b[0m         \u001b[0mm\u001b[0m\u001b[0;34m,\u001b[0m \u001b[0mb_perp\u001b[0m\u001b[0;34m,\u001b[0m \u001b[0mm_grid\u001b[0m\u001b[0;34m,\u001b[0m \u001b[0mb_perp_grid\u001b[0m\u001b[0;34m,\u001b[0m \u001b[0mlogL_grid\u001b[0m\u001b[0;34m\u001b[0m\u001b[0;34m\u001b[0m\u001b[0m\n\u001b[1;32m    326\u001b[0m     )\n",
      "\u001b[0;32m~/Projects/FUSE H2/plotting_git/linear_ortho_fit.py\u001b[0m in \u001b[0;36msample_likelihood\u001b[0;34m(m, b_perp, m_grid, b_perp_grid, logL_grid)\u001b[0m\n\u001b[1;32m    315\u001b[0m     \u001b[0;31m# sample m and b, using L as weight\u001b[0m\u001b[0;34m\u001b[0m\u001b[0;34m\u001b[0m\u001b[0;34m\u001b[0m\u001b[0m\n\u001b[1;32m    316\u001b[0m     \u001b[0mL_flat\u001b[0m \u001b[0;34m=\u001b[0m \u001b[0mL_grid\u001b[0m\u001b[0;34m.\u001b[0m\u001b[0mflatten\u001b[0m\u001b[0;34m(\u001b[0m\u001b[0;34m)\u001b[0m\u001b[0;34m\u001b[0m\u001b[0;34m\u001b[0m\u001b[0m\n\u001b[0;32m--> 317\u001b[0;31m     \u001b[0mrandom_flat_i\u001b[0m \u001b[0;34m=\u001b[0m \u001b[0mnp\u001b[0m\u001b[0;34m.\u001b[0m\u001b[0mrandom\u001b[0m\u001b[0;34m.\u001b[0m\u001b[0mdefault_rng\u001b[0m\u001b[0;34m(\u001b[0m\u001b[0;34m)\u001b[0m\u001b[0;34m.\u001b[0m\u001b[0mchoice\u001b[0m\u001b[0;34m(\u001b[0m\u001b[0mlen\u001b[0m\u001b[0;34m(\u001b[0m\u001b[0mL_flat\u001b[0m\u001b[0;34m)\u001b[0m\u001b[0;34m,\u001b[0m \u001b[0msize\u001b[0m\u001b[0;34m=\u001b[0m\u001b[0;36m1000\u001b[0m\u001b[0;34m,\u001b[0m \u001b[0mp\u001b[0m\u001b[0;34m=\u001b[0m\u001b[0mL_flat\u001b[0m\u001b[0;34m)\u001b[0m\u001b[0;34m\u001b[0m\u001b[0;34m\u001b[0m\u001b[0m\n\u001b[0m\u001b[1;32m    318\u001b[0m     \u001b[0;31m# translate from flat indices, to 0th and 1st indices\u001b[0m\u001b[0;34m\u001b[0m\u001b[0;34m\u001b[0m\u001b[0;34m\u001b[0m\u001b[0m\n\u001b[1;32m    319\u001b[0m     \u001b[0mrandom_m_i\u001b[0m\u001b[0;34m,\u001b[0m \u001b[0mrandom_b_i\u001b[0m \u001b[0;34m=\u001b[0m \u001b[0mnp\u001b[0m\u001b[0;34m.\u001b[0m\u001b[0munravel_index\u001b[0m\u001b[0;34m(\u001b[0m\u001b[0mrandom_flat_i\u001b[0m\u001b[0;34m,\u001b[0m \u001b[0mL_grid\u001b[0m\u001b[0;34m.\u001b[0m\u001b[0mshape\u001b[0m\u001b[0;34m)\u001b[0m\u001b[0;34m\u001b[0m\u001b[0;34m\u001b[0m\u001b[0m\n",
      "\u001b[0;32m_generator.pyx\u001b[0m in \u001b[0;36mnumpy.random._generator.Generator.choice\u001b[0;34m()\u001b[0m\n",
      "\u001b[0;31mValueError\u001b[0m: probabilities contain NaN"
     ]
    }
   ],
   "source": [
    "_ = plot_results2(data, 'AV', 'CAV4')"
   ]
  }
 ],
 "metadata": {
  "anaconda-cloud": {},
  "kernelspec": {
   "display_name": "Python 3 (ipykernel)",
   "language": "python",
   "name": "python3"
  },
  "language_info": {
   "codemirror_mode": {
    "name": "ipython",
    "version": 3
   },
   "file_extension": ".py",
   "mimetype": "text/x-python",
   "name": "python",
   "nbconvert_exporter": "python",
   "pygments_lexer": "ipython3",
   "version": "3.8.10"
  }
 },
 "nbformat": 4,
 "nbformat_minor": 4
}
