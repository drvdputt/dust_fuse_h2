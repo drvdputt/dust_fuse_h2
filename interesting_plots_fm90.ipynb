{
 "cells": [
  {
   "cell_type": "code",
   "execution_count": null,
   "metadata": {},
   "outputs": [],
   "source": [
    "%load_ext autoreload\n",
    "%autoreload 2\n",
    "\n",
    "from get_data import (get_merged_table, get_bohlin78, get_shull2021)\n",
    "from plot_fuse_results import plot_results2, plot_results_scatter\n",
    "from matplotlib import pyplot as plt\n",
    "from astropy.table import Column\n",
    "from mpl_toolkits import mplot3d\n",
    "import numpy as np\n",
    "\n",
    "plt.ioff()\n",
    "\n",
    "import matplotlib as mpl\n",
    "mpl.rcParams['figure.dpi'] = 120\n",
    "%matplotlib widget"
   ]
  },
  {
   "cell_type": "markdown",
   "metadata": {},
   "source": [
    "# Get the data"
   ]
  },
  {
   "cell_type": "markdown",
   "metadata": {},
   "source": [
    "### data for Gordon09 extinction curve sightlines"
   ]
  },
  {
   "cell_type": "code",
   "execution_count": null,
   "metadata": {},
   "outputs": [],
   "source": [
    "data = get_merged_table()\n",
    "# add comments for certain stars here\n",
    "data.add_column(Column(['no'] * len(data), dtype='<U16', name='comment'))\n",
    "def set_comment(name, s):\n",
    "    data['comment'][data['Name'] == name] = s\n",
    "\n",
    "for name in [\"HD200775\", \"HD164906\", \"HD045314\", \"HD206773\"]:\n",
    "    set_comment(name, \"lo_h_av\")\n",
    "\n",
    "set_comment(\"HD096675\", \"hi_h_av\")\n",
    "data"
   ]
  },
  {
   "cell_type": "markdown",
   "metadata": {},
   "source": [
    "## suspicions about distances\n",
    "\n",
    "Can we trust Gaia DR2 distances?\n",
    "\n"
   ]
  },
  {
   "cell_type": "code",
   "execution_count": null,
   "metadata": {},
   "outputs": [],
   "source": [
    "plt.errorbar(data['dphot'], data['d_gaia'], xerr=data['d_unc'], yerr=data['d_gaia_unc'], ls='none')\n",
    "plt.show()"
   ]
  },
  {
   "cell_type": "code",
   "execution_count": null,
   "metadata": {},
   "outputs": [],
   "source": [
    "plt.figure()\n",
    "plt.hist(data['dphot'], bins=20)\n"
   ]
  },
  {
   "cell_type": "code",
   "execution_count": null,
   "metadata": {},
   "outputs": [],
   "source": [
    "plt.figure()\n",
    "plt.hist(data['d_gaia'][data['d_gaia'] < 15], bins=20)"
   ]
  },
  {
   "cell_type": "code",
   "execution_count": null,
   "metadata": {},
   "outputs": [],
   "source": [
    "plt.figure()\n",
    "plt.hist(data['d'], bins=20)"
   ]
  },
  {
   "cell_type": "markdown",
   "metadata": {},
   "source": [
    "### data for Gordon09 comparision star sightlines"
   ]
  },
  {
   "cell_type": "code",
   "execution_count": null,
   "metadata": {},
   "outputs": [],
   "source": [
    "data_comp = get_merged_table(comp=True)"
   ]
  },
  {
   "cell_type": "markdown",
   "metadata": {},
   "source": [
    "### data for Bohlin 78 Copernicus sightlines"
   ]
  },
  {
   "cell_type": "code",
   "execution_count": null,
   "metadata": {},
   "outputs": [],
   "source": [
    "data_bohlin78 = get_bohlin78()"
   ]
  },
  {
   "cell_type": "code",
   "execution_count": null,
   "metadata": {},
   "outputs": [],
   "source": [
    "print(sorted(data.colnames))"
   ]
  },
  {
   "cell_type": "markdown",
   "metadata": {},
   "source": [
    "# FM90 params versus fraction H2"
   ]
  },
  {
   "cell_type": "markdown",
   "metadata": {
    "tags": []
   },
   "source": [
    "## Specific wavelength extinction\n",
    "fh2 vs 1000 (or 1100) shows some structure.\n",
    "fh2 vs 1300 none at all\n",
    "fh2 vs 4000 looks like fh2 vs AV (as expected)"
   ]
  },
  {
   "cell_type": "code",
   "execution_count": null,
   "metadata": {},
   "outputs": [],
   "source": [
    "_ = plot_results2(data, '1_RV', 'A1000_NH', mark_comments=['lo_h_av'])"
   ]
  },
  {
   "cell_type": "code",
   "execution_count": null,
   "metadata": {},
   "outputs": [],
   "source": [
    "_ = plot_results2(data, '1_RV', 'A3000_NH', mark_comments=['lo_h_av'])"
   ]
  },
  {
   "cell_type": "code",
   "execution_count": null,
   "metadata": {},
   "outputs": [],
   "source": [
    "_ = plot_results2(data, \"A1000_AV\", 'fh2', mark_comments=['lo_h_av'])"
   ]
  },
  {
   "cell_type": "code",
   "execution_count": null,
   "metadata": {},
   "outputs": [],
   "source": [
    "_ = plot_results2(data, 'CAV1', 'fh2', mark_comments=['lo_h_av'])"
   ]
  },
  {
   "cell_type": "code",
   "execution_count": null,
   "metadata": {},
   "outputs": [],
   "source": [
    "_ = plot_results2(data, 'CAV2', 'fh2', mark_comments=['lo_h_av'])"
   ]
  },
  {
   "cell_type": "code",
   "execution_count": null,
   "metadata": {},
   "outputs": [],
   "source": [
    "_ = plot_results2(data, 'CAV3', 'fh2', ignore_comments=['lo_h_av'])"
   ]
  },
  {
   "cell_type": "code",
   "execution_count": null,
   "metadata": {},
   "outputs": [],
   "source": [
    "_ = plot_results2(data, 'CAV4', 'fh2', ignore_comments=['lo_h_av'])\n",
    "_ = plot_results2(data[data['CAV4']<0.25], 'CAV4', 'fh2', ignore_comments=['lo_h_av'])"
   ]
  },
  {
   "cell_type": "code",
   "execution_count": null,
   "metadata": {},
   "outputs": [],
   "source": [
    "_ = plot_results2(data, 'x_o', 'fh2', mark_comments=['lo_h_av'])"
   ]
  },
  {
   "cell_type": "code",
   "execution_count": null,
   "metadata": {},
   "outputs": [],
   "source": [
    "_ = plot_results2(data, 'gamma', 'fh2', ignore_comments=['lo_h_av'])"
   ]
  },
  {
   "cell_type": "code",
   "execution_count": null,
   "metadata": {},
   "outputs": [],
   "source": [
    "_ = plot_results2(data, 'bump_area', 'fh2', mark_comments=['lo_h_av'])"
   ]
  },
  {
   "cell_type": "markdown",
   "metadata": {},
   "source": [
    "# Some FM90 parameters versus Gas to dust"
   ]
  },
  {
   "cell_type": "code",
   "execution_count": null,
   "metadata": {},
   "outputs": [],
   "source": [
    "fig, ax = plt.subplots()\n",
    "_ = plot_results_scatter(ax, data[data['Name'] != 'HD062542'], 'CAV4', 'NH_AV', mark_comments=['lo_h_av'], ignore_comments=['hi_h_av'])\n",
    "data['Name', 'CAV4'][data['CAV4'] > .3]"
   ]
  },
  {
   "cell_type": "code",
   "execution_count": null,
   "metadata": {},
   "outputs": [],
   "source": [
    "_ = plot_results2(data,'bump_area', 'NH_AV', ignore_comments=['lo_h_av'])"
   ]
  },
  {
   "cell_type": "code",
   "execution_count": null,
   "metadata": {},
   "outputs": [],
   "source": [
    "fig, ax = plt.subplots()\n",
    "_ = plot_results_scatter(ax, data,'CAV3', 'NH_AV', ignore_comments=['hi_h_av'])"
   ]
  },
  {
   "cell_type": "code",
   "execution_count": null,
   "metadata": {},
   "outputs": [],
   "source": [
    "fig, ax = plt.subplots()\n",
    "_ = plot_results_scatter(ax, data,'nhi', 'NH_AV', ignore_comments=['hi_h_av'])"
   ]
  },
  {
   "cell_type": "code",
   "execution_count": null,
   "metadata": {},
   "outputs": [],
   "source": [
    "fig, ax = plt.subplots()\n",
    "_ = plot_results_scatter(ax, data,'denhtot', 'NH_AV', ignore_comments=['hi_h_av'])"
   ]
  },
  {
   "cell_type": "code",
   "execution_count": null,
   "metadata": {},
   "outputs": [],
   "source": [
    "_ = plot_results2(data, 'AV', 'A1000', ignore_comments=['hi_h_av'], mark_comments=['lo_h_av'])"
   ]
  },
  {
   "cell_type": "code",
   "execution_count": null,
   "metadata": {},
   "outputs": [],
   "source": [
    "_ = plot_results2(data, 'A1000_AV', 'AV_NH', ignore_comments=['hi_h_av'], mark_comments=['lo_h_av'])"
   ]
  },
  {
   "cell_type": "raw",
   "metadata": {},
   "source": [
    "_ = plot_results2(data, 'A1000_NH', 'AV_NH', ignore_comments=['hi_h_av'], mark_comments=['lo_h_av'])"
   ]
  },
  {
   "cell_type": "code",
   "execution_count": null,
   "metadata": {},
   "outputs": [],
   "source": [
    "_ = plot_results2(data, 'A1000_AV', 'A1000_NH', ignore_comments=['hi_h_av'], mark_comments=['lo_h_av'])"
   ]
  },
  {
   "cell_type": "code",
   "execution_count": null,
   "metadata": {},
   "outputs": [],
   "source": [
    "_ = plot_results2(data, 'A1000_AV', 'AV_NH', ignore_comments=['hi_h_av'], mark_comments=['lo_h_av'])"
   ]
  },
  {
   "cell_type": "code",
   "execution_count": null,
   "metadata": {},
   "outputs": [],
   "source": []
  },
  {
   "cell_type": "markdown",
   "metadata": {},
   "source": [
    "# FM90 parameters in native form (E(lambda - V)/E(B-V)) versus R(V)"
   ]
  },
  {
   "cell_type": "code",
   "execution_count": null,
   "metadata": {},
   "outputs": [],
   "source": [
    "_ = plot_results2(data, '1_RV', 'C2')"
   ]
  },
  {
   "cell_type": "code",
   "execution_count": null,
   "metadata": {},
   "outputs": [],
   "source": [
    "_ = plot_results2(data, '1_RV', 'C3')"
   ]
  },
  {
   "cell_type": "code",
   "execution_count": null,
   "metadata": {},
   "outputs": [],
   "source": [
    "_ = plot_results2(data, '1_RV', 'C4')"
   ]
  },
  {
   "cell_type": "code",
   "execution_count": null,
   "metadata": {},
   "outputs": [],
   "source": [
    "_ = plot_results2(data, '1_RV', 'gamma')"
   ]
  },
  {
   "cell_type": "code",
   "execution_count": null,
   "metadata": {},
   "outputs": [],
   "source": [
    "_ = plot_results2(data, '1_RV', 'x_o')"
   ]
  }
 ],
 "metadata": {
  "anaconda-cloud": {},
  "kernelspec": {
   "display_name": "Python 3 (ipykernel)",
   "language": "python",
   "name": "python3"
  },
  "language_info": {
   "codemirror_mode": {
    "name": "ipython",
    "version": 3
   },
   "file_extension": ".py",
   "mimetype": "text/x-python",
   "name": "python",
   "nbconvert_exporter": "python",
   "pygments_lexer": "ipython3",
   "version": "3.9.12"
  }
 },
 "nbformat": 4,
 "nbformat_minor": 4
}
