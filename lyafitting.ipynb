{
 "cells": [
  {
   "cell_type": "markdown",
   "id": "06dd9f8d-579f-4c5b-87ec-9250de3970c9",
   "metadata": {},
   "source": [
    "# Lyman alpha fitting\n",
    "\n",
    "The equation for the cross section is (Diplas \\& Savage 1994)\n",
    "\n",
    "$ \\sigma(\\lambda) = 4.26e^{-20} \\text{cm}^2 / [6.04e^{-10}+ (\\lambda - \\lambda_0)^2] $\n",
    "\n",
    "where $\\lambda_0 = 1215.67 \\AA$. We might need a velocity doppler shift parameter for $\\lambda_0$. The model for the spectrum, with $N = N(\\text{H I})$ as a parameter, is written as\n",
    "\n",
    "$ f_m(\\lambda; N) = f_c(\\lambda) \\exp(-N \\sigma(\\lambda)) $.\n",
    "\n",
    "\n",
    "The function $f_c(\\lambda)$ describes the continuum, the flux without any lines. It is usually a constant or 1st order approximation, determined by fitting or sometimes by eye. $N(\\text{HI})$ can be found by minimizing a $\\chi^2$ function\n",
    "\n",
    "$ \\chi^2(N) = \\frac{1}{n - 1} \\sum_i \\sigma\n",
    "_c^{-1} (f_i - f_m(\\lambda_i; N))^2$. \n",
    "\n",
    "Here, a suitable noise model $\\sigma_c$ needs to be chosen. In DS94, $\\sigma_c = \\text{constant} \\times \\exp(\\sigma(\\lambda_i) N)$. This is not an error on the measurement, but rather a factor to treat the other features of the spectrum as noise. For the constant, they use the RMS deviation with respect to $f_c$, over a wavelength range outside the line, deemed to have similar noise as the line wings. \n",
    "\n",
    "The workflow goes as follows:\n",
    "1. Find a suitable approximation for the continuum.\n",
    "2. Find a suitable noise level with respect to the continuum.\n",
    "2. Mask wavelengths that have troublesome features.\n",
    "3. Optimize the $\\chi^2$ function for the remaining data points $(\\lambda_i, f_i)$, minimizing the differences between $f_i$ and $f_m(\\lambda_i)$.\n"
   ]
  },
  {
   "cell_type": "code",
   "execution_count": 3,
   "id": "96fac418-a06f-4acc-a49e-3922692362ab",
   "metadata": {},
   "outputs": [],
   "source": [
    "def sigma(l):\n",
    "    l0 = 1215.67\n",
    "    return 4.26e-20 / (6.04e-10 + np.square(l - l0))\n",
    "    \n",
    "def fmodel(fcontinuum, NHI):\n",
    "    return lambda l : fcontinuum(l) * np.exp(-NHI * sigma(l))\n",
    "\n",
    "def chi2(NHI, fc, sigma_c, wavs, fs):\n",
    "    extinctions = np.exp(NHI * sigma(l))\n",
    "    deltas = fc(wavs) - fs * extinctions\n",
    "    sigmas = sigma_c * extinctions\n",
    "    chi2 = np.square((deltas / sigmas)).sum() / (len(deltas) - 1)\n",
    "    return chi2\n"
   ]
  },
  {
   "cell_type": "code",
   "execution_count": 26,
   "id": "26b9b9f0-9bb8-43eb-b292-64334f3b1347",
   "metadata": {},
   "outputs": [],
   "source": [
    "from matplotlib import pyplot as plt\n",
    "import numpy as np\n",
    "import matplotlib as mpl\n",
    "mpl.rcParams['figure.dpi'] = 226\n",
    "\n",
    "%matplotlib inline\n",
    "\n",
    "def prepare_axes():\n",
    "    plt.xlabel('wavelength')\n",
    "    plt.ylabel('flux (erg cm$^{-2}$s$^{-1}\\\\AA^{-1}$)')\n",
    "    \n",
    "def plot_iue_order(table, index):\n",
    "    data_column_name = 'ABS_CAL'\n",
    "    flux = table[index][data_column_name]\n",
    "    wavs = [table[index]['WAVELENGTH'] + table[index]['DELTAW'] * i for i in range(len(flux))]\n",
    "#    dq = table[index]['QUALITY']\n",
    " #   good = dq == -2  \n",
    "  #  plt.plot(wavs[good], flux[good])\n",
    "    plt.plot(wavs, flux)\n",
    "    \n",
    "def plot_stis_order(table, index):\n",
    "    wavs = table[index]['WAVELENGTH']\n",
    "    data_column_name = 'FLUX'\n",
    "    flux = table[index][data_column_name]\n",
    "    plt.plot(wavs, flux)\n",
    "    \n",
    "def plot_function_at_lya(f, ylabel='f(x)', *args):\n",
    "    x = np.linspace(1100, 1300, 1000)\n",
    "    y = f(x, *args)\n",
    "    plt.xlabel('wavelength')\n",
    "    "
   ]
  },
  {
   "cell_type": "markdown",
   "id": "f141fa0f-ca49-43b5-8dc2-99a354621878",
   "metadata": {},
   "source": [
    "## Data exploration"
   ]
  },
  {
   "cell_type": "code",
   "execution_count": 27,
   "id": "e7483b42-16a2-44e1-b12b-0b7e018a5b4b",
   "metadata": {},
   "outputs": [],
   "source": [
    "# open some data\n",
    "from astropy.io import fits\n",
    "from astropy.table import Table\n",
    "from pathlib import Path"
   ]
  },
  {
   "cell_type": "code",
   "execution_count": 28,
   "id": "1f64dfe3-26ba-44d7-b170-245afc243284",
   "metadata": {},
   "outputs": [],
   "source": [
    "def sort_by_wav(wavs, flux):\n",
    "    idxs = np.argsort(wavs)\n",
    "    return wavs[idxs], flux[idxs]"
   ]
  },
  {
   "cell_type": "markdown",
   "id": "62e95ccc-6924-46c4-8447-4c4c09b19fde",
   "metadata": {},
   "source": [
    "### STIS data looks like this"
   ]
  },
  {
   "cell_type": "code",
   "execution_count": 29,
   "id": "85881da4-fe7b-4edd-b7e1-4dc201ce2c7d",
   "metadata": {},
   "outputs": [
    {
     "name": "stdout",
     "output_type": "stream",
     "text": [
      "Filename: /Users/dvandeputte/Projects/FUSE H2/plotting_git/data/HD094493/mastDownload/HST/o54306010/o54306010_x1d.fits\n",
      "No.    Name      Ver    Type      Cards   Dimensions   Format\n",
      "  0  PRIMARY       1 PrimaryHDU     294   ()      \n",
      "  1  SCI           1 BinTableHDU    157   52R x 19C   [1I, 1I, 1024D, 1024E, 1024E, 1024E, 1024E, 1024E, 1024E, 1024I, 1E, 1E, 1I, 1E, 1E, 1E, 1E, 1024E, 1E]   \n"
     ]
    }
   ],
   "source": [
    "spectrum_file = '/Users/dvandeputte/Projects/FUSE H2/plotting_git/data/HD094493/mastDownload/HST/o54306010/o54306010_x1d.fits'\n",
    "fits.info(spectrum_file)"
   ]
  },
  {
   "cell_type": "code",
   "execution_count": 30,
   "id": "b63849bf-c702-422c-959c-d974659090ef",
   "metadata": {
    "scrolled": true,
    "tags": []
   },
   "outputs": [
    {
     "name": "stderr",
     "output_type": "stream",
     "text": [
      "WARNING: UnitsWarning: 'erg/s/cm**2/Angstrom' contains multiple slashes, which is discouraged by the FITS standard [astropy.units.format.generic]\n"
     ]
    },
    {
     "data": {
      "text/html": [
       "<i>Table masked=True length=52</i>\n",
       "<table id=\"table140631200307904\" class=\"table-striped table-bordered table-condensed\">\n",
       "<thead><tr><th>SPORDER</th><th>NELEM</th><th>WAVELENGTH [1024]</th><th>GROSS [1024]</th><th>BACKGROUND [1024]</th><th>NET [1024]</th><th>FLUX [1024]</th><th>ERROR [1024]</th><th>NET_ERROR [1024]</th><th>DQ [1024]</th><th>A2CENTER</th><th>EXTRSIZE</th><th>MAXSRCH</th><th>BK1SIZE</th><th>BK2SIZE</th><th>BK1OFFST</th><th>BK2OFFST</th><th>EXTRLOCY [1024]</th><th>OFFSET</th></tr></thead>\n",
       "<thead><tr><th></th><th></th><th>Angstroms</th><th>Counts/s</th><th>Counts/s</th><th>Counts/s</th><th>erg / (Angstrom cm2 s)</th><th>erg / (Angstrom cm2 s)</th><th>Counts/s</th><th></th><th>pix</th><th>pix</th><th>pix</th><th>pix</th><th>pix</th><th>pix</th><th>pix</th><th>pix</th><th>pix</th></tr></thead>\n",
       "<thead><tr><th>int16</th><th>int16</th><th>float64</th><th>float32</th><th>float32</th><th>float32</th><th>float32</th><th>float32</th><th>float32</th><th>int16</th><th>float32</th><th>float32</th><th>int16</th><th>float32</th><th>float32</th><th>float32</th><th>float32</th><th>float32</th><th>float32</th></tr></thead>\n",
       "<tr><td>311</td><td>1024</td><td>1350.747921548162 ..         1356.850121451195</td><td>-6.138127e-06 ..        1.558715</td><td>0.02532305 ..      0.02835393</td><td>-0.02532918 ..        1.530361</td><td>-2.742387e-12 ..    1.224867e-10</td><td>9.557633e-19 ..    2.829744e-12</td><td>8.827604e-09 ..      0.03535509</td><td>2564 ..        2564</td><td>975.5471</td><td>7</td><td>10</td><td>5</td><td>5</td><td>-11.1656</td><td>11.16562</td><td>978.0134 ..        973.0856</td><td>0.08340175</td></tr>\n",
       "<tr><td>312</td><td>1024</td><td>1346.410244888081 ..           1352.4926673921</td><td>-6.138127e-06 ..        2.722371</td><td>0.02633303 ..       0.0329361</td><td>-0.02633917 ..        2.689435</td><td>-2.490436e-12 ..     1.86509e-10</td><td>8.346726e-19 ..    3.240248e-12</td><td>8.827604e-09 ..      0.04672393</td><td>2564 ..        2564</td><td>953.2839</td><td>7</td><td>10</td><td>5</td><td>5</td><td>-11.095</td><td>11.09502</td><td>955.8002 ..        950.7726</td><td>0.05422524</td></tr>\n",
       "<tr><td>313</td><td>1024</td><td>1342.100161580133 ..          1348.16290768566</td><td>-6.138127e-06 ..         2.01172</td><td>0.02612872 ..      0.03576207</td><td>-0.02613486 ..        1.975958</td><td>-2.258255e-12 ..    1.232868e-10</td><td>7.627735e-19 ..     2.50605e-12</td><td>8.827604e-09 ..       0.0401653</td><td>2564 ..        2564</td><td>931.178</td><td>7</td><td>10</td><td>5</td><td>5</td><td>-11.0251</td><td>11.02514</td><td>933.744 ..        928.6172</td><td>0.03742611</td></tr>\n",
       "<tr><td>314</td><td>1024</td><td>1337.817409333146 ..         1343.860579312885</td><td>-6.138127e-06 ..        1.721681</td><td>0.02911996 ..       0.0351702</td><td>-0.0291261 ..         1.68651</td><td>-2.424509e-12 ..    9.965075e-11</td><td>7.348257e-19 ..    2.195513e-12</td><td>8.827604e-09 ..      0.03715732</td><td>2564 ..        2564</td><td>909.2513</td><td>7</td><td>10</td><td>5</td><td>5</td><td>-10.956</td><td>10.95597</td><td>911.8664 ..        906.6412</td><td>0.0561737</td></tr>\n",
       "<tr><td>315</td><td>1024</td><td>1333.561729173103 ..         1339.585422578695</td><td>-6.138127e-06 ..        3.443774</td><td>0.02829671 ..      0.03849363</td><td>-0.02830285 ..         3.40528</td><td>-2.330373e-12 ..    1.959344e-10</td><td>7.268388e-19 ..    3.023705e-12</td><td>8.827604e-09 ..      0.05255108</td><td>2564 ..        2564</td><td>887.4185</td><td>7</td><td>10</td><td>5</td><td>5</td><td>-10.8875</td><td>10.88749</td><td>890.0827 ..        884.7596</td><td>0.02684189</td></tr>\n",
       "<tr><td>316</td><td>1024</td><td>1329.332865390879 ..         1335.337181059502</td><td>-6.138127e-06 ..        1.181984</td><td>0.02893804 ..      0.03234684</td><td>-0.02894418 ..        1.149637</td><td>-2.391438e-12 ..    6.526903e-11</td><td>7.29358e-19 ..    1.747931e-12</td><td>8.827604e-09 ..      0.03078775</td><td>2564 ..        2564</td><td>865.7549</td><td>7</td><td>10</td><td>5</td><td>5</td><td>-10.8197</td><td>10.8197</td><td>868.4677 ..        863.0474</td><td>0.02599614</td></tr>\n",
       "<tr><td>317</td><td>1024</td><td>1325.130565490814 ..         1331.115601551806</td><td>-6.138127e-06 ..        2.128347</td><td>0.03059974 ..       0.0406127</td><td>-0.03060588 ..        2.087735</td><td>-2.551874e-12 ..    1.177995e-10</td><td>7.360328e-19 ..    2.331073e-12</td><td>8.827604e-09 ..      0.04131312</td><td>2564 ..        2564</td><td>844.1549</td><td>7</td><td>10</td><td>5</td><td>5</td><td>-10.7526</td><td>10.75257</td><td>846.9161 ..        841.3992</td><td>-0.05033708</td></tr>\n",
       "<tr><td>318</td><td>1024</td><td>1320.954580140388 ..         1326.920434021724</td><td>-6.138127e-06 ..        2.081517</td><td>0.03169031 ..       0.0416286</td><td>-0.03169645 ..        2.039888</td><td>-2.681354e-12 ..    1.150198e-10</td><td>7.46769e-19 ..    2.303685e-12</td><td>8.827604e-09 ..      0.04085609</td><td>2564 ..        2564</td><td>822.7504</td><td>7</td><td>10</td><td>5</td><td>5</td><td>-10.6861</td><td>10.68611</td><td>825.5596 ..        819.9467</td><td>-0.06905999</td></tr>\n",
       "<tr><td>319</td><td>1024</td><td>1316.804663120756 ..         1322.751431555498</td><td>-6.138127e-06 ..        2.158127</td><td>0.03150049 ..      0.04309058</td><td>-0.03150663 ..        2.115036</td><td>-2.705502e-12 ..    1.193069e-10</td><td>7.580339e-19 ..    2.346674e-12</td><td>8.827604e-09 ..      0.04160113</td><td>2564 ..        2564</td><td>801.5174</td><td>7</td><td>10</td><td>5</td><td>5</td><td>-10.6203</td><td>10.62028</td><td>804.3744 ..         798.666</td><td>-0.05268191</td></tr>\n",
       "<tr><td>...</td><td>...</td><td>...</td><td>...</td><td>...</td><td>...</td><td>...</td><td>...</td><td>...</td><td>...</td><td>...</td><td>...</td><td>...</td><td>...</td><td>...</td><td>...</td><td>...</td><td>...</td><td>...</td></tr>\n",
       "<tr><td>353</td><td>1024</td><td>1189.643704823266 ..         1194.994554734838</td><td>-6.138127e-06 ..       0.4283844</td><td>0.00797364 ..      0.01825371</td><td>-0.007979779 ..       0.4101306</td><td>-3.266488e-12 ..    7.377825e-11</td><td>3.613541e-18 ..    3.334351e-12</td><td>8.827604e-09 ..      0.01853554</td><td>2564 ..        2564</td><td>151.656</td><td>7</td><td>10</td><td>5</td><td>5</td><td>-8.67234</td><td>8.67234</td><td>155.9753 ..        147.3451</td><td>0.1672821</td></tr>\n",
       "<tr><td>354</td><td>1024</td><td>1186.272079593678 ..         1191.606837163718</td><td>-6.138127e-06 ..        0.501627</td><td>0.00836487 ..      0.01917985</td><td>-0.008371009 ..       0.4824471</td><td>-3.771744e-12 ..    9.439245e-11</td><td>3.977473e-18 ..    3.924287e-12</td><td>8.827604e-09 ..      0.02005734</td><td>2564 ..        2564</td><td>134.3714</td><td>7</td><td>10</td><td>5</td><td>5</td><td>-8.62086</td><td>8.620863</td><td>138.7295 ..        130.0219</td><td>0.09844959</td></tr>\n",
       "<tr><td>355</td><td>1024</td><td>1182.919381426489 ..         1188.238122125156</td><td>-6.138127e-06 ..        0.419118</td><td>0.00725875 ..      0.01910526</td><td>-0.007264889 ..       0.4000128</td><td>-3.626522e-12 ..    8.546552e-11</td><td>4.406606e-18 ..    3.917209e-12</td><td>8.827604e-09 ..       0.0183341</td><td>2564 ..        2564</td><td>117.1963</td><td>7</td><td>10</td><td>5</td><td>5</td><td>-8.56956</td><td>8.569562</td><td>121.5929 ..        112.8083</td><td>0.04119188</td></tr>\n",
       "<tr><td>356</td><td>1024</td><td>1179.585451601915 ..         1184.888250399849</td><td>-6.138127e-06 ..       0.2905277</td><td>0.007172953 ..      0.01698953</td><td>-0.007179091 ..       0.2735382</td><td>-3.996455e-12 ..    6.412588e-11</td><td>4.914148e-18 ..    3.578572e-12</td><td>8.827604e-09 ..      0.01526491</td><td>2564 ..        2564</td><td>100.2451</td><td>7</td><td>10</td><td>5</td><td>5</td><td>-8.51842</td><td>8.518425</td><td>104.68 ..        95.81894</td><td>0.1107775</td></tr>\n",
       "<tr><td>357</td><td>1024</td><td>1176.270133171024 ..         1181.557064543625</td><td>-6.138127e-06 ..         0.36541</td><td>0.004701846 ..      0.01776603</td><td>-0.004707984 ..        0.347644</td><td>-2.933796e-12 ..    8.985272e-11</td><td>5.50095e-18 ..    4.424637e-12</td><td>8.827604e-09 ..      0.01711911</td><td>2564 ..        2564</td><td>83.20351</td><td>7</td><td>10</td><td>5</td><td>5</td><td>-8.46744</td><td>8.467439</td><td>87.67647 ..         78.7393</td><td>-0.006430408</td></tr>\n",
       "<tr><td>358</td><td>1024</td><td>1172.973270931072 ..         1178.244408862752</td><td>-6.138127e-06 ..       0.3010422</td><td>0.004736212 ..      0.01516125</td><td>-0.00474235 ..        0.285881</td><td>-3.329648e-12 ..     8.18749e-11</td><td>6.197941e-18 ..    4.450409e-12</td><td>8.827604e-09 ..      0.01553941</td><td>2564 ..        2564</td><td>66.25017</td><td>7</td><td>10</td><td>5</td><td>5</td><td>-8.41659</td><td>8.416592</td><td>70.76101 ..        61.74815</td><td>-0.1309945</td></tr>\n",
       "<tr><td>359</td><td>1024</td><td>1169.694711401273 ..         1174.950129389646</td><td>-6.138127e-06 ..      0.09614377</td><td>0.005397738 ..      0.01015435</td><td>-0.005403877 ..      0.08598942</td><td>-4.28635e-12 ..    2.728674e-11</td><td>7.002047e-18 ..    2.787225e-12</td><td>8.827604e-09 ..     0.008783454</td><td>2564 ..        2564</td><td>49.73428</td><td>7</td><td>10</td><td>5</td><td>5</td><td>-8.36587</td><td>8.365869</td><td>54.28276 ..        45.19466</td><td>0.08696972</td></tr>\n",
       "<tr><td>360</td><td>1024</td><td>1166.434302798941 ..         1171.674073858996</td><td>-6.138127e-06 ..        0.229756</td><td>0.004869149 ..      0.01261288</td><td>-0.004875287 ..       0.2171432</td><td>-4.376036e-12 ..     7.67315e-11</td><td>7.923617e-18 ..    4.796987e-12</td><td>8.827604e-09 ..      0.01357504</td><td>2564 ..        2564</td><td>32.94589</td><td>7</td><td>10</td><td>5</td><td>5</td><td>-8.31526</td><td>8.315258</td><td>37.53186 ..        28.36887</td><td>-0.06179943</td></tr>\n",
       "<tr><td>361</td><td>1024</td><td>1163.191895016213 ..         1168.416091684277</td><td>-6.138127e-06 ..       0.2518347</td><td>0.003527501 ..      0.01236352</td><td>-0.003533639 ..       0.2394711</td><td>-3.630319e-12 ..    9.521257e-11</td><td>9.069127e-18 ..    5.650738e-12</td><td>8.827604e-09 ..      0.01421229</td><td>2564 ..        2564</td><td>16.504</td><td>7</td><td>10</td><td>5</td><td>5</td><td>-8.26475</td><td>8.264747</td><td>21.12721 ..        11.88982</td><td>0.04237024</td></tr>\n",
       "<tr><td>362</td><td>1024</td><td>1159.967339596227 ..         1165.176033934648</td><td>-5.884912e-06 ..               0</td><td>0.004723746 ..               0</td><td>-0.004729631 ..               0</td><td>-5.716132e-12 ..               0</td><td>1.044638e-17 ..               0</td><td>8.643526e-09 ..               0</td><td>2564 ..        2048</td><td>0.05085973</td><td>7</td><td>10</td><td>5</td><td>5</td><td>-8.21432</td><td>8.214322</td><td>4.711108 ..        -4.60029</td><td>0.04237024</td></tr>\n",
       "</table>"
      ],
      "text/plain": [
       "<Table masked=True length=52>\n",
       "  SPORDER      NELEM    ...          EXTRLOCY [1024]                OFFSET    \n",
       "                        ...                pix                       pix      \n",
       "   int16       int16    ...              float32                   float32    \n",
       "----------- ----------- ... ---------------------------------- ---------------\n",
       "        311        1024 ...        978.0134 ..        973.0856      0.08340175\n",
       "        312        1024 ...        955.8002 ..        950.7726      0.05422524\n",
       "        313        1024 ...         933.744 ..        928.6172      0.03742611\n",
       "        314        1024 ...        911.8664 ..        906.6412       0.0561737\n",
       "        315        1024 ...        890.0827 ..        884.7596      0.02684189\n",
       "        316        1024 ...        868.4677 ..        863.0474      0.02599614\n",
       "        317        1024 ...        846.9161 ..        841.3992     -0.05033708\n",
       "        318        1024 ...        825.5596 ..        819.9467     -0.06905999\n",
       "        319        1024 ...        804.3744 ..         798.666     -0.05268191\n",
       "        ...         ... ...                                ...             ...\n",
       "        353        1024 ...        155.9753 ..        147.3451       0.1672821\n",
       "        354        1024 ...        138.7295 ..        130.0219      0.09844959\n",
       "        355        1024 ...        121.5929 ..        112.8083      0.04119188\n",
       "        356        1024 ...          104.68 ..        95.81894       0.1107775\n",
       "        357        1024 ...        87.67647 ..         78.7393    -0.006430408\n",
       "        358        1024 ...        70.76101 ..        61.74815      -0.1309945\n",
       "        359        1024 ...        54.28276 ..        45.19466      0.08696972\n",
       "        360        1024 ...        37.53186 ..        28.36887     -0.06179943\n",
       "        361        1024 ...        21.12721 ..        11.88982      0.04237024\n",
       "        362        1024 ...        4.711108 ..        -4.60029      0.04237024"
      ]
     },
     "execution_count": 30,
     "metadata": {},
     "output_type": "execute_result"
    }
   ],
   "source": [
    "t = Table.read(spectrum_file)\n",
    "t"
   ]
  },
  {
   "cell_type": "code",
   "execution_count": 31,
   "id": "fdd19a8d-c0dc-4934-9da5-b179f09cb3aa",
   "metadata": {},
   "outputs": [
    {
     "data": {
      "text/plain": [
       "masked_array(data=[9.539074741307189e-19, 7.652660623247431e-12,\n",
       "                   2.509131574388035e-12, ..., 1.2035910462726562e-12,\n",
       "                   1.6853768814578673e-12, 2.279012915884504e-12],\n",
       "             mask=[False, False, False, ..., False, False, False],\n",
       "       fill_value=1e+20,\n",
       "            dtype=float32)"
      ]
     },
     "execution_count": 31,
     "metadata": {},
     "output_type": "execute_result"
    }
   ],
   "source": [
    "t['ERROR'][20]"
   ]
  },
  {
   "cell_type": "code",
   "execution_count": 32,
   "id": "7bd8e83f-4a56-4796-b5f8-45ce20c7e48e",
   "metadata": {},
   "outputs": [],
   "source": [
    "import numpy as np\n",
    "def stis_merge_orders(t, extra_columns=None):\n",
    "    \"\"\"\n",
    "    Put the data from all spectral orders of a set of STIS data into one big array\n",
    "    \n",
    "    t: Table containing STIS data\n",
    "    \n",
    "    extra_columns: list of strings, indicating columns other than 'WAVELENGTH' and 'FLUX' to be merged and sorted\n",
    "    \n",
    "    Returns\n",
    "    -------\n",
    "        allwavs, allflux: ndarray, wavelengths and fluxes, sorted by wavelength\n",
    "        \n",
    "        list of arrays: if extra_columns is not None, the requested columns merged and sorted in the same way\n",
    "    \"\"\"\n",
    "    allwavs = np.concatenate(t['WAVELENGTH'])\n",
    "    allflux = np.concatenate(t['FLUX'])\n",
    "    idxs = np.argsort(allwavs)\n",
    "    \n",
    "    if extra_columns is None:\n",
    "        return allwavs[idxs], allflux[idxs]\n",
    "    else:    \n",
    "        extras = []\n",
    "        for name in extra_columns:\n",
    "            if not isinstance(t[name], np.ndarray):\n",
    "                print(\"This STIS data column does not have per-wavelength data: \", name)\n",
    "                raise\n",
    "            extras.append(np.concatenate(t[name]))\n",
    "        return allwavs[idxs], allflux[idxs], [array[idxs] for array in extras]\n",
    "\n",
    "def stis_binned(t, numbins):\n",
    "    wavmin = 1150\n",
    "    wavmax = 1280\n",
    "    wavbins = np.linspace(wavmin, wavmax, numbins, endpoint=True)\n",
    "\n",
    "    wavs, flux, (errs,) = stis_merge_orders(t, extra_columns=['ERROR'])\n",
    "    \n",
    "    # np.digitize returns list of indices. 1 means that the data point is between wav[0] (first) and wav[1]\n",
    "    # n-1 means between wav[n-2] and wav[n-1] (last). 0 and n mean out of range.\n",
    "    bs = np.digitize(wavs, wavbins)\n",
    "    newwavs = np.zeros(len(wavbins) - 1)\n",
    "    newflux = np.zeros(len(wavbins) - 1)\n",
    "    for i in range(0, len(wavbins) - 1): \n",
    "        b = i + 1 # from 1 to n-1\n",
    "        in_bin = bs == i+1\n",
    "        \n",
    "        weights = 1 / np.square(errs[in_bin])\n",
    "        newwavs[i] = np.average(wavs[in_bin], weights=weights)\n",
    "        newflux[i] = np.average(flux[in_bin], weights=weights)\n",
    "        \n",
    "    return newwavs, newflux\n",
    "    "
   ]
  },
  {
   "cell_type": "code",
   "execution_count": 33,
   "id": "0c1333a5-2deb-40a7-a623-69953bc24cfe",
   "metadata": {},
   "outputs": [
    {
     "name": "stderr",
     "output_type": "stream",
     "text": [
      "/Users/dvandeputte/opt/anaconda3/lib/python3.8/site-packages/numpy/lib/function_base.py:412: RuntimeWarning: invalid value encountered in true_divide\n",
      "  avg = np.multiply(a, wgt, dtype=result_dtype).sum(axis)/scl\n",
      "<ipython-input-32-5a40e05ef52c>:48: UserWarning: Warning: converting a masked element to nan.\n",
      "  newwavs[i] = np.average(wavs[in_bin], weights=weights)\n",
      "<ipython-input-32-5a40e05ef52c>:49: UserWarning: Warning: converting a masked element to nan.\n",
      "  newflux[i] = np.average(flux[in_bin], weights=weights)\n"
     ]
    },
    {
     "data": {
      "text/plain": [
       "[<matplotlib.lines.Line2D at 0x7fe740899bb0>]"
      ]
     },
     "execution_count": 33,
     "metadata": {},
     "output_type": "execute_result"
    },
    {
     "data": {
      "image/png": "[encoded data removed]",
      "text/plain": [
       "<Figure size 432x288 with 1 Axes>"
      ]
     },
     "metadata": {
      "needs_background": "light"
     },
     "output_type": "display_data"
    }
   ],
   "source": [
    "# try plotting this\n",
    "x, y = stis_merge_orders(t)\n",
    "xbin, ybin = stis_binned(t, 1000)\n",
    "plt.plot(x, y)\n",
    "plt.plot(xbin, ybin)"
   ]
  },
  {
   "cell_type": "markdown",
   "id": "6cebce7d-95fa-4124-a352-e798369dd8e7",
   "metadata": {},
   "source": [
    "### IUE high res like this"
   ]
  },
  {
   "cell_type": "code",
   "execution_count": 38,
   "id": "958f5b86-74fa-4138-9283-97efb1067880",
   "metadata": {},
   "outputs": [
    {
     "name": "stdout",
     "output_type": "stream",
     "text": [
      "Filename: /Users/dvandeputte/Projects/FUSE H2/plotting_git/data/HD197770/swp49267.mxhi.gz\n",
      "No.    Name      Ver    Type      Cards   Dimensions   Format\n",
      "  0  PRIMARY       1 PrimaryHDU     434   ()      \n",
      "  1  MEHI          1 BinTableHDU     61   60R x 17C   [1B, 1I, 1D, 1I, 1D, 1E, 1E, 768E, 768E, 768E, 768I, 768E, 768E, 1I, 1I, 1E, 7E]   \n"
     ]
    }
   ],
   "source": [
    "spectrum_file = '/Users/dvandeputte/Projects/FUSE H2/plotting_git/data/HD197770/swp49267.mxhi.gz'\n",
    "fits.info(spectrum_file)"
   ]
  },
  {
   "cell_type": "code",
   "execution_count": 39,
   "id": "f2810f24-0e90-402d-8950-fc0248c96aa9",
   "metadata": {
    "scrolled": true,
    "tags": []
   },
   "outputs": [
    {
     "data": {
      "text/html": [
       "<i>Table length=60</i>\n",
       "<table id=\"table140629910035760\" class=\"table-striped table-bordered table-condensed\">\n",
       "<thead><tr><th>ORDER</th><th>NPOINTS</th><th>WAVELENGTH</th><th>STARTPIX</th><th>DELTAW</th><th>SLIT HEIGHT</th><th>LINE_FOUND</th><th>NET [768]</th><th>BACKGROUND [768]</th><th>NOISE [768]</th><th>QUALITY [768]</th><th>RIPPLE [768]</th><th>ABS_CAL [768]</th><th>START-BKG</th><th>END-BKG</th><th>SCALE_BKG</th><th>COEFF [7]</th></tr></thead>\n",
       "<thead><tr><th></th><th></th><th>ANGSTROM</th><th>PIXEL</th><th>ANGSTROM</th><th>PIXEL</th><th>PIXEL</th><th>FN</th><th>FN</th><th>FN</th><th></th><th>FN</th><th>ERG/CM2/S/A</th><th>PIXEL</th><th>PIXEL</th><th></th><th></th></tr></thead>\n",
       "<thead><tr><th>uint8</th><th>int16</th><th>float64</th><th>int16</th><th>float64</th><th>float32</th><th>float32</th><th>float32</th><th>float32</th><th>float32</th><th>int16</th><th>float32</th><th>float32</th><th>int16</th><th>int16</th><th>float32</th><th>float32</th></tr></thead>\n",
       "<tr><td>125</td><td>532</td><td>1097.3169813308818</td><td>116</td><td>0.028543843462381435</td><td>4.079994</td><td>128.39</td><td>0.0 .. 0.0</td><td>84.66054 .. 87.43197</td><td>0.0 .. 0.0</td><td>-2 .. -2</td><td>0.0 .. 0.0</td><td>0.0 .. 0.0</td><td>274</td><td>493</td><td>172.47168</td><td>7.0865216 .. 0.0</td></tr>\n",
       "<tr><td>124</td><td>542</td><td>1106.0037572528506</td><td>111</td><td>0.028762647437967387</td><td>4.080002</td><td>132.99</td><td>0.0 .. 0.0</td><td>84.386856 .. 87.46859</td><td>0.0 .. 0.0</td><td>-2 .. -2</td><td>0.0 .. 0.0</td><td>0.0 .. 0.0</td><td>193</td><td>559</td><td>325.6137</td><td>3.6561356 .. 0.0</td></tr>\n",
       "<tr><td>123</td><td>550</td><td>1114.8617652625421</td><td>107</td><td>0.028985153803489094</td><td>4.080002</td><td>137.76</td><td>0.0 .. 0.0</td><td>84.48971 .. 87.43659</td><td>0.0 .. 0.0</td><td>-2 .. -2</td><td>0.0 .. 0.0</td><td>0.0 .. 0.0</td><td>220</td><td>559</td><td>241.53601</td><td>5.032422 .. 0.0</td></tr>\n",
       "<tr><td>122</td><td>558</td><td>1123.8659401337761</td><td>103</td><td>0.02921146477391005</td><td>4.080002</td><td>142.7</td><td>0.0 .. 0.0</td><td>84.233 .. 87.4565</td><td>0.0 .. 0.0</td><td>-2 .. -2</td><td>0.0 .. 0.0</td><td>0.0 .. 0.0</td><td>166</td><td>604</td><td>383.0404</td><td>3.096445 .. 0.0</td></tr>\n",
       "<tr><td>121</td><td>568</td><td>1132.9904336297634</td><td>98</td><td>0.029441685943266932</td><td>4.080002</td><td>147.82</td><td>0.0 .. 0.0</td><td>84.051 .. 87.49953</td><td>0.0 .. 0.0</td><td>-2 .. -2</td><td>0.0 .. 0.0</td><td>0.0 .. 0.0</td><td>166</td><td>628</td><td>395.49884</td><td>3.004145 .. 0.0</td></tr>\n",
       "<tr><td>120</td><td>576</td><td>1142.2976079345299</td><td>94</td><td>0.029675926403465114</td><td>4.080002</td><td>153.12</td><td>0.0 .. 0.0</td><td>84.63915 .. 87.580826</td><td>0.0 .. 0.0</td><td>-2 .. -2</td><td>0.0 .. 0.0</td><td>0.0 .. 0.0</td><td>139</td><td>652</td><td>412.67572</td><td>2.8236604 .. 0.0</td></tr>\n",
       "<tr><td>119</td><td>586</td><td>1151.7321749668185</td><td>89</td><td>0.02991429903756769</td><td>4.080002</td><td>158.92</td><td>0.0 .. 0.0</td><td>87.16516 .. 87.54254</td><td>0.0 .. 0.0</td><td>-2 .. -2</td><td>0.0 .. 0.0</td><td>0.0 .. 0.0</td><td>139</td><td>652</td><td>426.88086</td><td>2.7345126 .. 0.0</td></tr>\n",
       "<tr><td>118</td><td>592</td><td>1161.3878450792374</td><td>86</td><td>0.030156920433098696</td><td>4.080002</td><td>164.8</td><td>0.0 .. 0.0</td><td>90.53308 .. 87.42347</td><td>0.0 .. 0.0</td><td>-2 .. -2</td><td>0.0 .. 0.0</td><td>0.0 .. 0.0</td><td>112</td><td>679</td><td>440.25604</td><td>2.6517665 .. 0.0</td></tr>\n",
       "<tr><td>117</td><td>600</td><td>1171.1789783193854</td><td>82</td><td>0.0304039111974313</td><td>4.080002</td><td>170.78</td><td>0.0 .. 0.0</td><td>94.206825 .. 87.299355</td><td>0.0 .. 0.0</td><td>-2 .. -2</td><td>0.0 .. 0.0</td><td>0.0 .. 0.0</td><td>112</td><td>679</td><td>452.8023</td><td>2.5848572 .. 0.0</td></tr>\n",
       "<tr><td>...</td><td>...</td><td>...</td><td>...</td><td>...</td><td>...</td><td>...</td><td>...</td><td>...</td><td>...</td><td>...</td><td>...</td><td>...</td><td>...</td><td>...</td><td>...</td><td>...</td></tr>\n",
       "<tr><td>75</td><td>609</td><td>1826.2539641902097</td><td>74</td><td>0.04716803733151905</td><td>6.660034</td><td>566.88275</td><td>0.0 .. 0.0</td><td>248.2256 .. 211.27092</td><td>0.0 .. 0.0</td><td>-2 .. -2</td><td>0.0 .. 0.0</td><td>0.0 .. 0.0</td><td>85</td><td>652</td><td>122.33905</td><td>5.8712935 .. 0.06665683</td></tr>\n",
       "<tr><td>74</td><td>589</td><td>1851.3559439871833</td><td>84</td><td>0.04793488954874858</td><td>6.920044</td><td>581.69403</td><td>0.0 .. 0.0</td><td>256.32028 .. 213.11841</td><td>0.0 .. 0.0</td><td>-2 .. -2</td><td>0.0 .. 0.0</td><td>0.0 .. 0.0</td><td>85</td><td>652</td><td>93.61273</td><td>7.4876256 .. 0.09814548</td></tr>\n",
       "<tr><td>73</td><td>569</td><td>1877.1585106511302</td><td>94</td><td>0.04859825267330254</td><td>7.1000366</td><td>596.89233</td><td>0.0 .. 0.0</td><td>262.15305 .. 218.614</td><td>0.0 .. 0.0</td><td>-2 .. -2</td><td>0.0 .. 0.0</td><td>0.0 .. 0.0</td><td>85</td><td>652</td><td>83.151184</td><td>8.250746 .. 0.12800543</td></tr>\n",
       "<tr><td>72</td><td>541</td><td>1903.9643340228063</td><td>108</td><td>0.049250981146213894</td><td>7.3599854</td><td>612.5727</td><td>0.0 .. 0.0</td><td>264.8334 .. 214.84254</td><td>0.0 .. 0.0</td><td>-2 .. -2</td><td>0.0 .. 0.0</td><td>0.0 .. 0.0</td><td>85</td><td>652</td><td>97.42267</td><td>6.8975306 .. 0.12610888</td></tr>\n",
       "<tr><td>71</td><td>513</td><td>1931.3412985623913</td><td>122</td><td>0.05027684436071269</td><td>7.6800537</td><td>628.61694</td><td>0.0 .. 0.0</td><td>277.10397 .. 225.1434</td><td>0.0 .. 0.0</td><td>-2 .. -2</td><td>0.0 .. 0.0</td><td>0.0 .. 0.0</td><td>85</td><td>652</td><td>114.494995</td><td>5.7668023 .. 0.10621296</td></tr>\n",
       "<tr><td>70</td><td>475</td><td>1959.8959739097866</td><td>141</td><td>0.051109322764551234</td><td>7.960022</td><td>645.3122</td><td>0.0 .. 0.0</td><td>310.82907 .. 235.76176</td><td>0.0 .. 0.0</td><td>-2 .. -2</td><td>0.0 .. 0.0</td><td>0.0 .. 0.0</td><td>85</td><td>652</td><td>133.22089</td><td>4.902751 .. 0.09610205</td></tr>\n",
       "<tr><td>69</td><td>435</td><td>1989.250408504179</td><td>161</td><td>0.05194856615317515</td><td>8.23999</td><td>662.44714</td><td>0.0 .. 0.0</td><td>332.9987 .. 244.61813</td><td>0.0 .. 0.0</td><td>-2 .. -2</td><td>0.0 .. 0.0</td><td>0.0 .. 0.0</td><td>85</td><td>652</td><td>148.00195</td><td>4.422748 .. 0.0846358</td></tr>\n",
       "<tr><td>68</td><td>383</td><td>2019.8462427787108</td><td>187</td><td>0.05290322789152595</td><td>8.299988</td><td>679.9798</td><td>0.0 .. 0.0</td><td>324.05722 .. 281.88443</td><td>0.0 .. 0.0</td><td>-2 .. -2</td><td>0.0 .. 0.0</td><td>0.0 .. 0.0</td><td>85</td><td>652</td><td>174.68451</td><td>3.7784345 .. 0.0680976</td></tr>\n",
       "<tr><td>67</td><td>317</td><td>2051.46371168579</td><td>220</td><td>0.0539073922613618</td><td>8.460022</td><td>697.9739</td><td>0.0 .. 0.0</td><td>327.89603 .. 261.39276</td><td>0.0 .. 0.0</td><td>-2 .. -2</td><td>0.0 .. 0.0</td><td>0.0 .. 0.0</td><td>85</td><td>652</td><td>173.77612</td><td>3.840718 .. 0.08967998</td></tr>\n",
       "<tr><td>66</td><td>223</td><td>2084.8519085255666</td><td>267</td><td>0.05556686020235615</td><td>8.719971</td><td>716.49133</td><td>0.0 .. 0.0</td><td>351.02634 .. 308.6986</td><td>0.0 .. 0.0</td><td>-2 .. -2</td><td>0.0 .. 0.0</td><td>0.0 .. 0.0</td><td>85</td><td>652</td><td>184.30273</td><td>3.673368 .. 0.15992223</td></tr>\n",
       "</table>"
      ],
      "text/plain": [
       "<Table length=60>\n",
       "ORDER NPOINTS     WAVELENGTH     ... END-BKG SCALE_BKG         COEFF [7]       \n",
       "                   ANGSTROM      ...  PIXEL                                    \n",
       "uint8  int16       float64       ...  int16   float32           float32        \n",
       "----- ------- ------------------ ... ------- ---------- -----------------------\n",
       "  125     532 1097.3169813308818 ...     493  172.47168        7.0865216 .. 0.0\n",
       "  124     542 1106.0037572528506 ...     559   325.6137        3.6561356 .. 0.0\n",
       "  123     550 1114.8617652625421 ...     559  241.53601         5.032422 .. 0.0\n",
       "  122     558 1123.8659401337761 ...     604   383.0404         3.096445 .. 0.0\n",
       "  121     568 1132.9904336297634 ...     628  395.49884         3.004145 .. 0.0\n",
       "  120     576 1142.2976079345299 ...     652  412.67572        2.8236604 .. 0.0\n",
       "  119     586 1151.7321749668185 ...     652  426.88086        2.7345126 .. 0.0\n",
       "  118     592 1161.3878450792374 ...     679  440.25604        2.6517665 .. 0.0\n",
       "  117     600 1171.1789783193854 ...     679   452.8023        2.5848572 .. 0.0\n",
       "  ...     ...                ... ...     ...        ...                     ...\n",
       "   75     609 1826.2539641902097 ...     652  122.33905 5.8712935 .. 0.06665683\n",
       "   74     589 1851.3559439871833 ...     652   93.61273 7.4876256 .. 0.09814548\n",
       "   73     569 1877.1585106511302 ...     652  83.151184  8.250746 .. 0.12800543\n",
       "   72     541 1903.9643340228063 ...     652   97.42267 6.8975306 .. 0.12610888\n",
       "   71     513 1931.3412985623913 ...     652 114.494995 5.7668023 .. 0.10621296\n",
       "   70     475 1959.8959739097866 ...     652  133.22089  4.902751 .. 0.09610205\n",
       "   69     435  1989.250408504179 ...     652  148.00195   4.422748 .. 0.0846358\n",
       "   68     383 2019.8462427787108 ...     652  174.68451  3.7784345 .. 0.0680976\n",
       "   67     317   2051.46371168579 ...     652  173.77612  3.840718 .. 0.08967998\n",
       "   66     223 2084.8519085255666 ...     652  184.30273  3.673368 .. 0.15992223"
      ]
     },
     "execution_count": 39,
     "metadata": {},
     "output_type": "execute_result"
    }
   ],
   "source": [
    "t = Table.read(spectrum_file)\n",
    "t"
   ]
  },
  {
   "cell_type": "code",
   "execution_count": 40,
   "id": "f877b88c-8431-4ecd-9d02-ee2bc25bb65e",
   "metadata": {
    "scrolled": true,
    "tags": []
   },
   "outputs": [
    {
     "name": "stdout",
     "output_type": "stream",
     "text": [
      "1106.0037572528506\n"
     ]
    },
    {
     "data": {
      "text/plain": [
       "array([ True,  True,  True,  True,  True,  True,  True,  True,  True,\n",
       "        True,  True,  True,  True,  True,  True,  True,  True,  True,\n",
       "        True,  True,  True,  True,  True,  True,  True,  True,  True,\n",
       "        True,  True,  True,  True,  True,  True,  True,  True,  True,\n",
       "        True,  True,  True,  True,  True,  True,  True,  True,  True,\n",
       "        True,  True,  True,  True,  True,  True,  True,  True,  True,\n",
       "        True,  True,  True,  True,  True,  True,  True,  True,  True,\n",
       "        True,  True,  True,  True,  True,  True,  True,  True,  True,\n",
       "        True,  True,  True,  True,  True,  True,  True,  True,  True,\n",
       "        True,  True,  True,  True,  True,  True,  True,  True,  True,\n",
       "        True,  True,  True,  True,  True,  True,  True,  True,  True,\n",
       "        True,  True,  True,  True,  True,  True,  True,  True,  True,\n",
       "        True,  True, False, False, False, False,  True,  True,  True,\n",
       "        True,  True,  True,  True,  True,  True,  True,  True,  True,\n",
       "        True,  True,  True,  True,  True,  True,  True,  True,  True,\n",
       "        True,  True,  True,  True,  True,  True,  True,  True,  True,\n",
       "        True,  True,  True,  True,  True,  True,  True,  True,  True,\n",
       "        True,  True,  True,  True,  True,  True,  True,  True,  True,\n",
       "        True,  True,  True,  True,  True,  True,  True,  True,  True,\n",
       "        True,  True,  True,  True,  True,  True,  True,  True,  True,\n",
       "        True,  True,  True,  True,  True,  True,  True,  True,  True,\n",
       "        True,  True,  True,  True,  True,  True,  True,  True,  True,\n",
       "        True,  True,  True,  True,  True,  True,  True,  True,  True,\n",
       "        True,  True,  True,  True,  True,  True,  True,  True,  True,\n",
       "        True,  True,  True,  True,  True,  True,  True,  True,  True,\n",
       "        True,  True,  True,  True,  True,  True,  True,  True,  True,\n",
       "        True,  True,  True,  True,  True,  True,  True,  True,  True,\n",
       "        True,  True,  True,  True,  True,  True,  True,  True,  True,\n",
       "        True,  True,  True,  True,  True,  True,  True,  True,  True,\n",
       "        True,  True,  True,  True,  True,  True,  True,  True,  True,\n",
       "        True,  True,  True,  True,  True,  True, False, False, False,\n",
       "       False, False,  True,  True,  True,  True,  True,  True,  True,\n",
       "        True,  True,  True,  True,  True,  True,  True,  True,  True,\n",
       "        True,  True,  True,  True,  True,  True,  True,  True,  True,\n",
       "        True,  True,  True,  True,  True,  True,  True,  True,  True,\n",
       "        True,  True,  True,  True,  True,  True,  True,  True,  True,\n",
       "        True,  True,  True,  True,  True,  True,  True,  True,  True,\n",
       "        True,  True,  True,  True,  True,  True,  True,  True,  True,\n",
       "        True,  True,  True,  True,  True,  True,  True,  True,  True,\n",
       "        True,  True,  True,  True,  True,  True,  True,  True,  True,\n",
       "        True,  True,  True,  True,  True,  True,  True,  True,  True,\n",
       "        True,  True,  True,  True,  True,  True,  True,  True,  True,\n",
       "        True,  True,  True,  True,  True,  True,  True,  True,  True,\n",
       "        True,  True,  True,  True,  True,  True,  True,  True,  True,\n",
       "        True,  True,  True,  True,  True,  True,  True,  True,  True,\n",
       "        True,  True,  True,  True,  True,  True,  True,  True,  True,\n",
       "        True,  True,  True,  True,  True,  True,  True,  True,  True,\n",
       "        True,  True,  True,  True,  True,  True,  True,  True,  True,\n",
       "        True,  True,  True,  True,  True,  True,  True,  True,  True,\n",
       "        True,  True,  True,  True,  True,  True,  True,  True,  True,\n",
       "        True,  True,  True,  True,  True,  True,  True,  True,  True,\n",
       "        True,  True,  True,  True,  True,  True,  True,  True,  True,\n",
       "        True,  True,  True,  True,  True,  True,  True,  True,  True,\n",
       "        True,  True,  True,  True,  True,  True,  True,  True,  True,\n",
       "        True,  True,  True,  True,  True,  True,  True,  True,  True,\n",
       "        True,  True,  True,  True,  True,  True,  True,  True,  True,\n",
       "        True,  True,  True,  True,  True,  True,  True,  True,  True,\n",
       "        True,  True,  True,  True,  True,  True,  True,  True,  True,\n",
       "        True,  True,  True,  True,  True,  True,  True,  True,  True,\n",
       "        True,  True,  True,  True,  True,  True,  True,  True,  True,\n",
       "        True,  True,  True,  True,  True,  True,  True,  True,  True,\n",
       "        True,  True,  True,  True,  True,  True,  True,  True,  True,\n",
       "        True,  True,  True,  True,  True,  True,  True,  True,  True,\n",
       "        True,  True,  True,  True,  True,  True,  True,  True,  True,\n",
       "        True,  True,  True,  True,  True,  True,  True,  True,  True,\n",
       "        True,  True,  True,  True,  True,  True,  True,  True,  True,\n",
       "        True,  True,  True,  True,  True,  True,  True,  True,  True,\n",
       "        True,  True,  True,  True,  True,  True,  True,  True,  True,\n",
       "        True,  True,  True,  True,  True,  True,  True,  True,  True,\n",
       "        True,  True,  True,  True,  True,  True,  True,  True,  True,\n",
       "        True,  True, False, False, False, False, False, False, False,\n",
       "       False, False, False, False, False, False, False, False, False,\n",
       "       False, False, False, False,  True,  True,  True,  True,  True,\n",
       "        True,  True,  True,  True,  True,  True,  True,  True,  True,\n",
       "        True,  True,  True,  True,  True,  True,  True,  True,  True,\n",
       "        True,  True,  True,  True,  True,  True,  True,  True,  True,\n",
       "        True,  True,  True,  True,  True,  True,  True,  True,  True,\n",
       "        True,  True,  True,  True,  True,  True,  True,  True,  True,\n",
       "        True,  True,  True,  True,  True,  True,  True,  True,  True,\n",
       "        True,  True,  True,  True,  True,  True,  True,  True,  True,\n",
       "        True,  True,  True,  True,  True,  True,  True,  True,  True,\n",
       "        True,  True,  True,  True,  True,  True,  True,  True,  True,\n",
       "        True,  True,  True,  True,  True,  True,  True,  True,  True,\n",
       "        True,  True,  True,  True,  True,  True,  True,  True,  True,\n",
       "        True,  True,  True,  True,  True,  True,  True,  True,  True,\n",
       "        True,  True,  True])"
      ]
     },
     "execution_count": 40,
     "metadata": {},
     "output_type": "execute_result"
    }
   ],
   "source": [
    "# check the contents of one row\n",
    "row = 1\n",
    "print(t[row]['WAVELENGTH'])\n",
    "t[row]['NET'].shape\n",
    "dq = t[row]['QUALITY']\n",
    "dq == -2"
   ]
  },
  {
   "cell_type": "code",
   "execution_count": 41,
   "id": "f6006eee-68ae-4bbf-bb90-0008ed5205a4",
   "metadata": {},
   "outputs": [],
   "source": [
    "def iue_h_merge_orders(t):\n",
    "    \n",
    "    def iue_wavs(i):\n",
    "        return t[i]['WAVELENGTH'] + t[i]['DELTAW'] * np.arange(t[i]['NPOINTS'])\n",
    "    \n",
    "    def iue_flux(i):\n",
    "        pixrange = slice(t[i]['STARTPIX'], t[i]['STARTPIX'] + t[i]['NPOINTS'])\n",
    "        return t[i]['ABS_CAL'][pixrange]\n",
    "    \n",
    "    allwavs = np.concatenate([iue_wavs(i) for i in range(len(t))])\n",
    "    allflux = np.concatenate([iue_flux(i) for i in range(len(t))])\n",
    "    \n",
    "    return sort_by_wav(allwavs, allflux)"
   ]
  },
  {
   "cell_type": "code",
   "execution_count": 42,
   "id": "6d147a46-dcdb-4715-a35a-e6e2a6aa2646",
   "metadata": {},
   "outputs": [
    {
     "data": {
      "text/plain": [
       "[<matplotlib.lines.Line2D at 0x7fe740863a30>]"
      ]
     },
     "execution_count": 42,
     "metadata": {},
     "output_type": "execute_result"
    },
    {
     "data": {
      "image/png": "[encoded data removed]",
      "text/plain": [
       "<Figure size 432x288 with 1 Axes>"
      ]
     },
     "metadata": {
      "needs_background": "light"
     },
     "output_type": "display_data"
    }
   ],
   "source": [
    "allwavs, allflux = iue_h_merge_orders(t)\n",
    "plt.plot(allwavs, allflux)"
   ]
  },
  {
   "cell_type": "code",
   "execution_count": 74,
   "id": "da51a188-5c77-4a6f-bec9-b4ca23cf5c62",
   "metadata": {},
   "outputs": [
    {
     "data": {
      "image/png": "[encoded data removed]",
      "text/plain": [
       "<Figure size 432x288 with 1 Axes>"
      ]
     },
     "metadata": {
      "needs_background": "light"
     },
     "output_type": "display_data"
    }
   ],
   "source": [
    "# separate orders\n",
    "#for i in range(1, 30):\n",
    "#    plot_iue_order(t, i)\n",
    "    \n",
    "plot_iue_order(t, 14)"
   ]
  },
  {
   "cell_type": "markdown",
   "id": "5e3903fe-460a-4e22-8cff-87d403479d40",
   "metadata": {},
   "source": [
    "### IUE low res"
   ]
  },
  {
   "cell_type": "code",
   "execution_count": 58,
   "id": "7f9f33fd-6f96-4d2f-8769-b08e6dfdeb8b",
   "metadata": {},
   "outputs": [
    {
     "data": {
      "text/html": [
       "<i>Table length=1</i>\n",
       "<table id=\"table140541998730016\" class=\"table-striped table-bordered table-condensed\">\n",
       "<thead><tr><th>WAVE [495]</th><th>FLUX [495]</th><th>SIGMA [495]</th><th>QUALITY [495]</th></tr></thead>\n",
       "<thead><tr><th>Angstrom</th><th>erg / (Angstrom cm2 s)</th><th>erg / (Angstrom cm2 s)</th><th></th></tr></thead>\n",
       "<thead><tr><th>float32</th><th>float32</th><th>float32</th><th>int16</th></tr></thead>\n",
       "<tr><td>1150.5887 .. 1978.7046</td><td>2.1455602e-12 .. 1.1352243e-12</td><td>4.0577562e-13 .. 2.348361e-14</td><td>0 .. 0</td></tr>\n",
       "</table>"
      ],
      "text/plain": [
       "<Table length=1>\n",
       "      WAVE [495]                 FLUX [495]           ... QUALITY [495]\n",
       "       Angstrom            erg / (Angstrom cm2 s)     ...              \n",
       "       float32                    float32             ...     int16    \n",
       "---------------------- ------------------------------ ... -------------\n",
       "1150.5887 .. 1978.7046 2.1455602e-12 .. 1.1352243e-12 ...        0 .. 0"
      ]
     },
     "execution_count": 58,
     "metadata": {},
     "output_type": "execute_result"
    }
   ],
   "source": [
    "spectrum_file = \"/Users/dvandeputte/Projects/FUSE H2/plotting_git/data/BD+52d3210/swp34153mxlo_vo.fits\"\n",
    "t = Table.read(spectrum_file)\n",
    "t"
   ]
  }
 ],
 "metadata": {
  "kernelspec": {
   "display_name": "Python 3",
   "language": "python",
   "name": "python3"
  },
  "language_info": {
   "codemirror_mode": {
    "name": "ipython",
    "version": 3
   },
   "file_extension": ".py",
   "mimetype": "text/x-python",
   "name": "python",
   "nbconvert_exporter": "python",
   "pygments_lexer": "ipython3",
   "version": "3.8.10"
  }
 },
 "nbformat": 4,
 "nbformat_minor": 5
}
