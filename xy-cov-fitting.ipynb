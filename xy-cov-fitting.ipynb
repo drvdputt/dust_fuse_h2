{
 "cells": [
  {
   "cell_type": "markdown",
   "id": "9f0df6d5-1acb-4cb4-a26c-7103a726d946",
   "metadata": {},
   "source": [
    "# Fitting with $cov(x_i,y_i) \\neq 0$\n",
    "\n",
    "The idea is to use orthogonal distance regression, with a linear fit. The $\\chi^2$ function will use a matrix product with the inverse covariance matrix in it, for each pair $x_i, y_i$.\n",
    "\n",
    "First we come up with a simple test case. The underlying rule is a two-piece linear function."
   ]
  },
  {
   "cell_type": "code",
   "execution_count": 2,
   "id": "44e9d89b-6a3a-4e30-9f9b-d81ecc1309ac",
   "metadata": {},
   "outputs": [],
   "source": [
    "import numpy as np\n",
    "import matplotlib.pyplot as plt\n",
    "\n",
    "slope1 = 0.5\n",
    "slope2 = 1.5\n",
    "x_connect = 5\n",
    "\n",
    "def f1(x):\n",
    "    return slope1 * x\n",
    "\n",
    "def f2(x):\n",
    "    return f1(x_connect) + slope2 * (x - x_connect)\n",
    "\n",
    "def f(x):\n",
    "    return np.where(x < 5, f1(x), f2(x))\n",
    "    "
   ]
  },
  {
   "cell_type": "markdown",
   "id": "17d8e5b0-7330-4537-b5f7-299c6d7423ee",
   "metadata": {},
   "source": [
    "The base data are 5 points below and 5 above the slope change. We will give these points some random deviations, with the lower points having correlated xy, and the upper points not. The error bars do not need to be correct to test the method, I just want to see of the behaviour of the ODR fitting is expected."
   ]
  },
  {
   "cell_type": "code",
   "execution_count": 3,
   "id": "d7b3629e-cf31-4708-ac4d-73dc8cf128dc",
   "metadata": {},
   "outputs": [
    {
     "data": {
      "text/plain": [
       "[<matplotlib.lines.Line2D at 0x7f9520e656a0>]"
      ]
     },
     "execution_count": 3,
     "metadata": {},
     "output_type": "execute_result"
    },
    {
     "data": {
      "image/png": "[encoded data removed]",
      "text/plain": [
       "<Figure size 432x288 with 1 Axes>"
      ]
     },
     "metadata": {
      "needs_background": "light"
     },
     "output_type": "display_data"
    }
   ],
   "source": [
    "x_lo = np.array([0.5, 1.5, 2, 3.5, 4])\n",
    "x_hi = np.array([5.5, 6, 6.3, 7, 9])\n",
    "x = np.concatenate((x_lo, x_hi))\n",
    "\n",
    "y_lo = f(x_lo)\n",
    "y_hi = f(x_hi)\n",
    "y = np.concatenate((y_lo, y_hi))\n",
    "\n",
    "plt.plot(x_lo, y_lo)\n",
    "plt.plot(x_hi, y_hi)"
   ]
  },
  {
   "cell_type": "code",
   "execution_count": 4,
   "id": "f98e6544-a600-4c2a-a926-4af8870b0005",
   "metadata": {},
   "outputs": [],
   "source": [
    "# function to plot covariance matrices\n",
    "from scipy.linalg import eigh\n",
    "def cov_ellipse(x, y, cov, num_sigma=1):\n",
    "    # length^2 and orientation of ellipse axes is determined by eigenvalues and vectors, respectively\n",
    "    # eigh is more stable for symmetric / hermitian matrices\n",
    "    values, vectors = eigh(cov)\n",
    "    \n",
    "    width, height = np.sqrt(values) * num_sigma\n",
    "    orientation = vectors[:, 0]\n",
    "    \n",
    "    angle = np.arctan2(orientation[1], orientation[0])\n",
    "  \n",
    "    return patches.Ellipse([x,y], width=width, height=height, angle=angle * 180 / np.pi, \n",
    "                    facecolor=(.1,.1,.1,.2), edgecolor='k')\n",
    "\n",
    "def draw_ellipses(ax, xs, ys, covs, num_sigma=1):\n",
    "    for x, y, cov in zip(xs, ys, covs):\n",
    "        ax.add_patch(cov_ellipse(x, y, cov, num_sigma))\n",
    "        \n",
    "def plot_scatter_with_ellipses(xs, ys, covs, num_sigma=1):\n",
    "    plt.scatter(xs, ys, marker='.')\n",
    "    draw_ellipses(plt.gca(), xs, ys, covs, num_sigma=num_sigma)"
   ]
  },
  {
   "cell_type": "markdown",
   "id": "6061bd1b-1fce-4843-a617-54bc0d79b482",
   "metadata": {},
   "source": [
    "Now the plan is to do two tests where the lower points use the correlated matrices, while the upper ones only use the neutral covariance. One test will use the negative xy correlation, the other positive. We then expect to see a difference in the fitting result, and we will try to understand it and see if the ODR method performs as expected.\n",
    "\n",
    "But first, let's add some random noise to the points to make sure that the fitting method does not freak out about the points being on a perfect line. Even though we have different covariance matrices, we will still use the same noise. We're only interested in the effect of the covariance matrices on the result for a FIXED set of points."
   ]
  },
  {
   "cell_type": "code",
   "execution_count": 5,
   "id": "130b0c52-2624-40bf-bba6-adb1aa3b8faf",
   "metadata": {},
   "outputs": [
    {
     "data": {
      "image/png": "[encoded data removed]",
      "text/plain": [
       "<Figure size 432x288 with 1 Axes>"
      ]
     },
     "metadata": {
      "needs_background": "light"
     },
     "output_type": "display_data"
    }
   ],
   "source": [
    "data_x = x + np.random.normal(scale=0.1, size=10)\n",
    "data_y = y + np.random.normal(scale=0.1, size=10)\n",
    "\n",
    "plt.scatter(data_x, data_y)\n",
    "\n",
    "# set up some fictional covariance matrices: one anticorrelated, one correlated, one neutral\n",
    "factor = 10\n",
    "cov_n = np.array([[0.02, -0.02], [-0.02, 0.04]]) * factor\n",
    "cov_p = np.array([[0.02, +0.02], [+0.02, 0.04]]) * factor\n",
    "cov_0 = np.array([[0.03, 0], [0, 0.03]]) * factor"
   ]
  },
  {
   "cell_type": "markdown",
   "id": "6c4d2ce8-0068-4933-ac66-c9afe0c5698a",
   "metadata": {},
   "source": [
    "## Fitting method from Hogg et al. (2010)\n",
    "Hogg et al. (2010) show how to get the orthogonal distance, as wel as the variance in that direction. This results in an equation for the log likelihood $\\log \\mathcal{L}$. I maximize it here using the default maximizer of scipy. Error estimates are derived from the inverse Hessian of $\n",
    "\\log \\mathcal{L}$, see \"minimum variance bound\" in certain statistics courses\". I might do a more empirical error estimation later to make sure this error estimation is suitable.\n"
   ]
  },
  {
   "cell_type": "code",
   "execution_count": 6,
   "id": "fa843b60-e3a4-45a5-bc3b-8762bccacf46",
   "metadata": {},
   "outputs": [],
   "source": [
    "import math\n",
    "from scipy import optimize\n",
    "\n",
    "def perp(m):\n",
    "    return np.array([-m, 1]) / math.sqrt(1 + m*m)\n",
    "\n",
    "def deltas(xy, m, b):\n",
    "    v = perp(m)\n",
    "    return xy.dot(v) - b * v[1]\n",
    "    \n",
    "def sigmas(covs, m):\n",
    "    v = perp(m)\n",
    "    return np.einsum('i,kij,j->k', v, covs, v)\n",
    "\n",
    "def logL(m, b, xy):\n",
    "    return -0.5 * np.square(deltas(xy, m, b) / sigmas(covs, m)).sum()\n",
    "\n",
    "def to_minimize(v):\n",
    "    m = v[0]\n",
    "    b = v[1]\n",
    "    return -logL(m, b, xy)\n",
    "\n",
    "def linear_ortho_maxlh(data_x, data_y, cov_xy):\n",
    "    # put the coordinates in pairs, to use the equations of Hogg et al. 2010\n",
    "    xy = np.column_stack((data_x, data_y))\n",
    "    \n",
    "    res = optimize.minimize(to_minimize, (1,1))\n",
    "    m, b = res.x\n",
    "    sigma_m, sigma_b = np.sqrt(np.diag(res.hess_inv))\n",
    "    rho_mb = res.hess_inv[0,1] / (sigma_m * sigma_b)\n",
    "    print(res)\n",
    "    print(\"mx + b,\", m, b)\n",
    "    print(\"err, err, rho:\", sigma_m, sigma_b, rho_mb)\n",
    "    return m, b, sigma_m, sigma_b, rho_mb"
   ]
  },
  {
   "cell_type": "markdown",
   "id": "0676e315-1cfc-40bf-a350-a95bbae73d77",
   "metadata": {},
   "source": [
    "## Test 1: positive cov"
   ]
  },
  {
   "cell_type": "code",
   "execution_count": 7,
   "id": "12c002ea-ee8c-4671-bc01-c18564f43d15",
   "metadata": {},
   "outputs": [],
   "source": [
    "# set covs for lo and hi points separately\n",
    "covs = np.zeros((len(data_x), 2, 2))\n",
    "covs[:5] = cov_p\n",
    "covs[5:] = cov_0"
   ]
  },
  {
   "cell_type": "code",
   "execution_count": 8,
   "id": "4e5bf98f-82fc-4369-9d91-0e0641f502d9",
   "metadata": {},
   "outputs": [
    {
     "ename": "NameError",
     "evalue": "name 'patches' is not defined",
     "output_type": "error",
     "traceback": [
      "\u001b[0;31m---------------------------------------------------------------------------\u001b[0m",
      "\u001b[0;31mNameError\u001b[0m                                 Traceback (most recent call last)",
      "\u001b[0;32m<ipython-input-8-6f1a4f266092>\u001b[0m in \u001b[0;36m<module>\u001b[0;34m\u001b[0m\n\u001b[1;32m      1\u001b[0m \u001b[0mx_fun\u001b[0m \u001b[0;34m=\u001b[0m \u001b[0mnp\u001b[0m\u001b[0;34m.\u001b[0m\u001b[0mlinspace\u001b[0m\u001b[0;34m(\u001b[0m\u001b[0mmin\u001b[0m\u001b[0;34m(\u001b[0m\u001b[0mdata_x\u001b[0m\u001b[0;34m)\u001b[0m\u001b[0;34m,\u001b[0m \u001b[0mmax\u001b[0m\u001b[0;34m(\u001b[0m\u001b[0mdata_x\u001b[0m\u001b[0;34m)\u001b[0m\u001b[0;34m,\u001b[0m \u001b[0;36m100\u001b[0m\u001b[0;34m)\u001b[0m\u001b[0;34m\u001b[0m\u001b[0;34m\u001b[0m\u001b[0m\n\u001b[0;32m----> 2\u001b[0;31m \u001b[0mplot_scatter_with_ellipses\u001b[0m\u001b[0;34m(\u001b[0m\u001b[0mdata_x\u001b[0m\u001b[0;34m,\u001b[0m \u001b[0mdata_y\u001b[0m\u001b[0;34m,\u001b[0m \u001b[0mcovs\u001b[0m\u001b[0;34m,\u001b[0m \u001b[0mnum_sigma\u001b[0m\u001b[0;34m=\u001b[0m\u001b[0;36m1\u001b[0m\u001b[0;34m)\u001b[0m\u001b[0;34m\u001b[0m\u001b[0;34m\u001b[0m\u001b[0m\n\u001b[0m\u001b[1;32m      3\u001b[0m \u001b[0;34m\u001b[0m\u001b[0m\n\u001b[1;32m      4\u001b[0m \u001b[0mm\u001b[0m\u001b[0;34m,\u001b[0m \u001b[0mb\u001b[0m\u001b[0;34m,\u001b[0m \u001b[0msigma_m\u001b[0m\u001b[0;34m,\u001b[0m \u001b[0msigma_b\u001b[0m\u001b[0;34m,\u001b[0m \u001b[0mrho_mb\u001b[0m \u001b[0;34m=\u001b[0m \u001b[0mlinear_ortho_maxlh\u001b[0m\u001b[0;34m(\u001b[0m\u001b[0mdata_x\u001b[0m\u001b[0;34m,\u001b[0m \u001b[0mdata_y\u001b[0m\u001b[0;34m,\u001b[0m \u001b[0mcovs\u001b[0m\u001b[0;34m)\u001b[0m\u001b[0;34m\u001b[0m\u001b[0;34m\u001b[0m\u001b[0m\n\u001b[1;32m      5\u001b[0m \u001b[0mplt\u001b[0m\u001b[0;34m.\u001b[0m\u001b[0mplot\u001b[0m\u001b[0;34m(\u001b[0m\u001b[0mx_fun\u001b[0m\u001b[0;34m,\u001b[0m \u001b[0mm\u001b[0m \u001b[0;34m*\u001b[0m \u001b[0mx_fun\u001b[0m \u001b[0;34m+\u001b[0m \u001b[0mb\u001b[0m\u001b[0;34m)\u001b[0m\u001b[0;34m\u001b[0m\u001b[0;34m\u001b[0m\u001b[0m\n",
      "\u001b[0;32m<ipython-input-4-45e7a6d3788b>\u001b[0m in \u001b[0;36mplot_scatter_with_ellipses\u001b[0;34m(xs, ys, covs, num_sigma)\u001b[0m\n\u001b[1;32m     20\u001b[0m \u001b[0;32mdef\u001b[0m \u001b[0mplot_scatter_with_ellipses\u001b[0m\u001b[0;34m(\u001b[0m\u001b[0mxs\u001b[0m\u001b[0;34m,\u001b[0m \u001b[0mys\u001b[0m\u001b[0;34m,\u001b[0m \u001b[0mcovs\u001b[0m\u001b[0;34m,\u001b[0m \u001b[0mnum_sigma\u001b[0m\u001b[0;34m=\u001b[0m\u001b[0;36m1\u001b[0m\u001b[0;34m)\u001b[0m\u001b[0;34m:\u001b[0m\u001b[0;34m\u001b[0m\u001b[0;34m\u001b[0m\u001b[0m\n\u001b[1;32m     21\u001b[0m     \u001b[0mplt\u001b[0m\u001b[0;34m.\u001b[0m\u001b[0mscatter\u001b[0m\u001b[0;34m(\u001b[0m\u001b[0mxs\u001b[0m\u001b[0;34m,\u001b[0m \u001b[0mys\u001b[0m\u001b[0;34m,\u001b[0m \u001b[0mmarker\u001b[0m\u001b[0;34m=\u001b[0m\u001b[0;34m'.'\u001b[0m\u001b[0;34m)\u001b[0m\u001b[0;34m\u001b[0m\u001b[0;34m\u001b[0m\u001b[0m\n\u001b[0;32m---> 22\u001b[0;31m     \u001b[0mdraw_ellipses\u001b[0m\u001b[0;34m(\u001b[0m\u001b[0mplt\u001b[0m\u001b[0;34m.\u001b[0m\u001b[0mgca\u001b[0m\u001b[0;34m(\u001b[0m\u001b[0;34m)\u001b[0m\u001b[0;34m,\u001b[0m \u001b[0mxs\u001b[0m\u001b[0;34m,\u001b[0m \u001b[0mys\u001b[0m\u001b[0;34m,\u001b[0m \u001b[0mcovs\u001b[0m\u001b[0;34m,\u001b[0m \u001b[0mnum_sigma\u001b[0m\u001b[0;34m=\u001b[0m\u001b[0mnum_sigma\u001b[0m\u001b[0;34m)\u001b[0m\u001b[0;34m\u001b[0m\u001b[0;34m\u001b[0m\u001b[0m\n\u001b[0m",
      "\u001b[0;32m<ipython-input-4-45e7a6d3788b>\u001b[0m in \u001b[0;36mdraw_ellipses\u001b[0;34m(ax, xs, ys, covs, num_sigma)\u001b[0m\n\u001b[1;32m     16\u001b[0m \u001b[0;32mdef\u001b[0m \u001b[0mdraw_ellipses\u001b[0m\u001b[0;34m(\u001b[0m\u001b[0max\u001b[0m\u001b[0;34m,\u001b[0m \u001b[0mxs\u001b[0m\u001b[0;34m,\u001b[0m \u001b[0mys\u001b[0m\u001b[0;34m,\u001b[0m \u001b[0mcovs\u001b[0m\u001b[0;34m,\u001b[0m \u001b[0mnum_sigma\u001b[0m\u001b[0;34m=\u001b[0m\u001b[0;36m1\u001b[0m\u001b[0;34m)\u001b[0m\u001b[0;34m:\u001b[0m\u001b[0;34m\u001b[0m\u001b[0;34m\u001b[0m\u001b[0m\n\u001b[1;32m     17\u001b[0m     \u001b[0;32mfor\u001b[0m \u001b[0mx\u001b[0m\u001b[0;34m,\u001b[0m \u001b[0my\u001b[0m\u001b[0;34m,\u001b[0m \u001b[0mcov\u001b[0m \u001b[0;32min\u001b[0m \u001b[0mzip\u001b[0m\u001b[0;34m(\u001b[0m\u001b[0mxs\u001b[0m\u001b[0;34m,\u001b[0m \u001b[0mys\u001b[0m\u001b[0;34m,\u001b[0m \u001b[0mcovs\u001b[0m\u001b[0;34m)\u001b[0m\u001b[0;34m:\u001b[0m\u001b[0;34m\u001b[0m\u001b[0;34m\u001b[0m\u001b[0m\n\u001b[0;32m---> 18\u001b[0;31m         \u001b[0max\u001b[0m\u001b[0;34m.\u001b[0m\u001b[0madd_patch\u001b[0m\u001b[0;34m(\u001b[0m\u001b[0mcov_ellipse\u001b[0m\u001b[0;34m(\u001b[0m\u001b[0mx\u001b[0m\u001b[0;34m,\u001b[0m \u001b[0my\u001b[0m\u001b[0;34m,\u001b[0m \u001b[0mcov\u001b[0m\u001b[0;34m,\u001b[0m \u001b[0mnum_sigma\u001b[0m\u001b[0;34m)\u001b[0m\u001b[0;34m)\u001b[0m\u001b[0;34m\u001b[0m\u001b[0;34m\u001b[0m\u001b[0m\n\u001b[0m\u001b[1;32m     19\u001b[0m \u001b[0;34m\u001b[0m\u001b[0m\n\u001b[1;32m     20\u001b[0m \u001b[0;32mdef\u001b[0m \u001b[0mplot_scatter_with_ellipses\u001b[0m\u001b[0;34m(\u001b[0m\u001b[0mxs\u001b[0m\u001b[0;34m,\u001b[0m \u001b[0mys\u001b[0m\u001b[0;34m,\u001b[0m \u001b[0mcovs\u001b[0m\u001b[0;34m,\u001b[0m \u001b[0mnum_sigma\u001b[0m\u001b[0;34m=\u001b[0m\u001b[0;36m1\u001b[0m\u001b[0;34m)\u001b[0m\u001b[0;34m:\u001b[0m\u001b[0;34m\u001b[0m\u001b[0;34m\u001b[0m\u001b[0m\n",
      "\u001b[0;32m<ipython-input-4-45e7a6d3788b>\u001b[0m in \u001b[0;36mcov_ellipse\u001b[0;34m(x, y, cov, num_sigma)\u001b[0m\n\u001b[1;32m     11\u001b[0m     \u001b[0mangle\u001b[0m \u001b[0;34m=\u001b[0m \u001b[0mnp\u001b[0m\u001b[0;34m.\u001b[0m\u001b[0marctan2\u001b[0m\u001b[0;34m(\u001b[0m\u001b[0morientation\u001b[0m\u001b[0;34m[\u001b[0m\u001b[0;36m1\u001b[0m\u001b[0;34m]\u001b[0m\u001b[0;34m,\u001b[0m \u001b[0morientation\u001b[0m\u001b[0;34m[\u001b[0m\u001b[0;36m0\u001b[0m\u001b[0;34m]\u001b[0m\u001b[0;34m)\u001b[0m\u001b[0;34m\u001b[0m\u001b[0;34m\u001b[0m\u001b[0m\n\u001b[1;32m     12\u001b[0m \u001b[0;34m\u001b[0m\u001b[0m\n\u001b[0;32m---> 13\u001b[0;31m     return patches.Ellipse([x,y], width=width, height=height, angle=angle * 180 / np.pi, \n\u001b[0m\u001b[1;32m     14\u001b[0m                     facecolor=(.1,.1,.1,.2), edgecolor='k')\n\u001b[1;32m     15\u001b[0m \u001b[0;34m\u001b[0m\u001b[0m\n",
      "\u001b[0;31mNameError\u001b[0m: name 'patches' is not defined"
     ]
    },
    {
     "data": {
      "image/png": "[encoded data removed]",
      "text/plain": [
       "<Figure size 432x288 with 1 Axes>"
      ]
     },
     "metadata": {
      "needs_background": "light"
     },
     "output_type": "display_data"
    }
   ],
   "source": [
    "x_fun = np.linspace(min(data_x), max(data_x), 100)\n",
    "plot_scatter_with_ellipses(data_x, data_y, covs, num_sigma=1)\n",
    "\n",
    "m, b, sigma_m, sigma_b, rho_mb = linear_ortho_maxlh(data_x, data_y, covs)\n",
    "plt.plot(x_fun, m * x_fun + b)"
   ]
  },
  {
   "cell_type": "markdown",
   "id": "f1c877d8-ad85-4485-a528-6b9f5bd67a99",
   "metadata": {},
   "source": [
    "## Test 2: negative cov "
   ]
  },
  {
   "cell_type": "code",
   "execution_count": null,
   "id": "ef41e5f8-31e9-4df9-98b7-0c15b80e0295",
   "metadata": {},
   "outputs": [],
   "source": [
    "covs = np.zeros((len(data_x), 2, 2))\n",
    "covs[:5] = cov_n\n",
    "covs[5:] = cov_0\n",
    "plot_scatter_with_ellipses(data_x, data_y, covs, num_sigma=1)\n",
    "m, b, sigma_m, sigma_b, rho_mb = linear_ortho_maxlh(data_x, data_y, covs)\n",
    "plt.plot(x_fun, m * x_fun + b)"
   ]
  },
  {
   "cell_type": "markdown",
   "id": "63da7d98-d7c6-4afc-ad06-289f59622224",
   "metadata": {},
   "source": [
    "## Test ellipse plotting"
   ]
  },
  {
   "cell_type": "code",
   "execution_count": null,
   "id": "505977b8-3cf6-4134-88df-0bd9bc9a103a",
   "metadata": {},
   "outputs": [],
   "source": [
    "# benchmark by eye agains 2D normal\n",
    "cov_n = np.array([[1, +.01],[+.01,.01]])\n",
    "points = np.random.multivariate_normal([0,0], cov_n, size=2000)"
   ]
  },
  {
   "cell_type": "code",
   "execution_count": null,
   "id": "9db7f7d0-a32b-46a1-a69b-b3bbb8b48d7d",
   "metadata": {},
   "outputs": [],
   "source": [
    "plt.scatter(points[:,0], points[:,1], marker='.')\n",
    "plt.gca().add_patch(cov_ellipse(0, 0, cov_n, num_sigma=3))\n",
    "plt.show()"
   ]
  },
  {
   "cell_type": "code",
   "execution_count": null,
   "id": "7b54261e-d80e-4d75-a2f2-3ae0f0541e2c",
   "metadata": {},
   "outputs": [],
   "source": [
    "from matplotlib import patches\n",
    "fig, ax = plt.subplots()\n",
    "el1 = patches.Ellipse([0,0], 2, 1, angle=30)\n",
    "el2 = patches.Ellipse([0,3], 2, 1, angle=90)\n",
    "ax.add_patch(el1)\n",
    "ax.add_patch(el2)\n",
    "ax.scatter(data_x, data_y)"
   ]
  },
  {
   "cell_type": "markdown",
   "id": "a5f71e28-fbd8-4b6d-a1bd-fa3242b34c2e",
   "metadata": {},
   "source": [
    "## Test some matrix produces (to check equations of Hogg et al.)"
   ]
  },
  {
   "cell_type": "code",
   "execution_count": 9,
   "id": "94157f6e-7992-4275-a68e-e60770a3cf7e",
   "metadata": {},
   "outputs": [
    {
     "data": {
      "text/plain": [
       "array([[ 0.2, -0.2],\n",
       "       [-0.2,  0.4]])"
      ]
     },
     "execution_count": 9,
     "metadata": {},
     "output_type": "execute_result"
    }
   ],
   "source": [
    "cov_n\n"
   ]
  },
  {
   "cell_type": "code",
   "execution_count": 17,
   "id": "b693e8d1-78b6-4cd3-a239-8924fc3d941c",
   "metadata": {},
   "outputs": [],
   "source": [
    "cov_n_m1 = np.linalg.inv(cov_n)\n",
    "v = np.array([0,1])"
   ]
  },
  {
   "cell_type": "code",
   "execution_count": 18,
   "id": "84bd8d1f-0c0a-4b80-9973-0c08b7d08b33",
   "metadata": {},
   "outputs": [
    {
     "data": {
      "text/plain": [
       "0.4"
      ]
     },
     "execution_count": 18,
     "metadata": {},
     "output_type": "execute_result"
    }
   ],
   "source": [
    "v.T.dot(cov_n.dot(v))"
   ]
  },
  {
   "cell_type": "code",
   "execution_count": 19,
   "id": "aa74fb62-67c3-4353-b475-50bb2f3f3502",
   "metadata": {},
   "outputs": [
    {
     "data": {
      "text/plain": [
       "0.2"
      ]
     },
     "execution_count": 19,
     "metadata": {},
     "output_type": "execute_result"
    }
   ],
   "source": [
    "1 / v.T.dot(cov_n_m1.dot(v))"
   ]
  },
  {
   "cell_type": "code",
   "execution_count": null,
   "id": "7240e8cd-1804-44c1-b4f9-3e2b8697e229",
   "metadata": {},
   "outputs": [],
   "source": []
  }
 ],
 "metadata": {
  "kernelspec": {
   "display_name": "Python 3",
   "language": "python",
   "name": "python3"
  },
  "language_info": {
   "codemirror_mode": {
    "name": "ipython",
    "version": 3
   },
   "file_extension": ".py",
   "mimetype": "text/x-python",
   "name": "python",
   "nbconvert_exporter": "python",
   "pygments_lexer": "ipython3",
   "version": "3.8.8"
  }
 },
 "nbformat": 4,
 "nbformat_minor": 5
}
