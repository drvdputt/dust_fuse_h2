{
 "cells": [
  {
   "cell_type": "code",
   "execution_count": 1,
   "metadata": {},
   "outputs": [],
   "source": [
    "%load_ext autoreload\n",
    "%autoreload 2\n",
    "\n",
    "from get_data import (get_merged_table, get_bohlin78, get_shull2021)\n",
    "from plot_fuse_results import plot_results2\n",
    "from matplotlib import pyplot as plt\n",
    "from astropy.table import Column\n",
    "from mpl_toolkits import mplot3d\n",
    "import numpy as np\n",
    "\n",
    "plt.ioff()\n",
    "\n",
    "import matplotlib as mpl\n",
    "mpl.rcParams['figure.dpi'] = 120\n",
    "%matplotlib widget"
   ]
  },
  {
   "cell_type": "markdown",
   "metadata": {},
   "source": [
    "# Get the data"
   ]
  },
  {
   "cell_type": "markdown",
   "metadata": {},
   "source": [
    "### data for Gordon09 extinction curve sightlines"
   ]
  },
  {
   "cell_type": "code",
   "execution_count": 27,
   "metadata": {},
   "outputs": [
    {
     "name": "stdout",
     "output_type": "stream",
     "text": [
      "Did not find absolute magnitude for B2Ve\n",
      "Took 39 distances from Shull+21\n"
     ]
    },
    {
     "name": "stderr",
     "output_type": "stream",
     "text": [
      "/Users/dvandeputte/Projects/FUSE H2/plotting_git/get_data.py:13: RuntimeWarning: overflow encountered in power\n",
      "  lin_unc = 0.5 * (np.power(10.0, log + log_unc) - np.power(10.0, log - log_unc))\n",
      "/Users/dvandeputte/Projects/FUSE H2/plotting_git/get_data.py:14: RuntimeWarning: overflow encountered in power\n",
      "  linname = logcolname.replace(\"log\", \"\")\n",
      "/Users/dvandeputte/Projects/FUSE H2/plotting_git/get_data.py:14: RuntimeWarning: invalid value encountered in subtract\n",
      "  linname = logcolname.replace(\"log\", \"\")\n",
      "WARNING: AstropyDeprecationWarning: data/fuse_h2_details_main.dat already exists. Automatically overwriting ASCII files is deprecated. Use the argument 'overwrite=True' in the future. [astropy.io.ascii.ui]\n"
     ]
    },
    {
     "data": {
      "text/html": [
       "&lt;MaskedColumn name=&apos;d&apos; dtype=&apos;float64&apos; length=75&gt;\n",
       "<table>\n",
       "<tr><td>2.5234807724805757</td></tr>\n",
       "<tr><td>4.345102241715719</td></tr>\n",
       "<tr><td>1.5776112696993485</td></tr>\n",
       "<tr><td>1.8793168168032686</td></tr>\n",
       "<tr><td>2.8</td></tr>\n",
       "<tr><td>1.6982436524617461</td></tr>\n",
       "<tr><td>2.98</td></tr>\n",
       "<tr><td>1.651961798229015</td></tr>\n",
       "<tr><td>1.2359474334445109</td></tr>\n",
       "<tr><td>...</td></tr>\n",
       "<tr><td>0.6109420249055721</td></tr>\n",
       "<tr><td>0.73</td></tr>\n",
       "<tr><td>0.69</td></tr>\n",
       "<tr><td>1.04</td></tr>\n",
       "<tr><td>1.08</td></tr>\n",
       "<tr><td>0.91</td></tr>\n",
       "<tr><td>1.0914403364487562</td></tr>\n",
       "<tr><td>2.1086281499332884</td></tr>\n",
       "<tr><td>2.56</td></tr>\n",
       "</table>"
      ],
      "text/plain": [
       "<MaskedColumn name='d' dtype='float64' length=75>\n",
       "2.5234807724805757\n",
       " 4.345102241715719\n",
       "1.5776112696993485\n",
       "1.8793168168032686\n",
       "               2.8\n",
       "1.6982436524617461\n",
       "              2.98\n",
       " 1.651961798229015\n",
       "1.2359474334445109\n",
       "               ...\n",
       "0.6109420249055721\n",
       "              0.73\n",
       "              0.69\n",
       "              1.04\n",
       "              1.08\n",
       "              0.91\n",
       "1.0914403364487562\n",
       "2.1086281499332884\n",
       "              2.56"
      ]
     },
     "execution_count": 27,
     "metadata": {},
     "output_type": "execute_result"
    }
   ],
   "source": [
    "data = get_merged_table()\n",
    "# add comments for certain stars here\n",
    "data.add_column(Column(['no'] * len(data), dtype='<U16', name='comment'))\n",
    "def set_comment(name, s):\n",
    "    data['comment'][data['Name'] == name] = s\n",
    "\n",
    "for name in [\"HD200775\", \"HD164906\", \"HD045314\", \"HD206773\"]:\n",
    "    set_comment(name, \"lo_h_av\")\n",
    "\n",
    "set_comment(\"HD096675\", \"hi_h_av\")\n",
    "data['d']"
   ]
  },
  {
   "cell_type": "markdown",
   "metadata": {},
   "source": [
    "### data for Gordon09 comparision star sightlines"
   ]
  },
  {
   "cell_type": "code",
   "execution_count": 3,
   "metadata": {},
   "outputs": [
    {
     "name": "stdout",
     "output_type": "stream",
     "text": [
      "Took 8 distances from Shull+21\n"
     ]
    }
   ],
   "source": [
    "data_comp = get_merged_table(comp=True)"
   ]
  },
  {
   "cell_type": "markdown",
   "metadata": {},
   "source": [
    "### data for Bohlin 78 Copernicus sightlines"
   ]
  },
  {
   "cell_type": "code",
   "execution_count": 4,
   "metadata": {},
   "outputs": [],
   "source": [
    "data_bohlin78 = get_bohlin78()"
   ]
  },
  {
   "cell_type": "code",
   "execution_count": 5,
   "metadata": {},
   "outputs": [
    {
     "name": "stdout",
     "output_type": "stream",
     "text": [
      "['1_RV', '1_RV_unc', 'A1000', 'A1000_AV', 'A1000_AV_unc', 'A1000_unc', 'A2175', 'A2175_AV', 'A2175_AV_unc', 'A2175_unc', 'AV', 'AV_runc', 'AV_sunc', 'AV_unc', 'C1', 'C1_unc', 'C2', 'C2_unc', 'C3', 'C3_unc', 'C4', 'C4_unc', 'CAV1', 'CAV1_runc', 'CAV1_sunc', 'CAV1_unc', 'CAV2', 'CAV2_runc', 'CAV2_sunc', 'CAV2_unc', 'CAV3', 'CAV3_runc', 'CAV3_sunc', 'CAV3_unc', 'CAV4', 'CAV4_runc', 'CAV4_sunc', 'CAV4_unc', 'Comparison', 'EBV', 'EBV_runc', 'EBV_sunc', 'EBV_unc', 'NH_AV', 'NH_AV_unc', 'NH_EBV', 'NH_EBV_unc', 'Name', 'RV', 'RV_runc', 'RV_sunc', 'RV_unc', 'SpType', 'T01', 'T01_unc', 'V', 'a_g_percentile_lower', 'a_g_percentile_upper', 'a_g_val', 'astrometric_chi2_al', 'astrometric_excess_noise', 'astrometric_excess_noise_sig', 'astrometric_gof_al', 'astrometric_matched_observations', 'astrometric_n_bad_obs_al', 'astrometric_n_good_obs_al', 'astrometric_n_obs_ac', 'astrometric_n_obs_al', 'astrometric_params_solved', 'astrometric_primary_flag', 'astrometric_pseudo_colour', 'astrometric_pseudo_colour_error', 'astrometric_sigma5d_max', 'astrometric_weight_al', 'b', 'bp_g', 'bp_rp', 'bump_amp', 'bump_amp_unc', 'bump_area', 'bump_area_unc', 'comment', 'd', 'd_unc', 'datalink_url', 'dec', 'dec_error', 'dec_parallax_corr', 'dec_pmdec_corr', 'dec_pmra_corr', 'denh2', 'denh2_unc', 'denhi', 'denhi_unc', 'denhtot', 'denhtot_unc', 'designation', 'dist', 'duplicated_source', 'e_bp_min_rp_percentile_lower', 'e_bp_min_rp_percentile_upper', 'e_bp_min_rp_val', 'ecl_lat', 'ecl_lon', 'fh2', 'fh2_unc', 'flame_flags', 'frame_rotator_object_type', 'g_rp', 'gamma', 'gamma_runc', 'gamma_sunc', 'gamma_unc', 'hiref', 'l', 'logfh2', 'lognh', 'lognh2', 'lognh2_unc', 'lognhi', 'lognhi_unc', 'lognhtot', 'lognhtot_unc', 'lum_percentile_lower', 'lum_percentile_upper', 'lum_val', 'matched_observations', 'mean_varpi_factor_al', 'nh', 'nh2', 'nh2_unc', 'nhi', 'nhi_unc', 'nhtot', 'nhtot_unc', 'nj0', 'nj0_unc', 'nj1', 'nj1_unc', 'nj2', 'nj2_unc', 'nj3', 'nj3_unc', 'nj4', 'nj4_unc', 'nj5', 'nj5_unc', 'nj6', 'nj6_unc', 'nj7', 'nj7_unc', 'parallax', 'parallax_error', 'parallax_over_error', 'parallax_pmdec_corr', 'parallax_pmra_corr', 'phot_bp_mean_flux', 'phot_bp_mean_flux_error', 'phot_bp_mean_flux_over_error', 'phot_bp_mean_mag', 'phot_bp_n_obs', 'phot_bp_rp_excess_factor', 'phot_g_mean_flux', 'phot_g_mean_flux_error', 'phot_g_mean_flux_over_error', 'phot_g_mean_mag', 'phot_g_n_obs', 'phot_proc_mode', 'phot_rp_mean_flux', 'phot_rp_mean_flux_error', 'phot_rp_mean_flux_over_error', 'phot_rp_mean_mag', 'phot_rp_n_obs', 'phot_variable_flag', 'pmdec', 'pmdec_error', 'pmra', 'pmra_error', 'pmra_pmdec_corr', 'priam_flags', 'ra', 'ra_dec_corr', 'ra_error', 'ra_parallax_corr', 'ra_pmdec_corr', 'ra_pmra_corr', 'radial_velocity', 'radial_velocity_error', 'radius_percentile_lower', 'radius_percentile_upper', 'radius_val', 'random_index', 'ref_epoch', 'rv_nb_transits', 'rv_template_fe_h', 'rv_template_logg', 'rv_template_teff', 'solution_id', 'source_id', 'teff_percentile_lower', 'teff_percentile_upper', 'teff_val', 'visibility_periods_used', 'x_o', 'x_o_runc', 'x_o_sunc', 'x_o_unc']\n"
     ]
    }
   ],
   "source": [
    "print(sorted(data.colnames))"
   ]
  },
  {
   "cell_type": "markdown",
   "metadata": {},
   "source": [
    "# FM90 params versus fraction H2"
   ]
  },
  {
   "cell_type": "markdown",
   "metadata": {
    "tags": []
   },
   "source": [
    "## Specific wavelength extinction\n",
    "fh2 vs 1000 (or 1100) shows some structure.\n",
    "fh2 vs 1300 none at all\n",
    "fh2 vs 4000 looks like fh2 vs AV (as expected)"
   ]
  },
  {
   "cell_type": "code",
   "execution_count": 8,
   "metadata": {},
   "outputs": [
    {
     "data": {
      "application/vnd.jupyter.widget-view+json": {
       "model_id": "0f6dcf56be894ac1a7537822aee049f5",
       "version_major": 2,
       "version_minor": 0
      },
      "text/plain": [
       "Canvas(toolbar=Toolbar(toolitems=[('Home', 'Reset original view', 'home', 'home'), ('Back', 'Back to previous …"
      ]
     },
     "metadata": {},
     "output_type": "display_data"
    },
    {
     "name": "stdout",
     "output_type": "stream",
     "text": [
      "1_RV vs A1000\n",
      "No covariances implemented for this parameter pair. If x and y are uncorrelated, you can dismiss this.\n",
      "No covariances implemented for this parameter pair. If x and y are uncorrelated, you can dismiss this.\n",
      "Solution\n",
      "m, b_perp: 240.3445070724511 -0.26365379193961447\n",
      "m, b: 240.3445070724511 -63.36828915053881\n",
      "chi2min: 159.46174724591143 or 2.1844074965193347 per DOF\n",
      "Bootstrap: m = -647164.2959100152 ; b = -0.1825867259141724\n",
      "Bootstrap: sm = 2637649.2959254654 ; sb = 0.18591946851478036\n",
      "Bootstrap: corr(m, b) = -0.6278413747037751\n",
      "*** FIT RESULT ***\n",
      "m = 2.40e+02 pm 4.76e+01\n",
      "b = -6.34e+01 pm 6.98e-03\n",
      "correlation  = -0.91\n",
      "------------------\n"
     ]
    }
   ],
   "source": [
    "_ = plot_results2(data, '1_RV', 'A1000', mark_comments=['lo_h_av'])"
   ]
  },
  {
   "cell_type": "code",
   "execution_count": 9,
   "metadata": {},
   "outputs": [
    {
     "data": {
      "application/vnd.jupyter.widget-view+json": {
       "model_id": "ae0134e4b83e45b1abbb58385de2aa1c",
       "version_major": 2,
       "version_minor": 0
      },
      "text/plain": [
       "Canvas(toolbar=Toolbar(toolitems=[('Home', 'Reset original view', 'home', 'home'), ('Back', 'Back to previous …"
      ]
     },
     "metadata": {},
     "output_type": "display_data"
    },
    {
     "name": "stdout",
     "output_type": "stream",
     "text": [
      "A1000_AV vs fh2\n",
      "No covariances implemented for this parameter pair. If x and y are uncorrelated, you can dismiss this.\n",
      "No covariances implemented for this parameter pair. If x and y are uncorrelated, you can dismiss this.\n",
      "Solution\n",
      "m, b_perp: 0.009572750234500604 0.0184075440439468\n",
      "m, b: 0.009572750234500604 0.018408387435717374\n",
      "chi2min: 335.8978109785976 or 4.601339876419145 per DOF\n",
      "Bootstrap: m = 0.017798909727512774 ; b = -0.0056365326109665895\n",
      "Bootstrap: sm = 0.02365453486543196 ; sb = 0.10308587045776575\n",
      "Bootstrap: corr(m, b) = -0.9746819661927462\n",
      "*** FIT RESULT ***\n",
      "m = 9.57e-03 pm 2.34e-03\n",
      "b = 1.84e-02 pm 1.07e-02\n",
      "correlation  = -0.97\n",
      "------------------\n"
     ]
    }
   ],
   "source": [
    "_ = plot_results2(data, \"A1000_AV\", 'fh2', mark_comments=['lo_h_av'])"
   ]
  },
  {
   "cell_type": "code",
   "execution_count": null,
   "metadata": {},
   "outputs": [],
   "source": [
    "_ = plot_results2(data, 'CAV1', 'fh2', mark_comments=['lo_h_av'])"
   ]
  },
  {
   "cell_type": "code",
   "execution_count": null,
   "metadata": {},
   "outputs": [],
   "source": [
    "_ = plot_results2(data, 'CAV2', 'fh2', mark_comments=['lo_h_av'])"
   ]
  },
  {
   "cell_type": "code",
   "execution_count": null,
   "metadata": {},
   "outputs": [],
   "source": [
    "_ = plot_results2(data, 'CAV3', 'fh2', ignore_comments=['lo_h_av'])"
   ]
  },
  {
   "cell_type": "code",
   "execution_count": null,
   "metadata": {},
   "outputs": [],
   "source": [
    "_ = plot_results2(data, 'CAV4', 'fh2', ignore_comments=['lo_h_av'])\n",
    "_ = plot_results2(data[data['CAV4']<0.25], 'CAV4', 'fh2', ignore_comments=['lo_h_av'])"
   ]
  },
  {
   "cell_type": "code",
   "execution_count": null,
   "metadata": {},
   "outputs": [],
   "source": [
    "_ = plot_results2(data, 'x_o', 'fh2', mark_comments=['lo_h_av'])"
   ]
  },
  {
   "cell_type": "code",
   "execution_count": null,
   "metadata": {},
   "outputs": [],
   "source": [
    "_ = plot_results2(data, 'gamma', 'fh2', ignore_comments=['lo_h_av'])"
   ]
  },
  {
   "cell_type": "code",
   "execution_count": null,
   "metadata": {},
   "outputs": [],
   "source": [
    "_ = plot_results2(data, 'bump_area', 'fh2', mark_comments=['lo_h_av'])"
   ]
  },
  {
   "cell_type": "markdown",
   "metadata": {},
   "source": [
    "# FM90 parameters versus R(V)"
   ]
  },
  {
   "cell_type": "code",
   "execution_count": null,
   "metadata": {},
   "outputs": [],
   "source": [
    "_ = plot_results2(data, '1_RV', 'CAV2')"
   ]
  },
  {
   "cell_type": "code",
   "execution_count": null,
   "metadata": {},
   "outputs": [],
   "source": [
    "_ = plot_results2(data, '1_RV', 'CAV3')"
   ]
  },
  {
   "cell_type": "code",
   "execution_count": null,
   "metadata": {},
   "outputs": [],
   "source": [
    "_ = plot_results2(data, '1_RV', 'CAV4')\n",
    "_ = plot_results2(data, '1_RV', 'A1000')"
   ]
  },
  {
   "cell_type": "code",
   "execution_count": null,
   "metadata": {},
   "outputs": [],
   "source": [
    "_ = plot_results2(data, 'RV', 'gamma')"
   ]
  },
  {
   "cell_type": "code",
   "execution_count": null,
   "metadata": {},
   "outputs": [],
   "source": [
    "_ = plot_results2(data, '1_RV', 'x_o')"
   ]
  },
  {
   "cell_type": "code",
   "execution_count": null,
   "metadata": {},
   "outputs": [],
   "source": [
    "_ = plot_results2(data, '1_RV', 'bump_area')"
   ]
  },
  {
   "cell_type": "markdown",
   "metadata": {},
   "source": [
    "# FM90 parameters in native form (E(lambda - V)/E(B-V)) versus R(V)"
   ]
  },
  {
   "cell_type": "code",
   "execution_count": null,
   "metadata": {},
   "outputs": [],
   "source": [
    "_ = plot_results2(data, '1_RV', 'C2')"
   ]
  },
  {
   "cell_type": "code",
   "execution_count": null,
   "metadata": {},
   "outputs": [],
   "source": [
    "_ = plot_results2(data, '1_RV', 'C3')"
   ]
  },
  {
   "cell_type": "code",
   "execution_count": null,
   "metadata": {},
   "outputs": [],
   "source": [
    "_ = plot_results2(data, '1_RV', 'C4')"
   ]
  },
  {
   "cell_type": "code",
   "execution_count": null,
   "metadata": {},
   "outputs": [],
   "source": [
    "_ = plot_results2(data, '1_RV', 'gamma')"
   ]
  },
  {
   "cell_type": "code",
   "execution_count": null,
   "metadata": {},
   "outputs": [],
   "source": [
    "_ = plot_results2(data, '1_RV', 'x_o')"
   ]
  },
  {
   "cell_type": "markdown",
   "metadata": {},
   "source": [
    "# Some FM90 parameters versus Gas to dust"
   ]
  },
  {
   "cell_type": "code",
   "execution_count": null,
   "metadata": {},
   "outputs": [],
   "source": [
    "_ = plot_results2(data,'CAV4', 'NH_AV', ignore_comments=['lo_h_av'])"
   ]
  },
  {
   "cell_type": "code",
   "execution_count": null,
   "metadata": {},
   "outputs": [],
   "source": [
    "_ = plot_results2(data,'bump_area', 'NH_AV', ignore_comments=['lo_h_av'])"
   ]
  },
  {
   "cell_type": "code",
   "execution_count": null,
   "metadata": {},
   "outputs": [],
   "source": [
    "_ = plot_results2(data,'CAV3', 'NH_AV', ignore_comments=['lo_h_av'])"
   ]
  },
  {
   "cell_type": "code",
   "execution_count": null,
   "metadata": {},
   "outputs": [],
   "source": []
  }
 ],
 "metadata": {
  "anaconda-cloud": {},
  "kernelspec": {
   "display_name": "Python 3 (ipykernel)",
   "language": "python",
   "name": "python3"
  },
  "language_info": {
   "codemirror_mode": {
    "name": "ipython",
    "version": 3
   },
   "file_extension": ".py",
   "mimetype": "text/x-python",
   "name": "python",
   "nbconvert_exporter": "python",
   "pygments_lexer": "ipython3",
   "version": "3.8.10"
  }
 },
 "nbformat": 4,
 "nbformat_minor": 4
}
