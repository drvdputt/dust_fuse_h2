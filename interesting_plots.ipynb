{
 "cells": [
  {
   "cell_type": "code",
   "execution_count": 18,
   "metadata": {},
   "outputs": [
    {
     "name": "stdout",
     "output_type": "stream",
     "text": [
      "The autoreload extension is already loaded. To reload it, use:\n",
      "  %reload_ext autoreload\n"
     ]
    }
   ],
   "source": [
    "%load_ext autoreload\n",
    "%autoreload 2\n",
    "\n",
    "from get_data import (get_merged_table, get_bohlin78, get_shull2021)\n",
    "from plot_fuse_results import plot_results2\n",
    "from matplotlib import pyplot as plt\n",
    "from astropy.table import Column\n",
    "\n",
    "plt.ioff()\n",
    "\n",
    "import matplotlib as mpl\n",
    "mpl.rcParams['figure.dpi'] = 120\n",
    "%matplotlib widget"
   ]
  },
  {
   "cell_type": "markdown",
   "metadata": {},
   "source": [
    "# Get the data"
   ]
  },
  {
   "cell_type": "markdown",
   "metadata": {},
   "source": [
    "### data for Gordon09 extinction curve sightlines"
   ]
  },
  {
   "cell_type": "code",
   "execution_count": 19,
   "metadata": {},
   "outputs": [],
   "source": [
    "data = get_merged_table()\n",
    "\n",
    "# add comments for certain stars here\n",
    "data.add_column(Column(['no'] * len(data), dtype='<U16', name='comment'))\n",
    "def set_comment(name, s):\n",
    "    data['comment'][data['Name'] == name] = s\n",
    "\n",
    "for name in [\"HD200775\", \"HD164906\", \"HD045314\", \"HD206773\"]:\n",
    "    set_comment(name, \"lo_h_av\")\n",
    "\n",
    "set_comment(\"HD096675\", \"hi_h_av\")\n",
    "\n",
    "# write out in fits format so we can look at it in topcat\n",
    "data.write('merged_table.fits', overwrite=True)"
   ]
  },
  {
   "cell_type": "markdown",
   "metadata": {},
   "source": [
    "### data for Gordon09 comparision star sightlines"
   ]
  },
  {
   "cell_type": "code",
   "execution_count": 20,
   "metadata": {},
   "outputs": [],
   "source": [
    "data_comp = get_merged_table(comp=True)"
   ]
  },
  {
   "cell_type": "markdown",
   "metadata": {},
   "source": [
    "### data for Bohlin 78 Copernicus sightlines"
   ]
  },
  {
   "cell_type": "code",
   "execution_count": 21,
   "metadata": {},
   "outputs": [
    {
     "data": {
      "text/html": [
       "<div><i>Table length=83</i>\n",
       "<table id=\"table140245728159776\" class=\"table-striped table-bordered table-condensed\">\n",
       "<thead><tr><th>hdname</th><th>nhi</th><th>nhi_unc</th><th>nh</th><th>nh2</th><th>nhtot</th><th>nht</th><th>EBV</th><th>d</th><th>lognhi</th><th>lognhi_unc</th><th>lognhtot</th><th>fh2</th><th>RV</th><th>AV</th><th>NH_AV</th><th>NH_EBV</th></tr></thead>\n",
       "<thead><tr><th>int64</th><th>float64</th><th>float64</th><th>float64</th><th>float64</th><th>float64</th><th>float64</th><th>float64</th><th>int64</th><th>float64</th><th>float64</th><th>float64</th><th>float64</th><th>float64</th><th>float64</th><th>float64</th><th>float64</th></tr></thead>\n",
       "<tr><td>886</td><td>1.1000000000000002e+20</td><td>2.2000000000000004e+19</td><td>0.25</td><td>0.0</td><td>1.1000000000000002e+20</td><td>0.25</td><td>0.01</td><td>145</td><td>20.041392685158225</td><td>0.08804562952784067</td><td>20.041392685158225</td><td>0.0</td><td>3.1</td><td>0.031000000000000003</td><td>3.5483870967741934e+21</td><td>1.1000000000000002e+22</td></tr>\n",
       "<tr><td>2905</td><td>1.6e+21</td><td>4.8e+20</td><td>0.51</td><td>1.88e+20</td><td>1.98e+21</td><td>0.64</td><td>0.35</td><td>1009</td><td>21.204119982655925</td><td>0.13442265614629</td><td>21.296665190261532</td><td>0.1898989898989899</td><td>3.1</td><td>1.085</td><td>1.8248847926267281e+21</td><td>5.657142857142858e+21</td></tr>\n",
       "<tr><td>5394</td><td>1.45e+20</td><td>2.9e+19</td><td>0.24</td><td>0.0</td><td>1.45e+20</td><td>0.24</td><td>0.08</td><td>194</td><td>20.161368002234976</td><td>0.08804562952784067</td><td>20.161368002234976</td><td>0.0</td><td>3.1</td><td>0.24800000000000003</td><td>5.8467741935483866e+20</td><td>1.8125e+21</td></tr>\n",
       "<tr><td>10516</td><td>3.5e+20</td><td>7e+19</td><td>0.83</td><td>1.2e+19</td><td>3.7e+20</td><td>0.88</td><td>0.2</td><td>137</td><td>20.544068044350276</td><td>0.08804562952784067</td><td>20.568201724066995</td><td>0.06486486486486487</td><td>3.1</td><td>0.6200000000000001</td><td>5.96774193548387e+20</td><td>1.85e+21</td></tr>\n",
       "<tr><td>14633</td><td>3.6e+20</td><td>1.08e+20</td><td>0.057</td><td>0.0</td><td>3.6e+20</td><td>0.057</td><td>0.1</td><td>2042</td><td>20.556302500767288</td><td>0.13442265614629</td><td>20.556302500767288</td><td>0.0</td><td>3.1</td><td>0.31000000000000005</td><td>1.161290322580645e+21</td><td>3.6e+21</td></tr>\n",
       "<tr><td>21856</td><td>1.1e+21</td><td>2.2e+20</td><td>0.61</td><td>1.1e+20</td><td>1.32e+21</td><td>0.74</td><td>0.19</td><td>581</td><td>21.041392685158225</td><td>0.08804562952784067</td><td>21.12057393120585</td><td>0.16666666666666666</td><td>3.1</td><td>0.5890000000000001</td><td>2.2410865874363325e+21</td><td>6.947368421052632e+21</td></tr>\n",
       "<tr><td>...</td><td>...</td><td>...</td><td>...</td><td>...</td><td>...</td><td>...</td><td>...</td><td>...</td><td>...</td><td>...</td><td>...</td><td>...</td><td>...</td><td>...</td><td>...</td><td>...</td></tr>\n",
       "<tr><td>209975</td><td>1.3e+21</td><td>3.9e+20</td><td>0.39</td><td>1.2e+20</td><td>1.54e+21</td><td>0.46</td><td>0.38</td><td>1086</td><td>21.113943352306837</td><td>0.13442265614629</td><td>21.187520720836464</td><td>0.15584415584415584</td><td>3.1</td><td>1.1780000000000002</td><td>1.3073005093378607e+21</td><td>4.052631578947368e+21</td></tr>\n",
       "<tr><td>210839</td><td>1.3e+21</td><td>2.6e+20</td><td>0.42</td><td>6e+20</td><td>2.5e+21</td><td>0.82</td><td>0.56</td><td>991</td><td>21.113943352306837</td><td>0.08804562952784067</td><td>21.397940008672037</td><td>0.48</td><td>3.1</td><td>1.7360000000000002</td><td>1.4400921658986172e+21</td><td>4.4642857142857137e+21</td></tr>\n",
       "<tr><td>214080</td><td>4.4000000000000007e+20</td><td>1.7600000000000003e+20</td><td>0.042</td><td>0.0</td><td>4.4000000000000007e+20</td><td>0.042</td><td>0.08</td><td>3404</td><td>20.643452676486188</td><td>0.18398839264729716</td><td>20.643452676486188</td><td>0.0</td><td>3.1</td><td>0.24800000000000003</td><td>1.7741935483870967e+21</td><td>5.500000000000001e+21</td></tr>\n",
       "<tr><td>214680</td><td>5e+20</td><td>1.5e+20</td><td>0.28</td><td>1.65e+19</td><td>5.3e+20</td><td>0.29</td><td>0.11</td><td>589</td><td>20.69897000433602</td><td>0.13442265614629</td><td>20.72427586960079</td><td>0.062264150943396226</td><td>3.1</td><td>0.341</td><td>1.5542521994134896e+21</td><td>4.818181818181818e+21</td></tr>\n",
       "<tr><td>218376</td><td>9e+20</td><td>2.7000000000000003e+20</td><td>0.47</td><td>1.4e+20</td><td>1.1800000000000001e+21</td><td>0.62</td><td>0.22</td><td>621</td><td>20.954242509439325</td><td>0.13442265614629</td><td>21.071882007306126</td><td>0.23728813559322032</td><td>3.1</td><td>0.682</td><td>1.7302052785923755e+21</td><td>5.363636363636364e+21</td></tr>\n",
       "<tr><td>219188</td><td>7e+20</td><td>2.8e+20</td><td>0.096</td><td>2.2e+19</td><td>7.4e+20</td><td>0.102</td><td>0.09</td><td>2355</td><td>20.845098040014257</td><td>0.18398839264729716</td><td>20.869231719730976</td><td>0.05945945945945946</td><td>3.1</td><td>0.27899999999999997</td><td>2.652329749103943e+21</td><td>8.222222222222223e+21</td></tr>\n",
       "<tr><td>224572</td><td>7.5e+20</td><td>1.5e+20</td><td>0.65</td><td>1.7e+20</td><td>1.09e+21</td><td>0.94</td><td>0.17</td><td>377</td><td>20.8750612633917</td><td>0.08804562952784067</td><td>21.037426497940622</td><td>0.3119266055045872</td><td>3.1</td><td>0.527</td><td>2.0683111954459203e+21</td><td>6.411764705882352e+21</td></tr>\n",
       "</table></div>"
      ],
      "text/plain": [
       "<Table length=83>\n",
       "hdname          nhi           ...         NH_AV                  NH_EBV        \n",
       "int64         float64         ...        float64                float64        \n",
       "------ ---------------------- ... ---------------------- ----------------------\n",
       "   886 1.1000000000000002e+20 ... 3.5483870967741934e+21 1.1000000000000002e+22\n",
       "  2905                1.6e+21 ... 1.8248847926267281e+21  5.657142857142858e+21\n",
       "  5394               1.45e+20 ... 5.8467741935483866e+20             1.8125e+21\n",
       " 10516                3.5e+20 ...   5.96774193548387e+20               1.85e+21\n",
       " 14633                3.6e+20 ...  1.161290322580645e+21                3.6e+21\n",
       " 21856                1.1e+21 ... 2.2410865874363325e+21  6.947368421052632e+21\n",
       "   ...                    ... ...                    ...                    ...\n",
       "209975                1.3e+21 ... 1.3073005093378607e+21  4.052631578947368e+21\n",
       "210839                1.3e+21 ... 1.4400921658986172e+21 4.4642857142857137e+21\n",
       "214080 4.4000000000000007e+20 ... 1.7741935483870967e+21  5.500000000000001e+21\n",
       "214680                  5e+20 ... 1.5542521994134896e+21  4.818181818181818e+21\n",
       "218376                  9e+20 ... 1.7302052785923755e+21  5.363636363636364e+21\n",
       "219188                  7e+20 ...  2.652329749103943e+21  8.222222222222223e+21\n",
       "224572                7.5e+20 ... 2.0683111954459203e+21  6.411764705882352e+21"
      ]
     },
     "execution_count": 21,
     "metadata": {},
     "output_type": "execute_result"
    }
   ],
   "source": [
    "data_bohlin78 = get_bohlin78()\n",
    "data_bohlin78"
   ]
  },
  {
   "cell_type": "markdown",
   "metadata": {},
   "source": [
    "### Data for Shull 2021 sightlines"
   ]
  },
  {
   "cell_type": "code",
   "execution_count": 28,
   "metadata": {},
   "outputs": [
    {
     "data": {
      "text/html": [
       "<i>Row index=81</i>\n",
       "<table id=\"table140246620367840\">\n",
       "<thead><tr><th>name</th><th>EBV</th><th>lognhi</th><th>lognh2</th><th>lognhtot</th><th>fh2</th><th>nhi</th><th>nh2</th><th>nhtot</th><th>NH_EBV</th></tr></thead>\n",
       "<thead><tr><th></th><th>mag</th><th>dex(1 / cm2)</th><th>dex(1 / cm2)</th><th>dex(1 / cm2)</th><th></th><th>dex(1 / cm2)</th><th>dex(1 / cm2)</th><th>dex(1 / cm2)</th><th>dex(1 / cm2)</th></tr></thead>\n",
       "<thead><tr><th>str13</th><th>float64</th><th>float64</th><th>float64</th><th>float64</th><th>float64</th><th>float64</th><th>float64</th><th>float64</th><th>float64</th></tr></thead>\n",
       "<tr><td>HD 154368</td><td>0.81</td><td>21.0</td><td>21.17</td><td>21.6</td><td>0.747</td><td>1e+21</td><td>1.4791083881682132e+21</td><td>3.9810717055349854e+21</td><td>4.914903340166648e+21</td></tr>\n",
       "</table>"
      ],
      "text/plain": [
       "<Row index=81>\n",
       "   name     EBV      lognhi       lognh2      lognhtot     fh2       nhi               nh2                   nhtot                  NH_EBV       \n",
       "            mag   dex(1 / cm2) dex(1 / cm2) dex(1 / cm2)         dex(1 / cm2)      dex(1 / cm2)           dex(1 / cm2)           dex(1 / cm2)    \n",
       "  str13   float64   float64      float64      float64    float64   float64           float64                float64                float64       \n",
       "--------- ------- ------------ ------------ ------------ ------- ------------ ---------------------- ---------------------- ---------------------\n",
       "HD 154368    0.81         21.0        21.17         21.6   0.747        1e+21 1.4791083881682132e+21 3.9810717055349854e+21 4.914903340166648e+21"
      ]
     },
     "execution_count": 28,
     "metadata": {},
     "output_type": "execute_result"
    }
   ],
   "source": [
    "data_shull = get_shull2021()\n",
    "data_shull\n",
    "import numpy as np\n",
    "i = np.argmax(data_shull['fh2'])\n",
    "data_shull[i]"
   ]
  },
  {
   "cell_type": "code",
   "execution_count": 22,
   "metadata": {},
   "outputs": [
    {
     "data": {
      "application/vnd.jupyter.widget-view+json": {
       "model_id": "865665d47ea94a3480f6006662475f47",
       "version_major": 2,
       "version_minor": 0
      },
      "text/plain": [
       "Canvas(toolbar=Toolbar(toolitems=[('Home', 'Reset original view', 'home', 'home'), ('Back', 'Back to previous …"
      ]
     },
     "metadata": {},
     "output_type": "display_data"
    },
    {
     "data": {
      "image/png": "[encoded data removed]",
      "text/plain": [
       "<Figure size 768x576 with 1 Axes>"
      ]
     },
     "execution_count": 22,
     "metadata": {},
     "output_type": "execute_result"
    }
   ],
   "source": [
    "plt.scatter(data_shull['EBV'], data_shull['nhtot'])\n",
    "plt.gcf()"
   ]
  },
  {
   "cell_type": "markdown",
   "metadata": {},
   "source": [
    "# 1. Basic gas-to-dust slopes\n",
    "## Gas-to-A(V)\n",
    "- 4 strong outlieres in NH-AV relation. Including them breaks the fit. Effect on NH-E(B-V) is not that strong.\n",
    "- Need to investigate these points, as they might also have a strong effect on the fit result of other plots.\n",
    "- gas-to-A(V) narrower than gas-to-E(B-V)"
   ]
  },
  {
   "cell_type": "code",
   "execution_count": 6,
   "metadata": {},
   "outputs": [
    {
     "data": {
      "application/vnd.jupyter.widget-view+json": {
       "model_id": "c4593b81e99344859f2940384c58ed0d",
       "version_major": 2,
       "version_minor": 0
      },
      "text/plain": [
       "Canvas(toolbar=Toolbar(toolitems=[('Home', 'Reset original view', 'home', 'home'), ('Back', 'Back to previous …"
      ]
     },
     "metadata": {},
     "output_type": "display_data"
    },
    {
     "name": "stdout",
     "output_type": "stream",
     "text": [
      "No covariances implemented for this parameter pair. If x and y are uncorrelated, you can dismiss this.\n",
      "No covariances implemented for this parameter pair. If x and y are uncorrelated, you can dismiss this.\n",
      "Solution\n",
      "m, b_perp: 7.939552440521085e+20 1.4484475305900344\n",
      "m, b: 7.939552440521085e+20 1.1500025126462848e+21\n",
      "Bootstrap: m = 8.155701689743514e+20 ; b = 3.1335654842980216\n",
      "Bootstrap: sm = 3.009592632284321e+20 ; sb = 13.325403128662456\n",
      "Bootstrap: corr(m, b) = -0.3506093890139378\n"
     ]
    },
    {
     "data": {
      "application/vnd.jupyter.widget-view+json": {
       "model_id": "3c77eb04b0a44bb09dca10232d1c4dc5",
       "version_major": 2,
       "version_minor": 0
      },
      "text/plain": [
       "Canvas(toolbar=Toolbar(toolitems=[('Home', 'Reset original view', 'home', 'home'), ('Back', 'Back to previous …"
      ]
     },
     "metadata": {},
     "output_type": "display_data"
    },
    {
     "name": "stdout",
     "output_type": "stream",
     "text": [
      "No covariances implemented for this parameter pair. If x and y are uncorrelated, you can dismiss this.\n",
      "No covariances implemented for this parameter pair. If x and y are uncorrelated, you can dismiss this.\n",
      "No covariances implemented for this parameter pair. If x and y are uncorrelated, you can dismiss this.\n",
      "Solution\n",
      "m, b_perp: 1.6168247092303563e+21 0.2104109043344427\n",
      "m, b: 1.6168247092303563e+21 3.4019754921943165e+20\n",
      "Bootstrap: m = 1.6710284333171113e+21 ; b = 0.18009932977928536\n",
      "Bootstrap: sm = 1.711838269784509e+20 ; sb = 0.13483671047611603\n",
      "Bootstrap: corr(m, b) = -0.9365131312194871\n"
     ]
    }
   ],
   "source": [
    "fig1 = plot_results2(data, 'AV', 'nhtot', pxrange=[0.0,3.5], pyrange=[0.0,0.8e22],\n",
    "            data_comp=data_comp, data_bohlin=data_bohlin78)\n",
    "fig2 = plot_results2(data, 'AV', 'nhtot', pxrange=[0.0,3.5], pyrange=[0.0,0.8e22],\n",
    "            data_comp=data_comp, data_bohlin=data_bohlin78, ignore_comments=['lo_h_av', 'hi_h_av'])"
   ]
  },
  {
   "cell_type": "markdown",
   "metadata": {},
   "source": [
    "## Gas-to-E(B-V)\n"
   ]
  },
  {
   "cell_type": "code",
   "execution_count": 7,
   "metadata": {},
   "outputs": [
    {
     "data": {
      "application/vnd.jupyter.widget-view+json": {
       "model_id": "cf447b70b12041f5b8a9991db731fa42",
       "version_major": 2,
       "version_minor": 0
      },
      "text/plain": [
       "Canvas(toolbar=Toolbar(toolitems=[('Home', 'Reset original view', 'home', 'home'), ('Back', 'Back to previous …"
      ]
     },
     "metadata": {},
     "output_type": "display_data"
    },
    {
     "name": "stdout",
     "output_type": "stream",
     "text": [
      "No covariances implemented for this parameter pair. If x and y are uncorrelated, you can dismiss this.\n",
      "No covariances implemented for this parameter pair. If x and y are uncorrelated, you can dismiss this.\n",
      "Solution\n",
      "m, b_perp: 6.574558880523592e+21 -0.03163856654887931\n",
      "m, b: 6.574558880523592e+21 -2.0800961867097113e+20\n",
      "Bootstrap: m = 6.584687329849562e+21 ; b = -0.0274903701779984\n",
      "Bootstrap: sm = 8.916910188103179e+20 ; sb = 0.04626525370461716\n",
      "Bootstrap: corr(m, b) = -0.9563264203834154\n"
     ]
    },
    {
     "data": {
      "application/vnd.jupyter.widget-view+json": {
       "model_id": "f04f3fe53d284aabae929648d9ff7057",
       "version_major": 2,
       "version_minor": 0
      },
      "text/plain": [
       "Canvas(toolbar=Toolbar(toolitems=[('Home', 'Reset original view', 'home', 'home'), ('Back', 'Back to previous …"
      ]
     },
     "metadata": {},
     "output_type": "display_data"
    },
    {
     "name": "stdout",
     "output_type": "stream",
     "text": [
      "No covariances implemented for this parameter pair. If x and y are uncorrelated, you can dismiss this.\n",
      "No covariances implemented for this parameter pair. If x and y are uncorrelated, you can dismiss this.\n",
      "No covariances implemented for this parameter pair. If x and y are uncorrelated, you can dismiss this.\n",
      "Solution\n",
      "m, b_perp: 6.256271569683326e+21 -0.004522248162232323\n",
      "m, b: 6.256271569683326e+21 -2.829241260842675e+19\n",
      "Bootstrap: m = 6.262405688099472e+21 ; b = 0.0004995087034453663\n",
      "Bootstrap: sm = 7.877182723053949e+20 ; sb = 0.048647483113250414\n",
      "Bootstrap: corr(m, b) = -0.9513074742933889\n"
     ]
    }
   ],
   "source": [
    "fig1 = plot_results2(data, 'EBV', 'nhtot', pyrange=[0.0,0.8e22],\n",
    "            data_comp=data_comp, data_bohlin=data_bohlin78, data_shull=data_shull)\n",
    "fig2 = plot_results2(data, 'EBV', 'nhtot', pyrange=[0.0,0.8e22],\n",
    "            data_comp=data_comp, data_bohlin=data_bohlin78, data_shull=data_shull, ignore_comments=['lo_h_av', 'hi_h_av'])"
   ]
  },
  {
   "cell_type": "markdown",
   "metadata": {},
   "source": [
    "# 2. Gas-to-dust vs other things\n",
    "\n",
    "## VS dust column and gas column\n",
    "\n",
    "Before making any big conlusions here, the correlation between NH / AV and AV needs to be implemented properly. Preliminarily, we have:"
   ]
  },
  {
   "cell_type": "markdown",
   "metadata": {},
   "source": [
    "### Using A(V)\n",
    "The bad points mentioned above seem to pull down NH/AV - AV pretty badly. Not including them makes the downward slope insignificant. \n",
    "\n",
    "With them included:\n",
    "\n",
    "NH-AV goes down with AV, but up with NH! Despite the fact that AV and NH have a well-defined slope in the plots above!"
   ]
  },
  {
   "cell_type": "code",
   "execution_count": 8,
   "metadata": {},
   "outputs": [
    {
     "data": {
      "application/vnd.jupyter.widget-view+json": {
       "model_id": "f639b7b120ab4ef28cb31fa2cff62298",
       "version_major": 2,
       "version_minor": 0
      },
      "text/plain": [
       "Canvas(toolbar=Toolbar(toolitems=[('Home', 'Reset original view', 'home', 'home'), ('Back', 'Back to previous …"
      ]
     },
     "metadata": {},
     "output_type": "display_data"
    },
    {
     "name": "stdout",
     "output_type": "stream",
     "text": [
      "Solution\n",
      "m, b_perp: -6.430885277786043e+20 4.066285958059688\n",
      "m, b: -6.430885277786043e+20 2.6149818502954164e+21\n",
      "Bootstrap: m = -5.980186853328956e+20 ; b = 4.618130066274865\n",
      "Bootstrap: sm = 1.6845682537468068e+20 ; sb = 1.6027729455950448\n",
      "Bootstrap: corr(m, b) = 0.842068182266129\n"
     ]
    },
    {
     "data": {
      "application/vnd.jupyter.widget-view+json": {
       "model_id": "468f4858a42a49b088b15c4fbd80f4d3",
       "version_major": 2,
       "version_minor": 0
      },
      "text/plain": [
       "Canvas(toolbar=Toolbar(toolitems=[('Home', 'Reset original view', 'home', 'home'), ('Back', 'Back to previous …"
      ]
     },
     "metadata": {},
     "output_type": "display_data"
    },
    {
     "name": "stdout",
     "output_type": "stream",
     "text": [
      "Solution\n",
      "m, b_perp: -0.883027414356356 2.7802512971024297e+21\n",
      "m, b: -0.883027414356356 3.709044272710429e+21\n",
      "Bootstrap: m = 21424.49720770099 ; b = 1.746444114543296e+21\n",
      "Bootstrap: sm = 80192.15043445416 ; sb = 1.6811707995549034e+21\n",
      "Bootstrap: corr(m, b) = -0.612030633903515\n"
     ]
    }
   ],
   "source": [
    "fig1 = plot_results2(data, 'AV', 'NH_AV', pyrange=[0.0,0.5e22], pxrange=[0,4],\n",
    "            data_comp=data_comp,data_bohlin=data_bohlin78)\n",
    "fig2 = plot_results2(data, 'nhtot', 'NH_AV', pyrange=[0.0,0.5e22], pxrange=[0, 1.2e22],\n",
    "            data_comp=data_comp,data_bohlin=data_bohlin78)"
   ]
  },
  {
   "cell_type": "markdown",
   "metadata": {},
   "source": [
    "### Using E(B-V)\n",
    "\n",
    "In this case, the slope of NH / EBV is unclear, but NH / EBV does sem to go up with EBV!"
   ]
  },
  {
   "cell_type": "code",
   "execution_count": 23,
   "metadata": {},
   "outputs": [
    {
     "data": {
      "application/vnd.jupyter.widget-view+json": {
       "model_id": "d466c0721748487b8e9ef24be07aa25b",
       "version_major": 2,
       "version_minor": 0
      },
      "text/plain": [
       "Canvas(toolbar=Toolbar(toolitems=[('Home', 'Reset original view', 'home', 'home'), ('Back', 'Back to previous …"
      ]
     },
     "metadata": {},
     "output_type": "display_data"
    },
    {
     "name": "stdout",
     "output_type": "stream",
     "text": [
      "Solution\n",
      "m, b_perp: 3.046182440591353e+21 1.3852939357594147\n",
      "m, b: 3.046182440591353e+21 4.219858062168015e+21\n",
      "Bootstrap: m = 2.752149156387848e+21 ; b = 3.5977896215286616\n",
      "Bootstrap: sm = 2.595860383691017e+21 ; sb = 6.3778342266473835\n",
      "Bootstrap: corr(m, b) = -0.4201595865885977\n"
     ]
    },
    {
     "data": {
      "application/vnd.jupyter.widget-view+json": {
       "model_id": "aeeda73945674dcb9f088cf9dfda0099",
       "version_major": 2,
       "version_minor": 0
      },
      "text/plain": [
       "Canvas(toolbar=Toolbar(toolitems=[('Home', 'Reset original view', 'home', 'home'), ('Back', 'Back to previous …"
      ]
     },
     "metadata": {},
     "output_type": "display_data"
    },
    {
     "name": "stdout",
     "output_type": "stream",
     "text": [
      "Solution\n",
      "m, b_perp: 0.42396286385548004 4.062289388871619e+21\n",
      "m, b: 0.42396286385548004 4.412298045933434e+21\n",
      "Bootstrap: m = 0.4926502467525827 ; b = 3.981634981325153e+21\n",
      "Bootstrap: sm = 0.48850470866118817 ; sb = 1.0988038467053173e+21\n",
      "Bootstrap: corr(m, b) = -0.9177919279229121\n"
     ]
    }
   ],
   "source": [
    "fig1 = plot_results2(data, 'EBV', 'NH_EBV', pyrange=[0.0,1.5e22], pxrange=[-.1,1],\n",
    "            data_comp=data_comp,data_bohlin=data_bohlin78, data_shull=data_shull)\n",
    "fig2 = plot_results2(data, 'nhtot', 'NH_EBV', pyrange=[0.0,1.5e22], pxrange=[0,1.2e22],\n",
    "            data_comp=data_comp,data_bohlin=data_bohlin78, data_shull=data_shull)"
   ]
  },
  {
   "cell_type": "markdown",
   "metadata": {},
   "source": [
    "## VS average grain size (RV)"
   ]
  },
  {
   "cell_type": "code",
   "execution_count": 10,
   "metadata": {},
   "outputs": [
    {
     "data": {
      "application/vnd.jupyter.widget-view+json": {
       "model_id": "9ddf39221bb44879b6f5a917bb13a287",
       "version_major": 2,
       "version_minor": 0
      },
      "text/plain": [
       "Canvas(toolbar=Toolbar(toolitems=[('Home', 'Reset original view', 'home', 'home'), ('Back', 'Back to previous …"
      ]
     },
     "metadata": {},
     "output_type": "display_data"
    },
    {
     "name": "stdout",
     "output_type": "stream",
     "text": [
      "Solution\n",
      "m, b_perp: -1.3263289290806843e+21 4.616167922622815\n",
      "m, b: -1.3263289290806843e+21 6.122557057268926e+21\n",
      "Bootstrap: m = -2.304288256890873e+25 ; b = 4.583576190168204\n",
      "Bootstrap: sm = 2.292581383468506e+26 ; sb = 0.5012611239611904\n",
      "Bootstrap: corr(m, b) = 0.31975775367875525\n"
     ]
    }
   ],
   "source": [
    "_ = plot_results2(data, 'RV', 'NH_AV', pxrange=[2.5,6.0], pyrange=[0.0,0.5e22],\n",
    "            data_comp=data_comp)"
   ]
  },
  {
   "cell_type": "markdown",
   "metadata": {},
   "source": [
    "## VS molecular fraction (fH2)\n",
    "### Using A(V)"
   ]
  },
  {
   "cell_type": "code",
   "execution_count": 11,
   "metadata": {},
   "outputs": [
    {
     "data": {
      "application/vnd.jupyter.widget-view+json": {
       "model_id": "4835f376ecf240cead232f5349472f30",
       "version_major": 2,
       "version_minor": 0
      },
      "text/plain": [
       "Canvas(toolbar=Toolbar(toolitems=[('Home', 'Reset original view', 'home', 'home'), ('Back', 'Back to previous …"
      ]
     },
     "metadata": {},
     "output_type": "display_data"
    },
    {
     "name": "stdout",
     "output_type": "stream",
     "text": [
      "Solution\n",
      "m, b_perp: -1.3623060729474968e+21 1.4661737959659285\n",
      "m, b: -1.3623060729474968e+21 1.9973774662408685e+21\n",
      "Bootstrap: m = -9.332022637152025e+20 ; b = 5.603376788908673\n",
      "Bootstrap: sm = 1.252939960354417e+21 ; sb = 30.384720111561684\n",
      "Bootstrap: corr(m, b) = 0.10498787651170949\n"
     ]
    }
   ],
   "source": [
    "_ = plot_results2(data, 'fh2', 'NH_AV', pxrange=[0.0,0.7], pyrange=[0.0,0.5e22],\n",
    "            data_comp=data_comp, data_bohlin=data_bohlin78)"
   ]
  },
  {
   "cell_type": "markdown",
   "metadata": {},
   "source": [
    "### Using E(B-V)"
   ]
  },
  {
   "cell_type": "code",
   "execution_count": 25,
   "metadata": {},
   "outputs": [
    {
     "data": {
      "application/vnd.jupyter.widget-view+json": {
       "model_id": "37edbc742de14b739991b3131b34d87e",
       "version_major": 2,
       "version_minor": 0
      },
      "text/plain": [
       "Canvas(toolbar=Toolbar(toolitems=[('Home', 'Reset original view', 'home', 'home'), ('Back', 'Back to previous …"
      ]
     },
     "metadata": {},
     "output_type": "display_data"
    },
    {
     "name": "stdout",
     "output_type": "stream",
     "text": [
      "Solution\n",
      "m, b_perp: -2.6973244186064176e+21 2.352617070891178\n",
      "m, b: -2.6973244186064176e+21 6.345771472945081e+21\n",
      "Bootstrap: m = -2.5939499003972886e+21 ; b = 3.7429520745254683\n",
      "Bootstrap: sm = 1.4279060624092168e+21 ; sb = 4.105198192568559\n",
      "Bootstrap: corr(m, b) = 0.5927722235191364\n"
     ]
    }
   ],
   "source": [
    "_ = plot_results2(data, 'fh2', 'NH_EBV', pxrange=[0.0,0.7], pyrange=[0.0,1.5e22],\n",
    "            data_comp=data_comp, data_bohlin=data_bohlin78, data_shull=data_shull)"
   ]
  },
  {
   "cell_type": "markdown",
   "metadata": {},
   "source": [
    "# 3. Molecular fraction vs others \n",
    "\n",
    "E(B-V) seems a better predictor of fh2 than A(V)\n",
    "\n",
    "## VS E(B-V) dust column"
   ]
  },
  {
   "cell_type": "code",
   "execution_count": 29,
   "metadata": {},
   "outputs": [
    {
     "data": {
      "application/vnd.jupyter.widget-view+json": {
       "model_id": "d5fe8e72bd6345529d1606932c981ef8",
       "version_major": 2,
       "version_minor": 0
      },
      "text/plain": [
       "Canvas(toolbar=Toolbar(toolitems=[('Home', 'Reset original view', 'home', 'home'), ('Back', 'Back to previous …"
      ]
     },
     "metadata": {},
     "output_type": "display_data"
    },
    {
     "name": "stdout",
     "output_type": "stream",
     "text": [
      "No covariances implemented for this parameter pair. If x and y are uncorrelated, you can dismiss this.\n",
      "No covariances implemented for this parameter pair. If x and y are uncorrelated, you can dismiss this.\n",
      "Solution\n",
      "m, b_perp: 0.8261948029503943 -0.09831842798596063\n",
      "m, b: 0.8261948029503943 -0.1275337386266183\n",
      "Bootstrap: m = 0.8472991100317542 ; b = -0.10176132306458717\n",
      "Bootstrap: sm = 0.1311787526412356 ; sb = 0.031136484686225287\n",
      "Bootstrap: corr(m, b) = -0.9453566964214722\n"
     ]
    }
   ],
   "source": [
    "_ = plot_results2(data, 'EBV', 'fh2',\n",
    "            data_comp=data_comp, data_bohlin=data_bohlin78, data_shull=data_shull)"
   ]
  },
  {
   "cell_type": "markdown",
   "metadata": {},
   "source": [
    "## VS A(V) dust column"
   ]
  },
  {
   "cell_type": "code",
   "execution_count": 30,
   "metadata": {},
   "outputs": [
    {
     "data": {
      "application/vnd.jupyter.widget-view+json": {
       "model_id": "bfae497e76254ada8a7e982bd0e9f519",
       "version_major": 2,
       "version_minor": 0
      },
      "text/plain": [
       "Canvas(toolbar=Toolbar(toolitems=[('Home', 'Reset original view', 'home', 'home'), ('Back', 'Back to previous …"
      ]
     },
     "metadata": {},
     "output_type": "display_data"
    },
    {
     "name": "stdout",
     "output_type": "stream",
     "text": [
      "No covariances implemented for this parameter pair. If x and y are uncorrelated, you can dismiss this.\n",
      "No covariances implemented for this parameter pair. If x and y are uncorrelated, you can dismiss this.\n",
      "Solution\n",
      "m, b_perp: 0.17648593902273363 -0.09489698916453\n",
      "m, b: 0.17648593902273363 -0.09636354875522762\n",
      "Bootstrap: m = 0.1503877589728589 ; b = -0.06620988607252883\n",
      "Bootstrap: sm = 0.0799300050473388 ; sb = 0.07415568509261722\n",
      "Bootstrap: corr(m, b) = -0.9662737612369706\n"
     ]
    }
   ],
   "source": [
    "_ = plot_results2(data, 'AV', 'fh2', data_comp=data_comp, data_bohlin=data_bohlin78)"
   ]
  },
  {
   "cell_type": "markdown",
   "metadata": {},
   "source": [
    "## VS average grain size (RV)"
   ]
  },
  {
   "cell_type": "code",
   "execution_count": 15,
   "metadata": {},
   "outputs": [
    {
     "data": {
      "application/vnd.jupyter.widget-view+json": {
       "model_id": "b0bc45b3f2744dd4811745c95b697b22",
       "version_major": 2,
       "version_minor": 0
      },
      "text/plain": [
       "Canvas(toolbar=Toolbar(toolitems=[('Home', 'Reset original view', 'home', 'home'), ('Back', 'Back to previous …"
      ]
     },
     "metadata": {},
     "output_type": "display_data"
    },
    {
     "name": "stdout",
     "output_type": "stream",
     "text": [
      "No covariances implemented for this parameter pair. If x and y are uncorrelated, you can dismiss this.\n",
      "No covariances implemented for this parameter pair. If x and y are uncorrelated, you can dismiss this.\n",
      "No covariances implemented for this parameter pair. If x and y are uncorrelated, you can dismiss this.\n",
      "Solution\n",
      "m, b_perp: -0.3108279462092266 1.1721327402835853\n",
      "m, b: -0.3108279462092266 1.2274496668295722\n",
      "Bootstrap: m = 283.760409716585 ; b = 1.0823027804619083\n",
      "Bootstrap: sm = 2826.3767401778514 ; sb = 0.5423699264979033\n",
      "Bootstrap: corr(m, b) = -0.7595202366114627\n"
     ]
    }
   ],
   "source": [
    "_ = plot_results2(data, 'RV', 'fh2', pxrange=[2.0,6.0], data_comp=data_comp, ignore_comments=['lo_h_av', 'hi_h_av'])"
   ]
  },
  {
   "cell_type": "markdown",
   "metadata": {},
   "source": [
    "# 4. Basic extinction relations"
   ]
  },
  {
   "cell_type": "code",
   "execution_count": 16,
   "metadata": {},
   "outputs": [
    {
     "data": {
      "application/vnd.jupyter.widget-view+json": {
       "model_id": "619dd6aa2c824e0eb693961d7fe4bb0c",
       "version_major": 2,
       "version_minor": 0
      },
      "text/plain": [
       "Canvas(toolbar=Toolbar(toolitems=[('Home', 'Reset original view', 'home', 'home'), ('Back', 'Back to previous …"
      ]
     },
     "metadata": {},
     "output_type": "display_data"
    },
    {
     "name": "stdout",
     "output_type": "stream",
     "text": [
      "No covariances implemented for this parameter pair. If x and y are uncorrelated, you can dismiss this.\n",
      "Solution\n",
      "m, b_perp: -0.8609083812877215 2.73747255331241\n",
      "m, b: -0.8609083812877215 3.612181120794964\n",
      "Bootstrap: m = -1.0288972697971288 ; b = 2.533462314048201\n",
      "Bootstrap: sm = 1.1213834626986439 ; sb = 0.5463620595145419\n",
      "Bootstrap: corr(m, b) = 0.7957784584760382\n"
     ]
    }
   ],
   "source": [
    "_ = plot_results2(data, 'EBV', 'RV')"
   ]
  },
  {
   "cell_type": "code",
   "execution_count": 17,
   "metadata": {},
   "outputs": [
    {
     "data": {
      "application/vnd.jupyter.widget-view+json": {
       "model_id": "09459209b897414286b1fc8e8fc8b5cb",
       "version_major": 2,
       "version_minor": 0
      },
      "text/plain": [
       "Canvas(toolbar=Toolbar(toolitems=[('Home', 'Reset original view', 'home', 'home'), ('Back', 'Back to previous …"
      ]
     },
     "metadata": {},
     "output_type": "display_data"
    },
    {
     "name": "stdout",
     "output_type": "stream",
     "text": [
      "No covariances implemented for this parameter pair. If x and y are uncorrelated, you can dismiss this.\n",
      "Solution\n",
      "m, b_perp: 0.240309989775073 2.6693975017784384\n",
      "m, b: 0.240309989775073 2.7453931077335967\n",
      "Bootstrap: m = 0.24326863362248918 ; b = 2.663142445199492\n",
      "Bootstrap: sm = 0.11886814175741989 ; sb = 0.2352696839026726\n",
      "Bootstrap: corr(m, b) = -0.9781003477976151\n"
     ]
    }
   ],
   "source": [
    "_ = plot_results2(data, 'AV', 'RV')"
   ]
  },
  {
   "cell_type": "markdown",
   "metadata": {},
   "source": [
    "# Other ideas"
   ]
  },
  {
   "cell_type": "markdown",
   "metadata": {},
   "source": [
    "longitude versus rv and distance versus rv (and versus fh2)"
   ]
  },
  {
   "cell_type": "markdown",
   "metadata": {},
   "source": [
    "COS FUV needs 2x10-13 ergs/blah blah"
   ]
  },
  {
   "cell_type": "markdown",
   "metadata": {},
   "source": [
    "E140H for CO (maybe E140M), S/N 15..."
   ]
  },
  {
   "cell_type": "markdown",
   "metadata": {},
   "source": [
    "E(B-V)/distance versus fH2.  Should also do A(V)/d.  Maybe n(H) as well."
   ]
  }
 ],
 "metadata": {
  "anaconda-cloud": {},
  "kernelspec": {
   "display_name": "Python 3 (ipykernel)",
   "language": "python",
   "name": "python3"
  },
  "language_info": {
   "codemirror_mode": {
    "name": "ipython",
    "version": 3
   },
   "file_extension": ".py",
   "mimetype": "text/x-python",
   "name": "python",
   "nbconvert_exporter": "python",
   "pygments_lexer": "ipython3",
   "version": "3.8.10"
  }
 },
 "nbformat": 4,
 "nbformat_minor": 4
}
