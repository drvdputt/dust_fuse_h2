{
 "cells": [
  {
   "cell_type": "code",
   "execution_count": 29,
   "metadata": {},
   "outputs": [
    {
     "name": "stdout",
     "output_type": "stream",
     "text": [
      "The autoreload extension is already loaded. To reload it, use:\n",
      "  %reload_ext autoreload\n"
     ]
    }
   ],
   "source": [
    "%load_ext autoreload\n",
    "%autoreload 2\n",
    "\n",
    "from get_data import (get_merged_table, get_bohlin78, get_shull2021)\n",
    "from plot_fuse_results import plot_results2\n",
    "from matplotlib import pyplot as plt\n",
    "from astropy.table import Column\n",
    "from mpl_toolkits import mplot3d\n",
    "\n",
    "plt.ioff()\n",
    "\n",
    "import matplotlib as mpl\n",
    "mpl.rcParams['figure.dpi'] = 120\n",
    "%matplotlib widget"
   ]
  },
  {
   "cell_type": "markdown",
   "metadata": {},
   "source": [
    "# Get the data"
   ]
  },
  {
   "cell_type": "markdown",
   "metadata": {},
   "source": [
    "### data for Gordon09 extinction curve sightlines"
   ]
  },
  {
   "cell_type": "code",
   "execution_count": 30,
   "metadata": {},
   "outputs": [],
   "source": [
    "data = get_merged_table()\n",
    "# add comments for certain stars here\n",
    "data.add_column(Column(['no'] * len(data), dtype='<U16', name='comment'))\n",
    "def set_comment(name, s):\n",
    "    data['comment'][data['Name'] == name] = s\n",
    "\n",
    "for name in [\"HD200775\", \"HD164906\", \"HD045314\", \"HD206773\"]:\n",
    "    set_comment(name, \"lo_h_av\")\n",
    "\n",
    "set_comment(\"HD096675\", \"hi_h_av\")"
   ]
  },
  {
   "cell_type": "markdown",
   "metadata": {},
   "source": [
    "### data for Gordon09 comparision star sightlines"
   ]
  },
  {
   "cell_type": "code",
   "execution_count": 31,
   "metadata": {},
   "outputs": [],
   "source": [
    "data_comp = get_merged_table(comp=True)"
   ]
  },
  {
   "cell_type": "markdown",
   "metadata": {},
   "source": [
    "### data for Bohlin 78 Copernicus sightlines"
   ]
  },
  {
   "cell_type": "code",
   "execution_count": 32,
   "metadata": {},
   "outputs": [],
   "source": [
    "data_bohlin78 = get_bohlin78()"
   ]
  },
  {
   "cell_type": "code",
   "execution_count": 33,
   "metadata": {},
   "outputs": [
    {
     "name": "stdout",
     "output_type": "stream",
     "text": [
      "['1_RV', '1_RV_unc', 'A1000', 'A1000_AV', 'A1000_AV_unc', 'A1000_unc', 'A1100', 'A1100_AV', 'A1100_AV_unc', 'A1100_unc', 'A1300', 'A1300_AV', 'A1300_AV_unc', 'A1300_unc', 'A2000', 'A2000_AV', 'A2000_AV_unc', 'A2000_unc', 'A4000', 'A4000_AV', 'A4000_AV_unc', 'A4000_unc', 'A880', 'A880_AV', 'A880_AV_unc', 'A880_unc', 'AV', 'AV_runc', 'AV_sunc', 'AV_unc', 'C1', 'C1_unc', 'C2', 'C2_unc', 'C3', 'C3_unc', 'C4', 'C4_unc', 'CAV1', 'CAV1_runc', 'CAV1_sunc', 'CAV1_unc', 'CAV2', 'CAV2_runc', 'CAV2_sunc', 'CAV2_unc', 'CAV3', 'CAV3_runc', 'CAV3_sunc', 'CAV3_unc', 'CAV4', 'CAV4_runc', 'CAV4_sunc', 'CAV4_unc', 'Comparison', 'EBV', 'EBV_runc', 'EBV_sunc', 'EBV_unc', 'NH_AV', 'NH_AV_unc', 'NH_EBV', 'NH_EBV_unc', 'Name', 'RV', 'RV_runc', 'RV_sunc', 'RV_unc', 'SpType', 'V', 'bump_area', 'bump_area_unc', 'comment', 'fh2', 'fh2_unc', 'gamma', 'gamma_runc', 'gamma_sunc', 'gamma_unc', 'hiref', 'logfh2', 'lognh', 'lognh2', 'lognh2_unc', 'lognhi', 'lognhi_unc', 'lognhtot', 'lognhtot_unc', 'nh', 'nh2', 'nh2_unc', 'nhi', 'nhi_unc', 'nhtot', 'nhtot_unc', 'x_o', 'x_o_runc', 'x_o_sunc', 'x_o_unc']\n"
     ]
    }
   ],
   "source": [
    "print(sorted(data.colnames))"
   ]
  },
  {
   "cell_type": "markdown",
   "metadata": {},
   "source": [
    "# FM90 params versus fraction H2"
   ]
  },
  {
   "cell_type": "markdown",
   "metadata": {
    "tags": []
   },
   "source": [
    "## Specific wavelength extinction\n",
    "fh2 vs 1000 (or 1100) shows some structure.\n",
    "fh2 vs 1300 none at all\n",
    "fh2 vs 4000 looks like fh2 vs AV (as expected)"
   ]
  },
  {
   "cell_type": "code",
   "execution_count": 34,
   "metadata": {},
   "outputs": [
    {
     "data": {
      "application/vnd.jupyter.widget-view+json": {
       "model_id": "15bb670a31574aa3b6b7982d0c9dd2d1",
       "version_major": 2,
       "version_minor": 0
      },
      "text/plain": [
       "Canvas(toolbar=Toolbar(toolitems=[('Home', 'Reset original view', 'home', 'home'), ('Back', 'Back to previous …"
      ]
     },
     "metadata": {},
     "output_type": "display_data"
    },
    {
     "name": "stdout",
     "output_type": "stream",
     "text": [
      "No covariances implemented for this parameter pair. If x and y are uncorrelated, you can dismiss this.\n",
      "No covariances implemented for this parameter pair. If x and y are uncorrelated, you can dismiss this.\n",
      "Solution\n",
      "m, b_perp: 0.04194022841320776 -0.16973002786749938\n",
      "m, b: 0.04194022841320776 -0.16987923837803057\n",
      "chi2min: 129.98183737784802 or 1.7805731147650414 per DOF\n",
      "Bootstrap: m = 0.0415076136260317 ; b = -0.16412135345027307\n",
      "Bootstrap: sm = 0.004133638227503803 ; sb = 0.03013115276924881\n",
      "Bootstrap: corr(m, b) = -0.9216186440732782\n"
     ]
    }
   ],
   "source": [
    "_ = plot_results2(data, \"A880\", 'fh2', mark_comments=['lo_h_av'])"
   ]
  },
  {
   "cell_type": "code",
   "execution_count": 35,
   "metadata": {},
   "outputs": [
    {
     "data": {
      "application/vnd.jupyter.widget-view+json": {
       "model_id": "834601a853b24bd8bd30f42878b8743e",
       "version_major": 2,
       "version_minor": 0
      },
      "text/plain": [
       "Canvas(toolbar=Toolbar(toolitems=[('Home', 'Reset original view', 'home', 'home'), ('Back', 'Back to previous …"
      ]
     },
     "metadata": {},
     "output_type": "display_data"
    },
    {
     "name": "stdout",
     "output_type": "stream",
     "text": [
      "No covariances implemented for this parameter pair. If x and y are uncorrelated, you can dismiss this.\n",
      "No covariances implemented for this parameter pair. If x and y are uncorrelated, you can dismiss this.\n",
      "Solution\n",
      "m, b_perp: 0.06052270279599328 -0.1945110071873502\n",
      "m, b: 0.06052270279599328 -0.19486692822255938\n",
      "chi2min: 138.15402600093603 or 1.8925209041224114 per DOF\n",
      "Bootstrap: m = 0.05940111313872921 ; b = -0.18590577069732891\n",
      "Bootstrap: sm = 0.007192904518982313 ; sb = 0.04352878635160957\n",
      "Bootstrap: corr(m, b) = -0.9185489889764136\n"
     ]
    }
   ],
   "source": [
    "_ = plot_results2(data, \"A1000\", 'fh2', mark_comments=['lo_h_av'])"
   ]
  },
  {
   "cell_type": "code",
   "execution_count": 36,
   "metadata": {},
   "outputs": [
    {
     "data": {
      "application/vnd.jupyter.widget-view+json": {
       "model_id": "54afa3be7c9c49be964d2e0ecd06f26d",
       "version_major": 2,
       "version_minor": 0
      },
      "text/plain": [
       "Canvas(toolbar=Toolbar(toolitems=[('Home', 'Reset original view', 'home', 'home'), ('Back', 'Back to previous …"
      ]
     },
     "metadata": {},
     "output_type": "display_data"
    },
    {
     "name": "stdout",
     "output_type": "stream",
     "text": [
      "No covariances implemented for this parameter pair. If x and y are uncorrelated, you can dismiss this.\n",
      "No covariances implemented for this parameter pair. If x and y are uncorrelated, you can dismiss this.\n",
      "Solution\n",
      "m, b_perp: 240.3445070724511 -0.26365379193961447\n",
      "m, b: 240.3445070724511 -63.36828915053881\n",
      "chi2min: 159.46174724591143 or 2.1844074965193347 per DOF\n",
      "Bootstrap: m = -688691.639390388 ; b = -0.2066026802399986\n",
      "Bootstrap: sm = 4130886.502168099 ; sb = 0.15991553662565094\n",
      "Bootstrap: corr(m, b) = -0.5228031332498801\n"
     ]
    }
   ],
   "source": [
    "_ = plot_results2(data, '1_RV', 'A1000', mark_comments=['lo_h_av'])"
   ]
  },
  {
   "cell_type": "code",
   "execution_count": 37,
   "metadata": {},
   "outputs": [
    {
     "data": {
      "application/vnd.jupyter.widget-view+json": {
       "model_id": "a260778650c84d28b61a5ab9606d7346",
       "version_major": 2,
       "version_minor": 0
      },
      "text/plain": [
       "Canvas(toolbar=Toolbar(toolitems=[('Home', 'Reset original view', 'home', 'home'), ('Back', 'Back to previous …"
      ]
     },
     "metadata": {},
     "output_type": "display_data"
    },
    {
     "name": "stdout",
     "output_type": "stream",
     "text": [
      "No covariances implemented for this parameter pair. If x and y are uncorrelated, you can dismiss this.\n",
      "No covariances implemented for this parameter pair. If x and y are uncorrelated, you can dismiss this.\n",
      "Solution\n",
      "m, b_perp: 0.009572750234500604 0.0184075440439468\n",
      "m, b: 0.009572750234500604 0.018408387435717374\n",
      "chi2min: 335.8978109785976 or 4.601339876419145 per DOF\n",
      "Bootstrap: m = 0.010326375936950865 ; b = 0.034211524016478784\n",
      "Bootstrap: sm = 0.024364476729197008 ; sb = 0.117443351653465\n",
      "Bootstrap: corr(m, b) = -0.96439401233045\n"
     ]
    }
   ],
   "source": [
    "_ = plot_results2(data, \"A1000_AV\", 'fh2', mark_comments=['lo_h_av'])"
   ]
  },
  {
   "cell_type": "code",
   "execution_count": 38,
   "metadata": {},
   "outputs": [
    {
     "data": {
      "application/vnd.jupyter.widget-view+json": {
       "model_id": "760071a1a70d4f0696633b50f76f2494",
       "version_major": 2,
       "version_minor": 0
      },
      "text/plain": [
       "Canvas(toolbar=Toolbar(toolitems=[('Home', 'Reset original view', 'home', 'home'), ('Back', 'Back to previous …"
      ]
     },
     "metadata": {},
     "output_type": "display_data"
    },
    {
     "name": "stdout",
     "output_type": "stream",
     "text": [
      "No covariances implemented for this parameter pair. If x and y are uncorrelated, you can dismiss this.\n",
      "No covariances implemented for this parameter pair. If x and y are uncorrelated, you can dismiss this.\n",
      "Solution\n",
      "m, b_perp: 0.006785556724528103 0.03539914442480075\n",
      "m, b: 0.006785556724528103 0.035399959370630195\n",
      "chi2min: 340.8398421637935 or 4.6690389337505955 per DOF\n",
      "Bootstrap: m = 0.011964864748780599 ; b = 0.03650407793128913\n",
      "Bootstrap: sm = 0.03761825546280367 ; sb = 0.15208381781647204\n",
      "Bootstrap: corr(m, b) = -0.9750432792923439\n"
     ]
    }
   ],
   "source": [
    "_ = plot_results2(data, \"A1100_AV\", 'fh2', mark_comments=['lo_h_av'])"
   ]
  },
  {
   "cell_type": "code",
   "execution_count": 39,
   "metadata": {},
   "outputs": [
    {
     "data": {
      "application/vnd.jupyter.widget-view+json": {
       "model_id": "4836ee40da584981bf3a5889792c9ae5",
       "version_major": 2,
       "version_minor": 0
      },
      "text/plain": [
       "Canvas(toolbar=Toolbar(toolitems=[('Home', 'Reset original view', 'home', 'home'), ('Back', 'Back to previous …"
      ]
     },
     "metadata": {},
     "output_type": "display_data"
    },
    {
     "name": "stdout",
     "output_type": "stream",
     "text": [
      "No covariances implemented for this parameter pair. If x and y are uncorrelated, you can dismiss this.\n",
      "No covariances implemented for this parameter pair. If x and y are uncorrelated, you can dismiss this.\n",
      "Solution\n",
      "m, b_perp: 0.0998419355403732 -0.21532679086180265\n",
      "m, b: 0.0998419355403732 -0.21639736259561018\n",
      "chi2min: 158.33283529594252 or 2.1689429492594865 per DOF\n",
      "Bootstrap: m = 0.09916442451831843 ; b = -0.21495934028260258\n",
      "Bootstrap: sm = 0.014896020188470985 ; sb = 0.0560993846245757\n",
      "Bootstrap: corr(m, b) = -0.9606101381735662\n"
     ]
    }
   ],
   "source": [
    "_ = plot_results2(data, \"A1300\", 'fh2', mark_comments=['lo_h_av'])"
   ]
  },
  {
   "cell_type": "code",
   "execution_count": 40,
   "metadata": {},
   "outputs": [
    {
     "data": {
      "application/vnd.jupyter.widget-view+json": {
       "model_id": "b2ec3e97f0de4c5e9c0b282c0a6f6d1b",
       "version_major": 2,
       "version_minor": 0
      },
      "text/plain": [
       "Canvas(toolbar=Toolbar(toolitems=[('Home', 'Reset original view', 'home', 'home'), ('Back', 'Back to previous …"
      ]
     },
     "metadata": {},
     "output_type": "display_data"
    },
    {
     "name": "stdout",
     "output_type": "stream",
     "text": [
      "No covariances implemented for this parameter pair. If x and y are uncorrelated, you can dismiss this.\n",
      "No covariances implemented for this parameter pair. If x and y are uncorrelated, you can dismiss this.\n",
      "Solution\n",
      "m, b_perp: -0.020373231606472357 0.1304718138159678\n",
      "m, b: -0.020373231606472357 0.13049888838114698\n",
      "chi2min: 340.2019988224022 or 4.660301353731537 per DOF\n",
      "Bootstrap: m = -0.007779689726794408 ; b = 0.1232971726966751\n",
      "Bootstrap: sm = 0.0705818775630684 ; sb = 0.22796995240889983\n",
      "Bootstrap: corr(m, b) = -0.9828006845832475\n"
     ]
    }
   ],
   "source": [
    "_ = plot_results2(data, \"A1300_AV\", 'fh2', mark_comments=['lo_h_av'])"
   ]
  },
  {
   "cell_type": "code",
   "execution_count": 41,
   "metadata": {},
   "outputs": [
    {
     "data": {
      "application/vnd.jupyter.widget-view+json": {
       "model_id": "302229d5933b4d65a06d69d2fad4c0f7",
       "version_major": 2,
       "version_minor": 0
      },
      "text/plain": [
       "Canvas(toolbar=Toolbar(toolitems=[('Home', 'Reset original view', 'home', 'home'), ('Back', 'Back to previous …"
      ]
     },
     "metadata": {},
     "output_type": "display_data"
    },
    {
     "name": "stdout",
     "output_type": "stream",
     "text": [
      "No covariances implemented for this parameter pair. If x and y are uncorrelated, you can dismiss this.\n",
      "No covariances implemented for this parameter pair. If x and y are uncorrelated, you can dismiss this.\n",
      "Solution\n",
      "m, b_perp: 0.10083268655957249 -0.18590290977877455\n",
      "m, b: 0.10083268655957249 -0.18684557863924364\n",
      "chi2min: 158.51821584428322 or 2.1714824088257974 per DOF\n",
      "Bootstrap: m = 0.09923006440617414 ; b = -0.17794707966561651\n",
      "Bootstrap: sm = 0.012283675106892539 ; sb = 0.044467435756526445\n",
      "Bootstrap: corr(m, b) = -0.9364127675052316\n"
     ]
    }
   ],
   "source": [
    "_ = plot_results2(data, \"A2000\", 'fh2', mark_comments=['lo_h_av'])"
   ]
  },
  {
   "cell_type": "code",
   "execution_count": 42,
   "metadata": {},
   "outputs": [
    {
     "data": {
      "application/vnd.jupyter.widget-view+json": {
       "model_id": "583149760ead4b40bf64a5ce83041f80",
       "version_major": 2,
       "version_minor": 0
      },
      "text/plain": [
       "Canvas(toolbar=Toolbar(toolitems=[('Home', 'Reset original view', 'home', 'home'), ('Back', 'Back to previous …"
      ]
     },
     "metadata": {},
     "output_type": "display_data"
    },
    {
     "name": "stdout",
     "output_type": "stream",
     "text": [
      "No covariances implemented for this parameter pair. If x and y are uncorrelated, you can dismiss this.\n",
      "No covariances implemented for this parameter pair. If x and y are uncorrelated, you can dismiss this.\n",
      "Solution\n",
      "m, b_perp: 0.37137085767048544 -0.4694167038249731\n",
      "m, b: 0.37137085767048544 -0.5007416331855694\n",
      "chi2min: 110.72182754668113 or 1.516737363653166 per DOF\n",
      "Bootstrap: m = 0.3708445549642259 ; b = -0.46931390466524825\n",
      "Bootstrap: sm = 0.066260242103284 ; sb = 0.09957610533713364\n",
      "Bootstrap: corr(m, b) = -0.99077009356749\n"
     ]
    }
   ],
   "source": [
    "_ = plot_results2(data, \"A4000_AV\", 'fh2', mark_comments=['lo_h_av'])"
   ]
  },
  {
   "cell_type": "code",
   "execution_count": 43,
   "metadata": {},
   "outputs": [
    {
     "data": {
      "application/vnd.jupyter.widget-view+json": {
       "model_id": "c1c59d37be1b41dfae4f1fc2a2810ab3",
       "version_major": 2,
       "version_minor": 0
      },
      "text/plain": [
       "Canvas(toolbar=Toolbar(toolitems=[('Home', 'Reset original view', 'home', 'home'), ('Back', 'Back to previous …"
      ]
     },
     "metadata": {},
     "output_type": "display_data"
    },
    {
     "name": "stdout",
     "output_type": "stream",
     "text": [
      "No covariances implemented for this parameter pair. If x and y are uncorrelated, you can dismiss this.\n",
      "No covariances implemented for this parameter pair. If x and y are uncorrelated, you can dismiss this.\n",
      "Solution\n",
      "m, b_perp: 0.1197958211407039 0.021274468506207057\n",
      "m, b: 0.1197958211407039 0.021426580071617473\n",
      "chi2min: 275.69016884831274 or 3.776577655456339 per DOF\n",
      "Bootstrap: m = 0.11025724406136886 ; b = 0.0349187512880694\n",
      "Bootstrap: sm = 0.0599741947899539 ; sb = 0.03762848377670374\n",
      "Bootstrap: corr(m, b) = -0.692678300311813\n"
     ]
    }
   ],
   "source": [
    "_ = plot_results2(data, 'CAV1', 'fh2', mark_comments=['lo_h_av'])"
   ]
  },
  {
   "cell_type": "code",
   "execution_count": 44,
   "metadata": {},
   "outputs": [
    {
     "data": {
      "application/vnd.jupyter.widget-view+json": {
       "model_id": "7e5b5ad5cf604dc99881fb4ec2809c98",
       "version_major": 2,
       "version_minor": 0
      },
      "text/plain": [
       "Canvas(toolbar=Toolbar(toolitems=[('Home', 'Reset original view', 'home', 'home'), ('Back', 'Back to previous …"
      ]
     },
     "metadata": {},
     "output_type": "display_data"
    },
    {
     "name": "stdout",
     "output_type": "stream",
     "text": [
      "No covariances implemented for this parameter pair. If x and y are uncorrelated, you can dismiss this.\n",
      "No covariances implemented for this parameter pair. If x and y are uncorrelated, you can dismiss this.\n",
      "Solution\n",
      "m, b_perp: -0.2439533147495993 0.14575655254257147\n",
      "m, b: -0.2439533147495993 0.15003109455424093\n",
      "chi2min: 319.04164778501774 or 4.370433531301613 per DOF\n",
      "Bootstrap: m = -0.2766877663793754 ; b = 0.16150137712528523\n",
      "Bootstrap: sm = 0.27285970417471134 ; sb = 0.07909359073269687\n",
      "Bootstrap: corr(m, b) = -0.945007666830858\n"
     ]
    }
   ],
   "source": [
    "_ = plot_results2(data, 'CAV2', 'fh2', mark_comments=['lo_h_av'])"
   ]
  },
  {
   "cell_type": "code",
   "execution_count": 45,
   "metadata": {},
   "outputs": [
    {
     "data": {
      "application/vnd.jupyter.widget-view+json": {
       "model_id": "975e20147ae34da1a299c0b51872d9c5",
       "version_major": 2,
       "version_minor": 0
      },
      "text/plain": [
       "Canvas(toolbar=Toolbar(toolitems=[('Home', 'Reset original view', 'home', 'home'), ('Back', 'Back to previous …"
      ]
     },
     "metadata": {},
     "output_type": "display_data"
    },
    {
     "name": "stdout",
     "output_type": "stream",
     "text": [
      "No covariances implemented for this parameter pair. If x and y are uncorrelated, you can dismiss this.\n",
      "No covariances implemented for this parameter pair. If x and y are uncorrelated, you can dismiss this.\n",
      "Solution\n",
      "m, b_perp: 0.28792888884330753 -0.10108964846957384\n",
      "m, b: 0.28792888884330753 -0.1051965443673031\n",
      "chi2min: 98.13090937819638 or 1.4221870924376288 per DOF\n",
      "Bootstrap: m = 0.20825430071723627 ; b = -0.03911503060064776\n",
      "Bootstrap: sm = 0.14855717731657678 ; sb = 0.12168556732887409\n",
      "Bootstrap: corr(m, b) = -0.9854230622399759\n"
     ]
    }
   ],
   "source": [
    "_ = plot_results2(data, 'CAV3', 'fh2', ignore_comments=['lo_h_av'])"
   ]
  },
  {
   "cell_type": "code",
   "execution_count": 46,
   "metadata": {},
   "outputs": [
    {
     "data": {
      "application/vnd.jupyter.widget-view+json": {
       "model_id": "3de8613ae43c4be3838562723dfb82c4",
       "version_major": 2,
       "version_minor": 0
      },
      "text/plain": [
       "Canvas(toolbar=Toolbar(toolitems=[('Home', 'Reset original view', 'home', 'home'), ('Back', 'Back to previous …"
      ]
     },
     "metadata": {},
     "output_type": "display_data"
    },
    {
     "name": "stdout",
     "output_type": "stream",
     "text": [
      "No covariances implemented for this parameter pair. If x and y are uncorrelated, you can dismiss this.\n",
      "No covariances implemented for this parameter pair. If x and y are uncorrelated, you can dismiss this.\n",
      "Solution\n",
      "m, b_perp: 2.184666204393503 -0.021589695555773322\n",
      "m, b: 2.184666204393503 -0.0518726590562558\n",
      "chi2min: 111.8268769018042 or 1.6206793753884667 per DOF\n",
      "Bootstrap: m = 2.17605623436711 ; b = -0.01905684535645674\n",
      "Bootstrap: sm = 0.4775352239837583 ; sb = 0.023353476805378314\n",
      "Bootstrap: corr(m, b) = -0.8710341226714091\n"
     ]
    }
   ],
   "source": [
    "_ = plot_results2(data, 'CAV4', 'fh2', ignore_comments=['lo_h_av'])"
   ]
  },
  {
   "cell_type": "code",
   "execution_count": 58,
   "metadata": {},
   "outputs": [
    {
     "data": {
      "application/vnd.jupyter.widget-view+json": {
       "model_id": "85bb5c8f717f4ce796db1afb054ed750",
       "version_major": 2,
       "version_minor": 0
      },
      "text/plain": [
       "Canvas(toolbar=Toolbar(toolitems=[('Home', 'Reset original view', 'home', 'home'), ('Back', 'Back to previous …"
      ]
     },
     "metadata": {},
     "output_type": "display_data"
    },
    {
     "name": "stdout",
     "output_type": "stream",
     "text": [
      "No covariances implemented for this parameter pair. If x and y are uncorrelated, you can dismiss this.\n",
      "Solution\n",
      "m, b_perp: -33.473323718686366 4.589228099863335\n",
      "m, b: -33.473323718686366 153.6852530463585\n",
      "chi2min: 27.64731511238186 or 0.378730344005231 per DOF\n",
      "Bootstrap: m = -1802.2108127564995 ; b = 4.587852216567431\n",
      "Bootstrap: sm = 6676.676826891529 ; sb = 0.0047105789136576886\n",
      "Bootstrap: corr(m, b) = 0.3305504433597976\n"
     ]
    }
   ],
   "source": [
    "_ = plot_results2(data, 'x_o', 'fh2')"
   ]
  },
  {
   "cell_type": "code",
   "execution_count": 57,
   "metadata": {},
   "outputs": [
    {
     "data": {
      "application/vnd.jupyter.widget-view+json": {
       "model_id": "3baadb678cdc40c996bb611dd13ae290",
       "version_major": 2,
       "version_minor": 0
      },
      "text/plain": [
       "Canvas(toolbar=Toolbar(toolitems=[('Home', 'Reset original view', 'home', 'home'), ('Back', 'Back to previous …"
      ]
     },
     "metadata": {},
     "output_type": "display_data"
    },
    {
     "name": "stdout",
     "output_type": "stream",
     "text": [
      "No covariances implemented for this parameter pair. If x and y are uncorrelated, you can dismiss this.\n",
      "No covariances implemented for this parameter pair. If x and y are uncorrelated, you can dismiss this.\n",
      "Solution\n",
      "m, b_perp: -0.23644945760530706 0.31824508684008995\n",
      "m, b: -0.23644945760530706 0.32702038004309963\n",
      "chi2min: 275.9500232054144 or 3.9992756986291944 per DOF\n",
      "Bootstrap: m = -0.19871125118626679 ; b = 0.2919400233267287\n",
      "Bootstrap: sm = 0.26640695485405874 ; sb = 0.22023239343034404\n",
      "Bootstrap: corr(m, b) = -0.9919052982996065\n"
     ]
    }
   ],
   "source": [
    "_ = plot_results2(data, 'gamma', 'fh2', ignore_comments=['lo_h_av'])"
   ]
  },
  {
   "cell_type": "code",
   "execution_count": 56,
   "metadata": {},
   "outputs": [
    {
     "data": {
      "application/vnd.jupyter.widget-view+json": {
       "model_id": "bcf7754043034dc2bbe4f41210ce11e9",
       "version_major": 2,
       "version_minor": 0
      },
      "text/plain": [
       "Canvas(toolbar=Toolbar(toolitems=[('Home', 'Reset original view', 'home', 'home'), ('Back', 'Back to previous …"
      ]
     },
     "metadata": {},
     "output_type": "display_data"
    },
    {
     "name": "stdout",
     "output_type": "stream",
     "text": [
      "No covariances implemented for this parameter pair. If x and y are uncorrelated, you can dismiss this.\n",
      "Solution\n",
      "m, b_perp: 0.21605012759420775 -0.15049054362211758\n",
      "m, b: 0.21605012759420775 -0.15396276003240125\n",
      "chi2min: 98.21894946470378 or 1.3454650611603258 per DOF\n",
      "Bootstrap: m = 0.1925893130059661 ; b = -0.11554057729283777\n",
      "Bootstrap: sm = 0.09803720450547608 ; sb = 0.1472665169435624\n",
      "Bootstrap: corr(m, b) = -0.9947005068088803\n"
     ]
    }
   ],
   "source": [
    "_ = plot_results2(data, 'bump_area', 'fh2')"
   ]
  },
  {
   "cell_type": "markdown",
   "metadata": {},
   "source": [
    "# FM90 parameters versus R(V)"
   ]
  },
  {
   "cell_type": "code",
   "execution_count": 34,
   "metadata": {},
   "outputs": [
    {
     "data": {
      "application/vnd.jupyter.widget-view+json": {
       "model_id": "22663316953b43aab91dee0181ea9fbb",
       "version_major": 2,
       "version_minor": 0
      },
      "text/plain": [
       "Canvas(toolbar=Toolbar(toolitems=[('Home', 'Reset original view', 'home', 'home'), ('Back', 'Back to previous …"
      ]
     },
     "metadata": {},
     "output_type": "display_data"
    },
    {
     "name": "stdout",
     "output_type": "stream",
     "text": [
      "No covariances implemented for this parameter pair. If x and y are uncorrelated, you can dismiss this.\n",
      "Solution\n",
      "m, b_perp: 2.7170972181887048 -0.20286456231278496\n",
      "m, b: 2.7170972181887048 -0.5873486945102839\n",
      "chi2min: 82.21532397036128 or 1.1262373146624833 per DOF\n",
      "Bootstrap: m = 2.7236393606578333 ; b = -0.200895904392685\n",
      "Bootstrap: sm = 0.4112407850564881 ; sb = 0.016813974827684017\n",
      "Bootstrap: corr(m, b) = -0.954723845447261\n"
     ]
    }
   ],
   "source": [
    "_ = plot_results2(data, '1_RV', 'CAV2')"
   ]
  },
  {
   "cell_type": "code",
   "execution_count": 36,
   "metadata": {},
   "outputs": [
    {
     "data": {
      "application/vnd.jupyter.widget-view+json": {
       "model_id": "92f74258679e4846990a973d2cb13b50",
       "version_major": 2,
       "version_minor": 0
      },
      "text/plain": [
       "Canvas(toolbar=Toolbar(toolitems=[('Home', 'Reset original view', 'home', 'home'), ('Back', 'Back to previous …"
      ]
     },
     "metadata": {},
     "output_type": "display_data"
    },
    {
     "name": "stdout",
     "output_type": "stream",
     "text": [
      "No covariances implemented for this parameter pair. If x and y are uncorrelated, you can dismiss this.\n",
      "Solution\n",
      "m, b_perp: 8.553706222619855 -0.17387457131547843\n",
      "m, b: 8.553706222619855 -1.4974012075316476\n",
      "chi2min: 83.85835585150276 or 1.1487446007055173 per DOF\n",
      "Bootstrap: m = 8.559629319691911 ; b = -0.16914986739475282\n",
      "Bootstrap: sm = 1.799823844406072 ; sb = 0.025294776980287943\n",
      "Bootstrap: corr(m, b) = -0.9504861656097529\n"
     ]
    }
   ],
   "source": [
    "_ = plot_results2(data, '1_RV', 'CAV3')"
   ]
  },
  {
   "cell_type": "code",
   "execution_count": 47,
   "metadata": {},
   "outputs": [
    {
     "data": {
      "application/vnd.jupyter.widget-view+json": {
       "model_id": "7ab4040ec4ec4f72a72c27db4fe05cfa",
       "version_major": 2,
       "version_minor": 0
      },
      "text/plain": [
       "Canvas(toolbar=Toolbar(toolitems=[('Home', 'Reset original view', 'home', 'home'), ('Back', 'Back to previous …"
      ]
     },
     "metadata": {},
     "output_type": "display_data"
    },
    {
     "name": "stdout",
     "output_type": "stream",
     "text": [
      "No covariances implemented for this parameter pair. If x and y are uncorrelated, you can dismiss this.\n",
      "Solution\n",
      "m, b_perp: 1.6705870266785705 -0.19672069421129335\n",
      "m, b: 1.6705870266785705 -0.3830178192969282\n",
      "chi2min: 125.53220413147899 or 1.7196192346777943 per DOF\n",
      "Bootstrap: m = 1.8832927198961884 ; b = -0.19678300492249912\n",
      "Bootstrap: sm = 0.8531625427938865 ; sb = 0.03447569136791004\n",
      "Bootstrap: corr(m, b) = -0.8743127900164085\n"
     ]
    }
   ],
   "source": [
    "_ = plot_results2(data, '1_RV', 'CAV4')"
   ]
  },
  {
   "cell_type": "code",
   "execution_count": 48,
   "metadata": {},
   "outputs": [
    {
     "data": {
      "application/vnd.jupyter.widget-view+json": {
       "model_id": "95fdeb2926654f67a5c68642e324bd99",
       "version_major": 2,
       "version_minor": 0
      },
      "text/plain": [
       "Canvas(toolbar=Toolbar(toolitems=[('Home', 'Reset original view', 'home', 'home'), ('Back', 'Back to previous …"
      ]
     },
     "metadata": {},
     "output_type": "display_data"
    },
    {
     "name": "stdout",
     "output_type": "stream",
     "text": [
      "No covariances implemented for this parameter pair. If x and y are uncorrelated, you can dismiss this.\n",
      "Solution\n",
      "m, b_perp: 7.435095932190435 -2.9875980962005864\n",
      "m, b: 7.435095932190435 -22.41308985175227\n",
      "chi2min: 125.60670368373985 or 1.720639776489587 per DOF\n",
      "Bootstrap: m = -21206.902787132967 ; b = -0.2527411220347242\n",
      "Bootstrap: sm = 677287.8649075186 ; sb = 2.772726397937766\n",
      "Bootstrap: corr(m, b) = -0.25031772021406823\n"
     ]
    }
   ],
   "source": [
    "_ = plot_results2(data, 'RV', 'gamma')"
   ]
  },
  {
   "cell_type": "code",
   "execution_count": 49,
   "metadata": {},
   "outputs": [
    {
     "data": {
      "application/vnd.jupyter.widget-view+json": {
       "model_id": "e5ba1927fd664af38ecccb245aa9e8b5",
       "version_major": 2,
       "version_minor": 0
      },
      "text/plain": [
       "Canvas(toolbar=Toolbar(toolitems=[('Home', 'Reset original view', 'home', 'home'), ('Back', 'Back to previous …"
      ]
     },
     "metadata": {},
     "output_type": "display_data"
    },
    {
     "name": "stdout",
     "output_type": "stream",
     "text": [
      "No covariances implemented for this parameter pair. If x and y are uncorrelated, you can dismiss this.\n",
      "Solution\n",
      "m, b_perp: 0.06719993339607427 4.550667069512774\n",
      "m, b: 0.06719993339607427 4.560930517387212\n",
      "chi2min: 27.73845087211643 or 0.3799787790700881 per DOF\n",
      "Bootstrap: m = 0.053533709334475016 ; b = 4.538319859359412\n",
      "Bootstrap: sm = 0.09512317867050699 ; sb = 0.046552043209766955\n",
      "Bootstrap: corr(m, b) = -0.6996298703266272\n"
     ]
    }
   ],
   "source": [
    "_ = plot_results2(data, '1_RV', 'x_o')"
   ]
  },
  {
   "cell_type": "code",
   "execution_count": 50,
   "metadata": {},
   "outputs": [
    {
     "data": {
      "application/vnd.jupyter.widget-view+json": {
       "model_id": "5a45c40a4b0b4313bb6dcb7263823b07",
       "version_major": 2,
       "version_minor": 0
      },
      "text/plain": [
       "Canvas(toolbar=Toolbar(toolitems=[('Home', 'Reset original view', 'home', 'home'), ('Back', 'Back to previous …"
      ]
     },
     "metadata": {},
     "output_type": "display_data"
    },
    {
     "name": "stdout",
     "output_type": "stream",
     "text": [
      "No covariances implemented for this parameter pair. If x and y are uncorrelated, you can dismiss this.\n",
      "Solution\n",
      "m, b_perp: 10.175338094186083 -0.13732782675840888\n",
      "m, b: 10.175338094186083 -1.4040889233647362\n",
      "chi2min: 54.42643346630988 or 0.7455675817302724 per DOF\n",
      "Bootstrap: m = 10.264079758991976 ; b = -0.13632059768699903\n",
      "Bootstrap: sm = 1.1778513228230845 ; sb = 0.019304580151197154\n",
      "Bootstrap: corr(m, b) = -0.9698718977887523\n"
     ]
    }
   ],
   "source": [
    "_ = plot_results2(data, '1_RV', 'bump_area')"
   ]
  },
  {
   "cell_type": "markdown",
   "metadata": {},
   "source": [
    "# FM90 parameters in native form (E(lambda - V)/E(B-V)) versus R(V)"
   ]
  },
  {
   "cell_type": "code",
   "execution_count": 51,
   "metadata": {},
   "outputs": [
    {
     "data": {
      "application/vnd.jupyter.widget-view+json": {
       "model_id": "d38707918e074487aec3c3c3b013ecfe",
       "version_major": 2,
       "version_minor": 0
      },
      "text/plain": [
       "Canvas(toolbar=Toolbar(toolitems=[('Home', 'Reset original view', 'home', 'home'), ('Back', 'Back to previous …"
      ]
     },
     "metadata": {},
     "output_type": "display_data"
    },
    {
     "name": "stdout",
     "output_type": "stream",
     "text": [
      "No covariances implemented for this parameter pair. If x and y are uncorrelated, you can dismiss this.\n",
      "Solution\n",
      "m, b_perp: 6.321099745625062 -0.1892960156136236\n",
      "m, b: 6.321099745625062 -1.2114398098041066\n",
      "chi2min: 92.67664165083116 or 1.2695430363127556 per DOF\n",
      "Bootstrap: m = 6.278814785420678 ; b = -0.18107554275020987\n",
      "Bootstrap: sm = 1.3906654756972539 ; sb = 0.03280386605383821\n",
      "Bootstrap: corr(m, b) = -0.8923750108972502\n"
     ]
    }
   ],
   "source": [
    "_ = plot_results2(data, '1_RV', 'C2')"
   ]
  },
  {
   "cell_type": "code",
   "execution_count": 52,
   "metadata": {},
   "outputs": [
    {
     "data": {
      "application/vnd.jupyter.widget-view+json": {
       "model_id": "b8b7b8481ac6408d90ceeeda9109f035",
       "version_major": 2,
       "version_minor": 0
      },
      "text/plain": [
       "Canvas(toolbar=Toolbar(toolitems=[('Home', 'Reset original view', 'home', 'home'), ('Back', 'Back to previous …"
      ]
     },
     "metadata": {},
     "output_type": "display_data"
    },
    {
     "name": "stdout",
     "output_type": "stream",
     "text": [
      "No covariances implemented for this parameter pair. If x and y are uncorrelated, you can dismiss this.\n",
      "Solution\n",
      "m, b_perp: 14.774725820542718 -0.0819222561152492\n",
      "m, b: 14.774725820542718 -1.2131480831015666\n",
      "chi2min: 82.57946228828433 or 1.1312255107984155 per DOF\n",
      "Bootstrap: m = 13.414101952522508 ; b = 0.007092148434678631\n",
      "Bootstrap: sm = 8.613407919585077 ; sb = 0.3023872067098043\n",
      "Bootstrap: corr(m, b) = -0.7295808000636259\n"
     ]
    }
   ],
   "source": [
    "_ = plot_results2(data, '1_RV', 'C3')"
   ]
  },
  {
   "cell_type": "code",
   "execution_count": 53,
   "metadata": {},
   "outputs": [
    {
     "data": {
      "application/vnd.jupyter.widget-view+json": {
       "model_id": "3fae3a2831334e74828952ed1dea9b2c",
       "version_major": 2,
       "version_minor": 0
      },
      "text/plain": [
       "Canvas(toolbar=Toolbar(toolitems=[('Home', 'Reset original view', 'home', 'home'), ('Back', 'Back to previous …"
      ]
     },
     "metadata": {},
     "output_type": "display_data"
    },
    {
     "name": "stdout",
     "output_type": "stream",
     "text": [
      "No covariances implemented for this parameter pair. If x and y are uncorrelated, you can dismiss this.\n",
      "Solution\n",
      "m, b_perp: 2.295987441982398 -0.14560816701390772\n",
      "m, b: 2.295987441982398 -0.36464769097358984\n",
      "chi2min: 111.02285430130729 or 1.5208610178261273 per DOF\n",
      "Bootstrap: m = 2.197131499904651 ; b = -0.1330320001423794\n",
      "Bootstrap: sm = 1.5120580515483333 ; sb = 0.06225114956662498\n",
      "Bootstrap: corr(m, b) = -0.9426788970325051\n"
     ]
    }
   ],
   "source": [
    "_ = plot_results2(data, '1_RV', 'C4')"
   ]
  },
  {
   "cell_type": "code",
   "execution_count": 54,
   "metadata": {},
   "outputs": [
    {
     "name": "stderr",
     "output_type": "stream",
     "text": [
      "/Users/dvandeputte/Projects/FUSE H2/plotting_git/plot_fuse_results.py:214: RuntimeWarning: More than 20 figures have been opened. Figures created through the pyplot interface (`matplotlib.pyplot.figure`) are retained until explicitly closed and may consume too much memory. (To control this warning, see the rcParam `figure.max_open_warning`).\n",
      "  fig, (ax, ax2,) = plt.subplots(figsize=(8, 5), ncols=2)\n"
     ]
    },
    {
     "data": {
      "application/vnd.jupyter.widget-view+json": {
       "model_id": "4ef4d8adeb624ede84de6309e07fe235",
       "version_major": 2,
       "version_minor": 0
      },
      "text/plain": [
       "Canvas(toolbar=Toolbar(toolitems=[('Home', 'Reset original view', 'home', 'home'), ('Back', 'Back to previous …"
      ]
     },
     "metadata": {},
     "output_type": "display_data"
    },
    {
     "name": "stdout",
     "output_type": "stream",
     "text": [
      "No covariances implemented for this parameter pair. If x and y are uncorrelated, you can dismiss this.\n",
      "Solution\n",
      "m, b_perp: 1864170.7257290224 -0.297379896298616\n",
      "m, b: 1864170.7257290224 -554366.8971002921\n",
      "chi2min: 169.4381687339302 or 2.3210708045743864 per DOF\n",
      "Bootstrap: m = 6516446.2409377955 ; b = 0.01581438116145309\n",
      "Bootstrap: sm = 48790068.805935614 ; sb = 0.34634335473622035\n",
      "Bootstrap: corr(m, b) = -0.12119873274075184\n"
     ]
    }
   ],
   "source": [
    "_ = plot_results2(data, '1_RV', 'gamma')"
   ]
  },
  {
   "cell_type": "code",
   "execution_count": 54,
   "metadata": {},
   "outputs": [
    {
     "data": {
      "application/vnd.jupyter.widget-view+json": {
       "model_id": "246e7ce8d4944606960737a298ec4007",
       "version_major": 2,
       "version_minor": 0
      },
      "text/plain": [
       "Canvas(toolbar=Toolbar(toolitems=[('Home', 'Reset original view', 'home', 'home'), ('Back', 'Back to previous …"
      ]
     },
     "metadata": {},
     "output_type": "display_data"
    },
    {
     "name": "stdout",
     "output_type": "stream",
     "text": [
      "No covariances implemented for this parameter pair. If x and y are uncorrelated, you can dismiss this.\n",
      "Solution\n",
      "m, b_perp: 0.06719993339607427 4.550667069512774\n",
      "m, b: 0.06719993339607427 4.560930517387212\n",
      "chi2min: 27.73845087211643 or 0.3799787790700881 per DOF\n",
      "Bootstrap: m = 0.07700495873768189 ; b = 4.532369094318488\n",
      "Bootstrap: sm = 0.07482369684244833 ; sb = 0.04894287422855798\n",
      "Bootstrap: corr(m, b) = -0.884388063635655\n"
     ]
    }
   ],
   "source": [
    "_ = plot_results2(data, '1_RV', 'x_o')"
   ]
  },
  {
   "cell_type": "markdown",
   "metadata": {},
   "source": [
    "# Some FM90 parameters versus A(V)"
   ]
  },
  {
   "cell_type": "code",
   "execution_count": 55,
   "metadata": {},
   "outputs": [
    {
     "data": {
      "application/vnd.jupyter.widget-view+json": {
       "model_id": "1c1c68b6fd664ec38775d548059a4251",
       "version_major": 2,
       "version_minor": 0
      },
      "text/plain": [
       "Canvas(toolbar=Toolbar(toolitems=[('Home', 'Reset original view', 'home', 'home'), ('Back', 'Back to previous …"
      ]
     },
     "metadata": {},
     "output_type": "display_data"
    },
    {
     "name": "stdout",
     "output_type": "stream",
     "text": [
      "No covariances implemented for this parameter pair. If x and y are uncorrelated, you can dismiss this.\n",
      "Solution\n",
      "m, b_perp: -0.0077265514038351146 0.1112026287685957\n",
      "m, b: -0.0077265514038351146 0.11120594809509478\n",
      "chi2min: 861.2241000208925 or 11.797590411245103 per DOF\n",
      "Bootstrap: m = -0.0049043399063973935 ; b = 0.10748310007547598\n",
      "Bootstrap: sm = 0.015449258527638106 ; sb = 0.02372107468608628\n",
      "Bootstrap: corr(m, b) = -0.9772665041692494\n"
     ]
    },
    {
     "name": "stderr",
     "output_type": "stream",
     "text": [
      "/Users/dvandeputte/Projects/FUSE H2/plotting_git/linear_ortho_fit.py:313: RuntimeWarning: invalid value encountered in true_divide\n",
      "  L_grid /= np.sum(L_grid)\n"
     ]
    },
    {
     "ename": "ValueError",
     "evalue": "probabilities contain NaN",
     "output_type": "error",
     "traceback": [
      "\u001b[0;31m---------------------------------------------------------------------------\u001b[0m",
      "\u001b[0;31mValueError\u001b[0m                                Traceback (most recent call last)",
      "\u001b[0;32m/var/folders/ls/5hq1qd290zb7dmjtzf31p6dr000122/T/ipykernel_56145/3416048617.py\u001b[0m in \u001b[0;36m<module>\u001b[0;34m\u001b[0m\n\u001b[0;32m----> 1\u001b[0;31m \u001b[0m_\u001b[0m \u001b[0;34m=\u001b[0m \u001b[0mplot_results2\u001b[0m\u001b[0;34m(\u001b[0m\u001b[0mdata\u001b[0m\u001b[0;34m,\u001b[0m \u001b[0;34m'AV'\u001b[0m\u001b[0;34m,\u001b[0m \u001b[0;34m'CAV4'\u001b[0m\u001b[0;34m)\u001b[0m\u001b[0;34m\u001b[0m\u001b[0;34m\u001b[0m\u001b[0m\n\u001b[0m",
      "\u001b[0;32m~/Projects/FUSE H2/plotting_git/plot_fuse_results.py\u001b[0m in \u001b[0;36mplot_results2\u001b[0;34m(data, xparam, yparam, pxrange, pyrange, data_comp, data_bohlin, data_shull, figsize, alpha, ignore_comments, mark_comments)\u001b[0m\n\u001b[1;32m    322\u001b[0m         \u001b[0mm\u001b[0m \u001b[0;34m-\u001b[0m \u001b[0ma\u001b[0m \u001b[0;34m*\u001b[0m \u001b[0msm\u001b[0m\u001b[0;34m,\u001b[0m \u001b[0mm\u001b[0m \u001b[0;34m+\u001b[0m \u001b[0ma\u001b[0m \u001b[0;34m*\u001b[0m \u001b[0msm\u001b[0m\u001b[0;34m,\u001b[0m \u001b[0mb_perp\u001b[0m \u001b[0;34m-\u001b[0m \u001b[0ma\u001b[0m \u001b[0;34m*\u001b[0m \u001b[0msb_perp\u001b[0m\u001b[0;34m,\u001b[0m \u001b[0mb_perp\u001b[0m \u001b[0;34m+\u001b[0m \u001b[0ma\u001b[0m \u001b[0;34m*\u001b[0m \u001b[0msb_perp\u001b[0m\u001b[0;34m,\u001b[0m \u001b[0mxs\u001b[0m\u001b[0;34m,\u001b[0m \u001b[0mys\u001b[0m\u001b[0;34m,\u001b[0m \u001b[0mcovs\u001b[0m\u001b[0;34m\u001b[0m\u001b[0;34m\u001b[0m\u001b[0m\n\u001b[1;32m    323\u001b[0m     )\n\u001b[0;32m--> 324\u001b[0;31m     random_m, random_b_perp = linear_ortho_fit.sample_likelihood(\n\u001b[0m\u001b[1;32m    325\u001b[0m         \u001b[0mm\u001b[0m\u001b[0;34m,\u001b[0m \u001b[0mb_perp\u001b[0m\u001b[0;34m,\u001b[0m \u001b[0mm_grid\u001b[0m\u001b[0;34m,\u001b[0m \u001b[0mb_perp_grid\u001b[0m\u001b[0;34m,\u001b[0m \u001b[0mlogL_grid\u001b[0m\u001b[0;34m\u001b[0m\u001b[0;34m\u001b[0m\u001b[0m\n\u001b[1;32m    326\u001b[0m     )\n",
      "\u001b[0;32m~/Projects/FUSE H2/plotting_git/linear_ortho_fit.py\u001b[0m in \u001b[0;36msample_likelihood\u001b[0;34m(m, b_perp, m_grid, b_perp_grid, logL_grid)\u001b[0m\n\u001b[1;32m    315\u001b[0m     \u001b[0;31m# sample m and b, using L as weight\u001b[0m\u001b[0;34m\u001b[0m\u001b[0;34m\u001b[0m\u001b[0;34m\u001b[0m\u001b[0m\n\u001b[1;32m    316\u001b[0m     \u001b[0mL_flat\u001b[0m \u001b[0;34m=\u001b[0m \u001b[0mL_grid\u001b[0m\u001b[0;34m.\u001b[0m\u001b[0mflatten\u001b[0m\u001b[0;34m(\u001b[0m\u001b[0;34m)\u001b[0m\u001b[0;34m\u001b[0m\u001b[0;34m\u001b[0m\u001b[0m\n\u001b[0;32m--> 317\u001b[0;31m     \u001b[0mrandom_flat_i\u001b[0m \u001b[0;34m=\u001b[0m \u001b[0mnp\u001b[0m\u001b[0;34m.\u001b[0m\u001b[0mrandom\u001b[0m\u001b[0;34m.\u001b[0m\u001b[0mdefault_rng\u001b[0m\u001b[0;34m(\u001b[0m\u001b[0;34m)\u001b[0m\u001b[0;34m.\u001b[0m\u001b[0mchoice\u001b[0m\u001b[0;34m(\u001b[0m\u001b[0mlen\u001b[0m\u001b[0;34m(\u001b[0m\u001b[0mL_flat\u001b[0m\u001b[0;34m)\u001b[0m\u001b[0;34m,\u001b[0m \u001b[0msize\u001b[0m\u001b[0;34m=\u001b[0m\u001b[0;36m333\u001b[0m\u001b[0;34m,\u001b[0m \u001b[0mp\u001b[0m\u001b[0;34m=\u001b[0m\u001b[0mL_flat\u001b[0m\u001b[0;34m)\u001b[0m\u001b[0;34m\u001b[0m\u001b[0;34m\u001b[0m\u001b[0m\n\u001b[0m\u001b[1;32m    318\u001b[0m     \u001b[0;31m# translate from flat indices, to 0th and 1st indices\u001b[0m\u001b[0;34m\u001b[0m\u001b[0;34m\u001b[0m\u001b[0;34m\u001b[0m\u001b[0m\n\u001b[1;32m    319\u001b[0m     \u001b[0mrandom_m_i\u001b[0m\u001b[0;34m,\u001b[0m \u001b[0mrandom_b_i\u001b[0m \u001b[0;34m=\u001b[0m \u001b[0mnp\u001b[0m\u001b[0;34m.\u001b[0m\u001b[0munravel_index\u001b[0m\u001b[0;34m(\u001b[0m\u001b[0mrandom_flat_i\u001b[0m\u001b[0;34m,\u001b[0m \u001b[0mL_grid\u001b[0m\u001b[0;34m.\u001b[0m\u001b[0mshape\u001b[0m\u001b[0;34m)\u001b[0m\u001b[0;34m\u001b[0m\u001b[0;34m\u001b[0m\u001b[0m\n",
      "\u001b[0;32m_generator.pyx\u001b[0m in \u001b[0;36mnumpy.random._generator.Generator.choice\u001b[0;34m()\u001b[0m\n",
      "\u001b[0;31mValueError\u001b[0m: probabilities contain NaN"
     ]
    }
   ],
   "source": [
    "_ = plot_results2(data, 'AV', 'CAV4')"
   ]
  },
  {
   "cell_type": "code",
   "execution_count": null,
   "metadata": {},
   "outputs": [],
   "source": []
  }
 ],
 "metadata": {
  "anaconda-cloud": {},
  "kernelspec": {
   "display_name": "Python 3 (ipykernel)",
   "language": "python",
   "name": "python3"
  },
  "language_info": {
   "codemirror_mode": {
    "name": "ipython",
    "version": 3
   },
   "file_extension": ".py",
   "mimetype": "text/x-python",
   "name": "python",
   "nbconvert_exporter": "python",
   "pygments_lexer": "ipython3",
   "version": "3.8.10"
  }
 },
 "nbformat": 4,
 "nbformat_minor": 4
}
