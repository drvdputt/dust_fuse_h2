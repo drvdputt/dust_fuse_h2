{
 "cells": [
  {
   "cell_type": "markdown",
   "id": "06dd9f8d-579f-4c5b-87ec-9250de3970c9",
   "metadata": {},
   "source": [
    "# Lyman alpha fitting\n",
    "\n",
    "The equation for the cross section is (Diplas \\& Savage 1994)\n",
    "\n",
    "$ \\sigma(\\lambda) = 4.26e^{-20} \\text{cm}^2 / [6.04e^{-10}+ (\\lambda - \\lambda_0)^2] $\n",
    "\n",
    "where $\\lambda_0 = 1215.67 \\AA$. We might need a velocity doppler shift parameter for $\\lambda_0$. The model for the spectrum, with $N = N(\\text{H I})$ as a parameter, is written as\n",
    "\n",
    "$ f_m(\\lambda; N) = f_c(\\lambda) \\exp(-N \\sigma(\\lambda)) $.\n",
    "\n",
    "\n",
    "The function $f_c(\\lambda)$ describes the continuum, the flux without any lines. It is usually a constant or 1st order approximation, determined by fitting or sometimes by eye. $N(\\text{HI})$ can be found by minimizing a $\\chi^2$ function\n",
    "\n",
    "$ \\chi^2(N) = \\frac{1}{n - 1} \\sum_i \\sigma\n",
    "_c^{-1} (f_i - f_m(\\lambda_i; N))^2$. \n",
    "\n",
    "Here, a suitable noise model $\\sigma_c$ needs to be chosen. In DS94, $\\sigma_c = \\text{constant} \\times \\exp(\\sigma(\\lambda_i) N)$. This is not an error on the measurement, but rather a factor to treat the other features of the spectrum as noise. For the constant, they use the RMS deviation with respect to $f_c$, over a wavelength range outside the line, deemed to have similar noise as the line wings. \n",
    "\n",
    "The workflow goes as follows:\n",
    "1. Find a suitable approximation for the continuum.\n",
    "2. Find a suitable noise level with respect to the continuum.\n",
    "2. Mask wavelengths that have troublesome features.\n",
    "3. Optimize the $\\chi^2$ function for the remaining data points $(\\lambda_i, f_i)$, minimizing the differences between $f_i$ and $f_m(\\lambda_i)$.\n"
   ]
  },
  {
   "cell_type": "code",
   "execution_count": 54,
   "id": "96fac418-a06f-4acc-a49e-3922692362ab",
   "metadata": {},
   "outputs": [],
   "source": [
    "def sigma(l):\n",
    "    l0 = 1215.67\n",
    "    return 4.26e-20 / (6.04e-10 + np.square(l - l0))\n",
    "    \n",
    "def fmodel(fcontinuum, NHI):\n",
    "    return lambda l : fcontinuum(l) * np.exp(-NHI * sigma(l))\n",
    "\n"
   ]
  },
  {
   "cell_type": "code",
   "execution_count": 47,
   "id": "26b9b9f0-9bb8-43eb-b292-64334f3b1347",
   "metadata": {},
   "outputs": [],
   "source": [
    "from matplotlib import pyplot as plt\n",
    "import numpy as np\n",
    "\n",
    "def prepare_axes():\n",
    "    plt.xlabel('wavelength')\n",
    "    plt.ylabel('flux (erg cm$^{-2}$s$^{-1}\\\\AA^{-1}$)')\n",
    "\n",
    "def plot_iue(table):\n",
    "    plt.plot(table['WAVELENGTH'], table['NET'])\n",
    "    prepare_axes()\n",
    "    \n",
    "def plot_order(table, index):\n",
    "    flux = table[index]['NET']\n",
    "    wavs = [table[index]['WAVELENGTH'] + table[index]['DELTAW'] * i for i in range(len(flux))]\n",
    "    plt.plot(wavs, flux)\n",
    "    \n",
    "def plot_function_at_lya(f, ylabel='f(x)', *args):\n",
    "    x = np.linspace(1100, 1300, 1000)\n",
    "    y = f(x, *args)\n",
    "    plt.xlabel('wavelength')\n",
    "    "
   ]
  },
  {
   "cell_type": "code",
   "execution_count": 48,
   "id": "650d70ab-c765-4f38-b9f8-23740bde0e9d",
   "metadata": {},
   "outputs": [
    {
     "name": "stdout",
     "output_type": "stream",
     "text": [
      "Filename: data/HD094493/swp49768.mxhi.gz\n",
      "No.    Name      Ver    Type      Cards   Dimensions   Format\n",
      "  0  PRIMARY       1 PrimaryHDU     424   ()      \n",
      "  1  MEHI          1 BinTableHDU     61   60R x 17C   [1B, 1I, 1D, 1I, 1D, 1E, 1E, 768E, 768E, 768E, 768I, 768E, 768E, 1I, 1I, 1E, 7E]   \n"
     ]
    }
   ],
   "source": [
    "# open some data\n",
    "from astropy.io import fits\n",
    "from astropy.table import Table\n",
    "\n",
    "spectrum_file = 'data/HD094493/swp49768.mxhi.gz'\n",
    "fits.info(spectrum_file)"
   ]
  },
  {
   "cell_type": "code",
   "execution_count": 49,
   "id": "b63849bf-c702-422c-959c-d974659090ef",
   "metadata": {
    "scrolled": true,
    "tags": []
   },
   "outputs": [
    {
     "data": {
      "text/html": [
       "<i>Table length=60</i>\n",
       "<table id=\"table140497919859104\" class=\"table-striped table-bordered table-condensed\">\n",
       "<thead><tr><th>ORDER</th><th>NPOINTS</th><th>WAVELENGTH</th><th>STARTPIX</th><th>DELTAW</th><th>SLIT HEIGHT</th><th>LINE_FOUND</th><th>NET [768]</th><th>BACKGROUND [768]</th><th>NOISE [768]</th><th>QUALITY [768]</th><th>RIPPLE [768]</th><th>ABS_CAL [768]</th><th>START-BKG</th><th>END-BKG</th><th>SCALE_BKG</th><th>COEFF [7]</th></tr></thead>\n",
       "<thead><tr><th></th><th></th><th>ANGSTROM</th><th>PIXEL</th><th>ANGSTROM</th><th>PIXEL</th><th>PIXEL</th><th>FN</th><th>FN</th><th>FN</th><th></th><th>FN</th><th>ERG/CM2/S/A</th><th>PIXEL</th><th>PIXEL</th><th></th><th></th></tr></thead>\n",
       "<thead><tr><th>uint8</th><th>int16</th><th>float64</th><th>int16</th><th>float64</th><th>float32</th><th>float32</th><th>float32</th><th>float32</th><th>float32</th><th>int16</th><th>float32</th><th>float32</th><th>int16</th><th>int16</th><th>float32</th><th>float32</th></tr></thead>\n",
       "<tr><td>125</td><td>532</td><td>1098.1692580057525</td><td>116</td><td>0.028546430982993237</td><td>4.720001</td><td>128.39</td><td>0.0 .. 0.0</td><td>-1.8529843 .. 41.64343</td><td>0.0 .. 0.0</td><td>-2 .. -2</td><td>0.0 .. 0.0</td><td>0.0 .. 0.0</td><td>274</td><td>493</td><td>304.23505</td><td>3.2869987 .. 0.0</td></tr>\n",
       "<tr><td>124</td><td>542</td><td>1106.8630634771735</td><td>111</td><td>0.028765254793322096</td><td>4.720001</td><td>132.99</td><td>0.0 .. 0.0</td><td>-1.7358428 .. 41.549026</td><td>0.0 .. 0.0</td><td>-2 .. -2</td><td>0.0 .. 0.0</td><td>0.0 .. 0.0</td><td>193</td><td>559</td><td>478.9347</td><td>1.9522327 .. 0.0</td></tr>\n",
       "<tr><td>123</td><td>550</td><td>1115.7281980105925</td><td>107</td><td>0.028987781329211114</td><td>4.720001</td><td>137.76</td><td>0.0 .. 0.0</td><td>-1.6975065 .. 41.78515</td><td>0.0 .. 0.0</td><td>-2 .. -2</td><td>0.0 .. 0.0</td><td>0.0 .. 0.0</td><td>220</td><td>559</td><td>410.117</td><td>2.3387604 .. 0.0</td></tr>\n",
       "<tr><td>122</td><td>558</td><td>1124.7395970157015</td><td>103</td><td>0.02921411281488964</td><td>4.720001</td><td>142.7</td><td>0.0 .. 0.0</td><td>-2.0916648 .. 42.0432</td><td>0.0 .. 0.0</td><td>-2 .. -2</td><td>0.0 .. 0.0</td><td>0.0 .. 0.0</td><td>166</td><td>604</td><td>536.4757</td><td>1.7433746 .. 0.0</td></tr>\n",
       "<tr><td>121</td><td>568</td><td>1133.871412916893</td><td>98</td><td>0.02944435485396653</td><td>4.719986</td><td>147.82</td><td>0.0 .. 0.0</td><td>-1.2521095 .. 41.845005</td><td>0.0 .. 0.0</td><td>-2 .. -2</td><td>0.0 .. 0.0</td><td>0.0 .. 0.0</td><td>166</td><td>628</td><td>538.02185</td><td>1.7162596 .. 0.0</td></tr>\n",
       "<tr><td>120</td><td>576</td><td>1143.1860166556708</td><td>94</td><td>0.02967861654823642</td><td>4.3099976</td><td>153.12</td><td>0.0 .. 0.0</td><td>10.891592 .. 37.957573</td><td>0.0 .. 0.0</td><td>-2 .. -2</td><td>0.0 .. 0.0</td><td>0.0 .. 0.0</td><td>139</td><td>652</td><td>595.25354</td><td>1.523904 .. 0.0</td></tr>\n",
       "<tr><td>119</td><td>586</td><td>1152.6281183465899</td><td>89</td><td>0.029917010790995333</td><td>4.0599976</td><td>158.92</td><td>0.0 .. 0.0</td><td>30.619741 .. 35.45947</td><td>0.0 .. 0.0</td><td>-2 .. -2</td><td>0.0 .. 0.0</td><td>0.0 .. 0.0</td><td>139</td><td>652</td><td>588.79114</td><td>1.5402112 .. 0.0</td></tr>\n",
       "<tr><td>118</td><td>592</td><td>1162.2914401548155</td><td>86</td><td>0.030159654180336063</td><td>4.119995</td><td>164.71962</td><td>0.0 .. 0.0</td><td>48.185734 .. 36.321846</td><td>0.0 .. 0.0</td><td>-2 .. -2</td><td>0.0 .. 0.0</td><td>0.0 .. 0.0</td><td>112</td><td>679</td><td>625.4597</td><td>1.4487414 .. 0.0</td></tr>\n",
       "<tr><td>117</td><td>600</td><td>1172.0903377950242</td><td>82</td><td>0.030406667334564912</td><td>4.6600037</td><td>170.73102</td><td>0.0 .. 0.0</td><td>70.05415 .. 41.602043</td><td>0.0 .. 0.0</td><td>-2 .. -2</td><td>0.0 .. 0.0</td><td>0.0 .. 0.0</td><td>112</td><td>679</td><td>624.10516</td><td>1.4518973 .. 0.0</td></tr>\n",
       "<tr><td>...</td><td>...</td><td>...</td><td>...</td><td>...</td><td>...</td><td>...</td><td>...</td><td>...</td><td>...</td><td>...</td><td>...</td><td>...</td><td>...</td><td>...</td><td>...</td><td>...</td></tr>\n",
       "<tr><td>75</td><td>609</td><td>1827.6744723658533</td><td>74</td><td>0.047172313149138854</td><td>7.0200195</td><td>567.2419</td><td>0.0 .. 0.0</td><td>255.59358 .. 102.9103</td><td>0.0 .. 0.0</td><td>-2 .. -2</td><td>0.0 .. 0.0</td><td>0.0 .. 0.0</td><td>85</td><td>652</td><td>374.4932</td><td>0.9064554 .. 0.04025012</td></tr>\n",
       "<tr><td>74</td><td>589</td><td>1852.7988460946206</td><td>84</td><td>0.04793923488209149</td><td>7.199951</td><td>582.15125</td><td>0.0 .. 0.0</td><td>260.58905 .. 126.69553</td><td>0.0 .. 0.0</td><td>-2 .. -2</td><td>0.0 .. 0.0</td><td>0.0 .. 0.0</td><td>85</td><td>652</td><td>301.55276</td><td>0.9898982 .. 0.039896205</td></tr>\n",
       "<tr><td>73</td><td>569</td><td>1878.62114436301</td><td>94</td><td>0.048602658141005416</td><td>7.2799683</td><td>597.4118</td><td>0.0 .. 0.0</td><td>263.67706 .. 127.92803</td><td>0.0 .. 0.0</td><td>-2 .. -2</td><td>0.0 .. 0.0</td><td>0.0 .. 0.0</td><td>85</td><td>652</td><td>228.54054</td><td>1.1311774 .. 0.037308764</td></tr>\n",
       "<tr><td>72</td><td>541</td><td>1905.4471328855025</td><td>108</td><td>0.049255445784237684</td><td>7.619995</td><td>612.98376</td><td>0.0 .. 0.0</td><td>251.42888 .. 131.50966</td><td>0.0 .. 0.0</td><td>-2 .. -2</td><td>0.0 .. 0.0</td><td>0.0 .. 0.0</td><td>85</td><td>652</td><td>214.3459</td><td>1.006614 .. 0.02122947</td></tr>\n",
       "<tr><td>71</td><td>513</td><td>1932.8534157238266</td><td>122</td><td>0.050281401993998866</td><td>7.880005</td><td>629.0548</td><td>0.0 .. 0.0</td><td>260.03952 .. 135.8202</td><td>0.0 .. 0.0</td><td>-2 .. -2</td><td>0.0 .. 0.0</td><td>0.0 .. 0.0</td><td>85</td><td>652</td><td>227.8887</td><td>0.7590102 .. 0.008065854</td></tr>\n",
       "<tr><td>70</td><td>475</td><td>1961.4316741936973</td><td>141</td><td>0.05111395586262307</td><td>8.119995</td><td>645.8498</td><td>0.0 .. 0.0</td><td>254.67393 .. 155.7608</td><td>0.0 .. 0.0</td><td>-2 .. -2</td><td>0.0 .. 0.0</td><td>0.0 .. 0.0</td><td>85</td><td>652</td><td>294.68973</td><td>0.49044713 .. 0.010492515</td></tr>\n",
       "<tr><td>69</td><td>435</td><td>1990.8119978479288</td><td>161</td><td>0.05195327532928354</td><td>8.319946</td><td>663.028</td><td>0.0 .. 0.0</td><td>299.3437 .. 159.30807</td><td>0.0 .. 0.0</td><td>-2 .. -2</td><td>0.0 .. 0.0</td><td>0.0 .. 0.0</td><td>85</td><td>652</td><td>294.68973</td><td>0.45204628 .. 0.05040277</td></tr>\n",
       "<tr><td>68</td><td>383</td><td>2021.436030759141</td><td>187</td><td>0.05290802360843003</td><td>8.399963</td><td>680.48737</td><td>0.0 .. 0.0</td><td>270.51147 .. 189.11485</td><td>0.0 .. 0.0</td><td>-2 .. -2</td><td>0.0 .. 0.0</td><td>0.0 .. 0.0</td><td>85</td><td>652</td><td>294.68973</td><td>0.43521878 .. 0.052768577</td></tr>\n",
       "<tr><td>67</td><td>317</td><td>2053.0834154958284</td><td>220</td><td>0.05391227900651189</td><td>8.700012</td><td>698.5898</td><td>0.0 .. 0.0</td><td>280.3611 .. 177.79129</td><td>0.0 .. 0.0</td><td>-2 .. -2</td><td>0.0 .. 0.0</td><td>0.0 .. 0.0</td><td>85</td><td>652</td><td>294.68973</td><td>0.42627892 .. 0.052682433</td></tr>\n",
       "<tr><td>66</td><td>223</td><td>2086.5183118315645</td><td>267</td><td>0.05557189737950771</td><td>8.840027</td><td>717.17395</td><td>0.0 .. 0.0</td><td>304.4697 .. 228.8725</td><td>0.0 .. 0.0</td><td>-2 .. -2</td><td>0.0 .. 0.0</td><td>0.0 .. 0.0</td><td>85</td><td>652</td><td>294.68973</td><td>0.41573974 .. 0.053697657</td></tr>\n",
       "</table>"
      ],
      "text/plain": [
       "<Table length=60>\n",
       "ORDER NPOINTS     WAVELENGTH     ... END-BKG SCALE_BKG         COEFF [7]        \n",
       "                   ANGSTROM      ...  PIXEL                                     \n",
       "uint8  int16       float64       ...  int16   float32           float32         \n",
       "----- ------- ------------------ ... ------- --------- -------------------------\n",
       "  125     532 1098.1692580057525 ...     493 304.23505          3.2869987 .. 0.0\n",
       "  124     542 1106.8630634771735 ...     559  478.9347          1.9522327 .. 0.0\n",
       "  123     550 1115.7281980105925 ...     559   410.117          2.3387604 .. 0.0\n",
       "  122     558 1124.7395970157015 ...     604  536.4757          1.7433746 .. 0.0\n",
       "  121     568  1133.871412916893 ...     628 538.02185          1.7162596 .. 0.0\n",
       "  120     576 1143.1860166556708 ...     652 595.25354           1.523904 .. 0.0\n",
       "  119     586 1152.6281183465899 ...     652 588.79114          1.5402112 .. 0.0\n",
       "  118     592 1162.2914401548155 ...     679  625.4597          1.4487414 .. 0.0\n",
       "  117     600 1172.0903377950242 ...     679 624.10516          1.4518973 .. 0.0\n",
       "  ...     ...                ... ...     ...       ...                       ...\n",
       "   75     609 1827.6744723658533 ...     652  374.4932   0.9064554 .. 0.04025012\n",
       "   74     589 1852.7988460946206 ...     652 301.55276  0.9898982 .. 0.039896205\n",
       "   73     569   1878.62114436301 ...     652 228.54054  1.1311774 .. 0.037308764\n",
       "   72     541 1905.4471328855025 ...     652  214.3459    1.006614 .. 0.02122947\n",
       "   71     513 1932.8534157238266 ...     652  227.8887  0.7590102 .. 0.008065854\n",
       "   70     475 1961.4316741936973 ...     652 294.68973 0.49044713 .. 0.010492515\n",
       "   69     435 1990.8119978479288 ...     652 294.68973  0.45204628 .. 0.05040277\n",
       "   68     383  2021.436030759141 ...     652 294.68973 0.43521878 .. 0.052768577\n",
       "   67     317 2053.0834154958284 ...     652 294.68973 0.42627892 .. 0.052682433\n",
       "   66     223 2086.5183118315645 ...     652 294.68973 0.41573974 .. 0.053697657"
      ]
     },
     "execution_count": 49,
     "metadata": {},
     "output_type": "execute_result"
    }
   ],
   "source": [
    "t = Table.read(spectrum_file)\n",
    "t"
   ]
  },
  {
   "cell_type": "code",
   "execution_count": 50,
   "id": "f877b88c-8431-4ecd-9d02-ee2bc25bb65e",
   "metadata": {},
   "outputs": [
    {
     "name": "stdout",
     "output_type": "stream",
     "text": [
      "1106.8630634771735\n"
     ]
    },
    {
     "data": {
      "text/plain": [
       "(768,)"
      ]
     },
     "execution_count": 50,
     "metadata": {},
     "output_type": "execute_result"
    }
   ],
   "source": [
    "# check the contents of one row\n",
    "row = 1\n",
    "print(t[row]['WAVELENGTH'])\n",
    "t[row]['NET'].shape"
   ]
  },
  {
   "cell_type": "code",
   "execution_count": 51,
   "id": "3f32c5b5-e5e6-4f94-bb80-5abcaecb38fb",
   "metadata": {},
   "outputs": [
    {
     "data": {
      "image/png": "[encoded data removed]",
      "text/plain": [
       "<Figure size 432x288 with 1 Axes>"
      ]
     },
     "metadata": {
      "needs_background": "light"
     },
     "output_type": "display_data"
    }
   ],
   "source": [
    "plot_order(t, 1)"
   ]
  },
  {
   "cell_type": "code",
   "execution_count": null,
   "id": "a8ca9c1e-a54a-45ff-96ec-b546592d62cf",
   "metadata": {},
   "outputs": [],
   "source": []
  }
 ],
 "metadata": {
  "kernelspec": {
   "display_name": "Python 3",
   "language": "python",
   "name": "python3"
  },
  "language_info": {
   "codemirror_mode": {
    "name": "ipython",
    "version": 3
   },
   "file_extension": ".py",
   "mimetype": "text/x-python",
   "name": "python",
   "nbconvert_exporter": "python",
   "pygments_lexer": "ipython3",
   "version": "3.8.10"
  }
 },
 "nbformat": 4,
 "nbformat_minor": 5
}
