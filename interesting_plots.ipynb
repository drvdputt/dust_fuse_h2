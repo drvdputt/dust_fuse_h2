{
 "cells": [
  {
   "cell_type": "code",
   "execution_count": null,
   "metadata": {},
   "outputs": [],
   "source": [
    "%load_ext autoreload\n",
    "%autoreload 2\n",
    "\n",
    "from get_data import (get_merged_table, get_bohlin78, get_shull2021)\n",
    "from plot_fuse_results import plot_results_scatter, match_comments, plot_results_fit\n",
    "from matplotlib import pyplot as plt\n",
    "from astropy.table import Column\n",
    "\n",
    "plt.ioff()\n",
    "\n",
    "import matplotlib as mpl\n",
    "\n",
    "mpl.rcParams['figure.dpi'] = 120\n",
    "%matplotlib widget"
   ]
  },
  {
   "cell_type": "markdown",
   "metadata": {},
   "source": [
    "# Get the data"
   ]
  },
  {
   "cell_type": "markdown",
   "metadata": {},
   "source": [
    "### data for Gordon09 extinction curve sightlines"
   ]
  },
  {
   "cell_type": "code",
   "execution_count": null,
   "metadata": {},
   "outputs": [],
   "source": [
    "# data = get_merged_table()\n",
    "\n",
    "# # add comments for certain stars here\n",
    "# data.add_column(Column(['no'] * len(data), dtype='<U16', name='comment'))\n",
    "# def set_comment(name, s):\n",
    "#     data['comment'][data['Name'] == name] = s\n",
    "\n",
    "# for name in [\"HD200775\", \"HD164906\", \"HD045314\", \"HD206773\"]:\n",
    "#     set_comment(name, \"lo_h_av\")\n",
    "\n",
    "# set_comment(\"HD096675\", \"hi_h_av\")\n",
    "\n",
    "# # write out in fits format so we can look at it in topcat\n",
    "# data.write('merged_table.fits', overwrite=True)\n",
    "# data\n",
    "\n",
    "def set_comment(name, s):\n",
    "    \"\"\"Set the comment for a specific star to the string s.\"\"\"\n",
    "    data[\"comment\"][data[\"Name\"] == name] = s\n",
    "\n",
    "\n",
    "# main data and comments to help marking some points\n",
    "data = get_merged_table()\n",
    "comp = get_merged_table(True)\n",
    "data.add_column(Column([\"none\"] * len(data), dtype=\"<U16\", name=\"comment\"))\n",
    "\n",
    "set_comment(\"HD096675\", \"hi_h_av\")\n",
    "# the 4 low outliers\n",
    "for name in [\"HD045314\", \"HD164906\", \"HD200775\", \"HD206773\"]:\n",
    "    set_comment(name, \"lo_h_av\")\n",
    "\n"
   ]
  },
  {
   "cell_type": "markdown",
   "metadata": {},
   "source": [
    "### data for Gordon09 comparision star sightlines"
   ]
  },
  {
   "cell_type": "code",
   "execution_count": null,
   "metadata": {},
   "outputs": [],
   "source": [
    "data_comp = get_merged_table(comp=True)"
   ]
  },
  {
   "cell_type": "markdown",
   "metadata": {},
   "source": [
    "### data for Bohlin 78 Copernicus sightlines"
   ]
  },
  {
   "cell_type": "code",
   "execution_count": null,
   "metadata": {},
   "outputs": [],
   "source": [
    "bohlin = get_bohlin78()"
   ]
  },
  {
   "cell_type": "markdown",
   "metadata": {},
   "source": [
    "### Data for Shull 2021 sightlines"
   ]
  },
  {
   "cell_type": "code",
   "execution_count": null,
   "metadata": {},
   "outputs": [],
   "source": [
    "data_shull = get_shull2021()\n",
    "data_shull\n",
    "import numpy as np\n",
    "i = np.argmax(data_shull['fh2'])\n",
    "data_shull"
   ]
  },
  {
   "cell_type": "markdown",
   "metadata": {},
   "source": [
    "# 1. Basic gas-to-dust slopes\n",
    "## Gas-to-A(V)\n",
    "- 4 strong outlieres in NH-AV relation. Including them breaks the fit. Effect on NH-E(B-V) is not that strong.\n",
    "- Need to investigate these points, as they might also have a strong effect on the fit result of other plots.\n",
    "- gas-to-A(V) narrower than gas-to-E(B-V)"
   ]
  },
  {
   "cell_type": "code",
   "execution_count": null,
   "metadata": {},
   "outputs": [],
   "source": [
    "from paper_scatter import finalize_double_grid\n",
    "OUTPUT_TYPE = \"pdf\"\n",
    "MARK4 = True # switch to enable marking of low NH/AV points\n",
    "if MARK4:\n",
    "    MARK_STRING = [\"lo_h_av\"]\n",
    "else:\n",
    "    MARK_STRING = None\n",
    "fig, axs = plt.subplots(3, 3, sharey=\"row\", sharex=\"col\")\n",
    "#fig.set_size_inches(paper_rcparams.base_width, paper_rcparams.base_width)\n",
    "\n",
    "# use these variables, so we can easily swap column and rows around\n",
    "# col = {\"AV\": 0, \"EBV\": 1, \"A1000\": 2}\n",
    "middle = \"A2900\"\n",
    "col = {\"AV\": 0, middle: 1, \"A1000\": 2}\n",
    "row = {\"nhtot\": 0, \"nhi\": 1, \"nh2\": 2}\n",
    "\n",
    "def choose_ax(x, y):\n",
    "    return axs[row[y], col[x]]\n",
    "\n",
    "ax = choose_ax(\"AV\", \"nhtot\")\n",
    "xs, ys, covs = plot_results_scatter(\n",
    "    ax,\n",
    "    data,\n",
    "    \"AV\",\n",
    "    \"nhtot\",\n",
    "    # data_comp=comp,\n",
    "    data_bohlin=bohlin,\n",
    "    # ignore_comments=[\"lo_h_av\", \"hi_h_av\"],\n",
    "    report_rho=False,\n",
    ")\n",
    "out = np.where(match_comments(data, [\"lo_h_av\", \"hi_h_av\"]))[0]\n",
    "r = plot_results_fit(\n",
    "    xs, ys, covs, ax, report_rho=True, outliers=out, auto_outliers=True\n",
    ")\n",
    "# print(\"AV vs nhtot outliers: \", data['name'][\n",
    "\n",
    "ax = choose_ax(\"AV\", \"nhi\")\n",
    "xs, ys, covs = plot_results_scatter(\n",
    "    ax,\n",
    "    data,\n",
    "    \"AV\",\n",
    "    \"nhi\",\n",
    "    # data_comp=comp,\n",
    "    data_bohlin=bohlin,\n",
    "    mark_comments=MARK_STRING,\n",
    ")\n",
    "ax = choose_ax(\"AV\", \"nh2\")\n",
    "xs, ys, covs = plot_results_scatter(\n",
    "    ax,\n",
    "    data,\n",
    "    \"AV\",\n",
    "    \"nh2\",\n",
    "    # data_comp=comp,\n",
    "    data_bohlin=bohlin,\n",
    "    mark_comments=MARK_STRING,\n",
    ")\n",
    "\n",
    "ax = choose_ax(middle, \"nhtot\")\n",
    "xs, ys, covs = plot_results_scatter(\n",
    "    ax,\n",
    "    data,\n",
    "    middle,\n",
    "    \"nhtot\",\n",
    "    # data_comp=comp,\n",
    "    data_bohlin=bohlin,\n",
    "    mark_comments=MARK_STRING,\n",
    "    # ignore_comments=[\"hi_h_av\"],\n",
    "    report_rho=False,\n",
    ")\n",
    "r = plot_results_fit(xs, ys, covs, ax, outliers=out, auto_outliers=True, report_rho=True)\n",
    "\n",
    "ax = choose_ax(middle, \"nhi\")\n",
    "xs, ys, covs = plot_results_scatter(\n",
    "    ax,\n",
    "    data,\n",
    "    middle,\n",
    "    \"nhi\",\n",
    "    # data_comp=comp,\n",
    "    data_bohlin=bohlin,\n",
    "    mark_comments=MARK_STRING,\n",
    ")\n",
    "\n",
    "ax = choose_ax(middle, \"nh2\")\n",
    "xs, ys, covs = plot_results_scatter(\n",
    "    ax,\n",
    "    data,\n",
    "    middle,\n",
    "    \"nh2\",\n",
    "    # data_comp=comp,\n",
    "    data_bohlin=bohlin,\n",
    "    mark_comments=MARK_STRING,\n",
    ")\n",
    "\n",
    "ax = choose_ax(\"A1000\", \"nhtot\")\n",
    "xs, ys, covs = plot_results_scatter(\n",
    "    ax,\n",
    "    data,\n",
    "    \"A1000\",\n",
    "    \"nhtot\",\n",
    "    data_bohlin=bohlin,\n",
    "    mark_comments=MARK_STRING,\n",
    ")\n",
    "\n",
    "ax = choose_ax(\"A1000\", \"nhi\")\n",
    "xs, ys, covs = plot_results_scatter(\n",
    "    ax,\n",
    "    data,\n",
    "    \"A1000\",\n",
    "    \"nhi\",\n",
    "    data_bohlin=bohlin,\n",
    "    mark_comments=MARK_STRING,\n",
    ")\n",
    "\n",
    "ax = choose_ax(\"A1000\", \"nh2\")\n",
    "xs, ys, covs = plot_results_scatter(\n",
    "    ax,\n",
    "    data,\n",
    "    \"A1000\",\n",
    "    \"nh2\",\n",
    "    data_bohlin=bohlin,\n",
    "    mark_comments=MARK_STRING,\n",
    "    report_rho=False,\n",
    ")\n",
    "r = plot_results_fit(\n",
    "    xs,\n",
    "    ys,\n",
    "    covs,\n",
    "    ax,\n",
    "    auto_outliers=True,\n",
    "    fit_includes_outliers=True,\n",
    "    report_rho=True,\n",
    ")\n",
    "for ax in axs[1:, 0]:\n",
    "    ax.yaxis.offsetText.set_visible(False)\n",
    "\n",
    "axs[0][0].legend(bbox_to_anchor=(1.5, 1), loc=\"lower center\", ncol=4)\n",
    "\n",
    "fig.tight_layout()\n",
    "finalize_double_grid(fig, axs, \"column_vs_column_a2900\")\n"
   ]
  },
  {
   "cell_type": "code",
   "execution_count": null,
   "metadata": {},
   "outputs": [],
   "source": [
    "plt.figure()\n",
    "xs, ys, covs = plot_results_scatter(\n",
    "        plt.gca(),\n",
    "        data,\n",
    "        \"AV\",\n",
    "        \"nhtot\",\n",
    "        # data_comp=comp,\n",
    "        # ignore_comments=[\"lo_h_av\", \"hi_h_av\"],\n",
    "        report_rho=True,\n",
    ")\n",
    "plt.show()"
   ]
  },
  {
   "cell_type": "code",
   "execution_count": null,
   "metadata": {},
   "outputs": [],
   "source": [
    "fig1 = plot_results2(data, 'AV', 'denhtot', pxrange=[0.0,3.5], pyrange=[0.0,0.8e22],\n",
    "            data_comp=data_comp, data_bohlin=data_bohlin78)\n",
    "fig2 = plot_results2(data, 'AV', 'denhtot', pxrange=[0.0,3.5], pyrange=[0.0,0.8e22],\n",
    "            data_comp=data_comp, data_bohlin=data_bohlin78, ignore_comments=['lo_h_av', 'hi_h_av'])"
   ]
  },
  {
   "cell_type": "code",
   "execution_count": null,
   "metadata": {},
   "outputs": [],
   "source": [
    "_ = plot_results2(data, 'nhtot', 'nh2')"
   ]
  },
  {
   "cell_type": "code",
   "execution_count": null,
   "metadata": {},
   "outputs": [],
   "source": [
    "_ = plot_results2(data, 'denhtot', 'denh2')"
   ]
  },
  {
   "cell_type": "markdown",
   "metadata": {},
   "source": [
    "The number densities look related, but might not be as significant, because of the common distance factor, which  probably has a rather high uncertainty."
   ]
  },
  {
   "cell_type": "markdown",
   "metadata": {},
   "source": [
    "## Gas-to-E(B-V)\n"
   ]
  },
  {
   "cell_type": "code",
   "execution_count": null,
   "metadata": {},
   "outputs": [],
   "source": [
    "fig1 = plot_results2(data, 'EBV', 'nhtot', pyrange=[0.0,0.8e22],\n",
    "            data_comp=data_comp, data_bohlin=data_bohlin78, data_shull=data_shull)\n",
    "fig2 = plot_results2(data, 'EBV', 'nhtot', pyrange=[0.0,0.8e22],\n",
    "            data_comp=data_comp, data_bohlin=data_bohlin78, data_shull=data_shull, ignore_comments=['hi_h_av'], mark_comments=['lo_h_av'])"
   ]
  },
  {
   "cell_type": "code",
   "execution_count": null,
   "metadata": {},
   "outputs": [],
   "source": [
    "_ = plot_results2(data, 'd', 'nhtot', pyrange=[0.0,0.8e22],\n",
    "           ignore_comments=['hi_h_av'], mark_comments=['lo_h_av'])"
   ]
  },
  {
   "cell_type": "markdown",
   "metadata": {},
   "source": [
    "# 2. Gas-to-dust vs other things\n",
    "\n",
    "## VS dust column and gas column\n",
    "\n",
    "Before making any big conlusions here, the correlation between NH / AV and AV needs to be implemented properly. Preliminarily, we have:"
   ]
  },
  {
   "cell_type": "markdown",
   "metadata": {},
   "source": [
    "### Using A(V)\n",
    "The bad points mentioned above seem to pull down NH/AV - AV pretty badly. Not including them makes the downward slope insignificant. \n",
    "\n",
    "With them included:\n",
    "\n",
    "NH-AV goes down with AV, but up with NH! Despite the fact that AV and NH have a well-defined slope in the plots above!"
   ]
  },
  {
   "cell_type": "code",
   "execution_count": null,
   "metadata": {},
   "outputs": [],
   "source": [
    "fig1 = plot_results2(data, 'AV', 'NH_AV', pyrange=[0.0,0.5e22], pxrange=[0,4],\n",
    "            data_comp=data_comp,data_bohlin=data_bohlin78, ignore_comments=['hi_h_av'], mark_comments=['lo_h_av'])\n",
    "fig1 = plot_results2(data, 'AV', 'NH_AV', pyrange=[0.0,0.5e22], pxrange=[0,4],\n",
    "            data_comp=data_comp,data_bohlin=data_bohlin78, ignore_comments=['hi_h_av', 'lo_h_av'])\n",
    "#fig2 = plot_results2(data, 'nhtot', 'NH_AV', pyrange=[0.0,0.5e22], pxrange=[0, 1.2e22],\n",
    " #           data_comp=data_comp,data_bohlin=data_bohlin78, ignore_comments=['hi_h_av'], mark_comments=['lo_h_av'])"
   ]
  },
  {
   "cell_type": "markdown",
   "metadata": {},
   "source": [
    "### Using E(B-V)\n",
    "\n",
    "In this case, the slope of NH / EBV is unclear, but NH / EBV does sem to go up with EBV!"
   ]
  },
  {
   "cell_type": "code",
   "execution_count": null,
   "metadata": {},
   "outputs": [],
   "source": [
    "fig1 = plot_results2(data, 'EBV', 'NH_EBV', pyrange=[0.0,1.5e22], pxrange=[-.1,1],\n",
    "            data_comp=data_comp,data_bohlin=data_bohlin78, data_shull=data_shull, ignore_comments=['hi_h_av'], mark_comments=['lo_h_av'])\n",
    "fig2 = plot_results2(data, 'nhtot', 'NH_EBV', pyrange=[0.0,1.5e22], pxrange=[0,1.2e22],\n",
    "            data_comp=data_comp,data_bohlin=data_bohlin78, data_shull=data_shull, ignore_comments=['hi_h_av'], mark_comments=['lo_h_av'])"
   ]
  },
  {
   "cell_type": "markdown",
   "metadata": {},
   "source": [
    "## VS average grain size (RV)"
   ]
  },
  {
   "cell_type": "code",
   "execution_count": null,
   "metadata": {},
   "outputs": [],
   "source": [
    "_ = plot_results2(data, 'RV', 'NH_AV', pxrange=[2.5,6.0], pyrange=[0.0,0.5e22],\n",
    "            data_comp=data_comp, ignore_comments=['hi_h_av'], mark_comments=['lo_h_av'])"
   ]
  },
  {
   "cell_type": "code",
   "execution_count": null,
   "metadata": {},
   "outputs": [],
   "source": [
    "data['1_RV'].data"
   ]
  },
  {
   "cell_type": "code",
   "execution_count": null,
   "metadata": {},
   "outputs": [],
   "source": [
    "_ = plot_results2(data, '1_RV', 'NH_AV', pyrange=[0.0,0.5e22],\n",
    "            data_comp=data_comp, ignore_comments=['hi_h_av'], mark_comments=['lo_h_av'])"
   ]
  },
  {
   "cell_type": "markdown",
   "metadata": {},
   "source": [
    "## VS density (NH)"
   ]
  },
  {
   "cell_type": "code",
   "execution_count": null,
   "metadata": {},
   "outputs": [],
   "source": [
    "_ = plot_results2(data, 'denhtot', 'NH_AV', pyrange=[0.0,0.5e22],\n",
    "            data_comp=data_comp, ignore_comments=['hi_h_av','lo_h_av'], mark_comments=['lo_h_av'])\n",
    "_ = plot_results2(data, 'nhi', 'NH_AV', pyrange=[0.0,0.5e22],\n",
    "            data_comp=data_comp, ignore_comments=['hi_h_av','lo_h_av'], mark_comments=['lo_h_av'])"
   ]
  },
  {
   "cell_type": "markdown",
   "metadata": {},
   "source": [
    "## VS molecular fraction (fH2)\n",
    "### Using A(V)"
   ]
  },
  {
   "cell_type": "code",
   "execution_count": null,
   "metadata": {},
   "outputs": [],
   "source": [
    "_ = plot_results2(data, 'fh2', 'NH_AV', pxrange=[0.0,0.7], pyrange=[0.0,1e22],\n",
    "            data_comp=data_comp, data_bohlin=data_bohlin78, ignore_comments=['hi_h_av', 'lo_h_av'], mark_comments=['lo_h_av'])"
   ]
  },
  {
   "cell_type": "markdown",
   "metadata": {},
   "source": [
    "### Using E(B-V)"
   ]
  },
  {
   "cell_type": "code",
   "execution_count": null,
   "metadata": {},
   "outputs": [],
   "source": [
    "_ = plot_results2(data, 'fh2', 'NH_EBV', pxrange=[0.0,0.7], pyrange=[0.0,1.5e22],\n",
    "            data_comp=data_comp, data_bohlin=data_bohlin78, data_shull=data_shull, ignore_comments=['hi_h_av'], mark_comments=['lo_h_av'])"
   ]
  },
  {
   "cell_type": "markdown",
   "metadata": {},
   "source": [
    "# 3. Molecular fraction vs others \n",
    "\n",
    "E(B-V) seems a better predictor of fh2 than A(V)\n",
    "\n",
    "## VS E(B-V) dust column"
   ]
  },
  {
   "cell_type": "code",
   "execution_count": null,
   "metadata": {},
   "outputs": [],
   "source": [
    "_ = plot_results2(data, 'EBV', 'fh2',\n",
    "            data_comp=data_comp, data_bohlin=data_bohlin78, data_shull=data_shull, mark_comments=['lo_h_av'])"
   ]
  },
  {
   "cell_type": "markdown",
   "metadata": {},
   "source": [
    "## VS A(V) dust column"
   ]
  },
  {
   "cell_type": "code",
   "execution_count": null,
   "metadata": {},
   "outputs": [],
   "source": [
    "_ = plot_results2(data, 'AV', 'fh2', data_comp=data_comp, data_bohlin=data_bohlin78, mark_comments=['hi_h_av', 'lo_h_av'])"
   ]
  },
  {
   "cell_type": "markdown",
   "metadata": {},
   "source": [
    "## VS average grain size (RV)"
   ]
  },
  {
   "cell_type": "code",
   "execution_count": null,
   "metadata": {},
   "outputs": [],
   "source": [
    "_ = plot_results2(data, 'RV', 'fh2', pxrange=[2.0,6.0], pyrange=[0, 1], data_comp=data_comp, \n",
    "                  ignore_comments=['lo_h_av'], mark_comments=['hi_h_av'])"
   ]
  },
  {
   "cell_type": "code",
   "execution_count": null,
   "metadata": {},
   "outputs": [],
   "source": [
    "_ = plot_results2(data, '1_RV', 'fh2', pxrange=[.1, .5], pyrange=[0, 1], data_comp=data_comp, \n",
    "                  ignore_comments=['lo_h_av'], \n",
    "                  mark_comments=['hi_h_av','lo_h_av'])"
   ]
  },
  {
   "cell_type": "markdown",
   "metadata": {},
   "source": [
    "# 4. Basic extinction relations"
   ]
  },
  {
   "cell_type": "code",
   "execution_count": null,
   "metadata": {},
   "outputs": [],
   "source": [
    "_ = plot_results2(data, 'EBV', 'RV', mark_comments=['lo_h_av'])"
   ]
  },
  {
   "cell_type": "code",
   "execution_count": null,
   "metadata": {},
   "outputs": [],
   "source": [
    "_ = plot_results2(data, 'AV', 'RV', mark_comments=['lo_h_av'])"
   ]
  },
  {
   "cell_type": "markdown",
   "metadata": {},
   "source": [
    "# Other ideas"
   ]
  },
  {
   "cell_type": "markdown",
   "metadata": {},
   "source": [
    "longitude versus rv and distance versus rv (and versus fh2)"
   ]
  },
  {
   "cell_type": "code",
   "execution_count": null,
   "metadata": {},
   "outputs": [],
   "source": [
    "_ = plot_results2(data, 'denhtot', 'fh2', mark_comments=['lo_h_av'])"
   ]
  },
  {
   "cell_type": "code",
   "execution_count": null,
   "metadata": {},
   "outputs": [],
   "source": [
    "_ = plot_results2(data, 'denhtot', '1_RV', mark_comments=['lo_h_av'], data_comp=data_comp)"
   ]
  },
  {
   "cell_type": "markdown",
   "metadata": {},
   "source": [
    "COS FUV needs 2x10-13 ergs/blah blah"
   ]
  },
  {
   "cell_type": "markdown",
   "metadata": {},
   "source": [
    "E140H for CO (maybe E140M), S/N 15..."
   ]
  },
  {
   "cell_type": "markdown",
   "metadata": {},
   "source": [
    "E(B-V)/distance versus fH2.  Should also do A(V)/d.  Maybe n(H) as well."
   ]
  }
 ],
 "metadata": {
  "anaconda-cloud": {},
  "kernelspec": {
   "display_name": "Python 3 (ipykernel)",
   "language": "python",
   "name": "python3"
  },
  "language_info": {
   "codemirror_mode": {
    "name": "ipython",
    "version": 3
   },
   "file_extension": ".py",
   "mimetype": "text/x-python",
   "name": "python",
   "nbconvert_exporter": "python",
   "pygments_lexer": "ipython3",
   "version": "3.9.12"
  }
 },
 "nbformat": 4,
 "nbformat_minor": 4
}
