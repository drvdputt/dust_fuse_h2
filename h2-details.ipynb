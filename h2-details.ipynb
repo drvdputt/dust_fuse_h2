{
 "cells": [
  {
   "cell_type": "markdown",
   "id": "80ac9b37-f6dc-4924-94c8-78a3b4e797f2",
   "metadata": {
    "tags": []
   },
   "source": [
    "# H2 details\n",
    "\n",
    "From the previous notebook, we drew the following preliminary conclusions:\n",
    " - For the main cloud of points, there is some indication of grain growth from NH/AV vs 1/RV\n",
    "    and fh2 vs 1/RV. NH/AV does not change too strongly, but clearly fh2 is affected as\n",
    "    expected.\n",
    "  - For the 4 outliers, there is a strong change in NH/AV, coupled with a strong change in RV,\n",
    "    consistent with the above relationship. The processes or environment associated with this\n",
    "    relative grain mass increase might have affected fh2, as it is very different between those\n",
    "    4 stars, despite being on the aforementioned trend.\n",
    "  - Gas to dust ratio does not influence fh2 for both sets of points\n",
    "  \n",
    "In this notebook we will look at some H2-specific data"
   ]
  },
  {
   "cell_type": "code",
   "execution_count": 66,
   "id": "1742b857-b9d7-45d3-ad4f-a14dbc2beb7d",
   "metadata": {},
   "outputs": [
    {
     "name": "stdout",
     "output_type": "stream",
     "text": [
      "The autoreload extension is already loaded. To reload it, use:\n",
      "  %reload_ext autoreload\n"
     ]
    }
   ],
   "source": [
    "%load_ext autoreload\n",
    "%autoreload 2\n",
    "\n",
    "import get_data\n",
    "from matplotlib import pyplot as plt\n",
    "from astropy.table import Column\n",
    "import numpy as np"
   ]
  },
  {
   "cell_type": "code",
   "execution_count": 30,
   "id": "b8bb1d18-498d-49c5-953b-b4c870baccb9",
   "metadata": {},
   "outputs": [
    {
     "data": {
      "text/html": [
       "<div><i>Table length=75</i>\n",
       "<table id=\"table140444364978832\" class=\"table-striped table-bordered table-condensed\">\n",
       "<thead><tr><th>Name</th><th>lognhtot</th><th>lognhtot_unc</th><th>lognhi</th><th>lognhi_unc</th><th>lognh2</th><th>lognh2_unc</th><th>logfh2</th><th>lognh</th><th>hiref</th><th>nhi</th><th>nhi_unc</th><th>nh2</th><th>nh2_unc</th><th>nhtot</th><th>nhtot_unc</th><th>fh2</th><th>fh2_unc</th><th>nh</th><th>SpType</th><th>Comparison</th><th>V</th><th>AV</th><th>AV_runc</th><th>AV_sunc</th><th>EBV</th><th>EBV_runc</th><th>EBV_sunc</th><th>RV</th><th>RV_runc</th><th>RV_sunc</th><th>AV_unc</th><th>EBV_unc</th><th>RV_unc</th><th>CAV1</th><th>CAV1_runc</th><th>CAV1_sunc</th><th>CAV2</th><th>CAV2_runc</th><th>CAV2_sunc</th><th>CAV3</th><th>CAV3_runc</th><th>CAV3_sunc</th><th>CAV4</th><th>CAV4_runc</th><th>CAV4_sunc</th><th>x_o</th><th>x_o_runc</th><th>x_o_sunc</th><th>gamma</th><th>gamma_runc</th><th>gamma_sunc</th><th>CAV1_unc</th><th>CAV2_unc</th><th>CAV3_unc</th><th>CAV4_unc</th><th>x_o_unc</th><th>gamma_unc</th><th>C1</th><th>C1_unc</th><th>C2</th><th>C2_unc</th><th>C3</th><th>C3_unc</th><th>C4</th><th>C4_unc</th><th>NH_AV</th><th>NH_AV_unc</th><th>NH_EBV</th><th>NH_EBV_unc</th><th>bump_area</th><th>bump_area_unc</th><th>comment</th></tr></thead>\n",
       "<thead><tr><th>str10</th><th>float64</th><th>float64</th><th>float64</th><th>float64</th><th>float64</th><th>float64</th><th>float64</th><th>float64</th><th>int64</th><th>float64</th><th>float64</th><th>float64</th><th>float64</th><th>float64</th><th>float64</th><th>float64</th><th>float64</th><th>float64</th><th>str6</th><th>str10</th><th>float64</th><th>float64</th><th>float64</th><th>float64</th><th>float64</th><th>float64</th><th>float64</th><th>float64</th><th>float64</th><th>float64</th><th>float64</th><th>float64</th><th>float64</th><th>float64</th><th>float64</th><th>float64</th><th>float64</th><th>float64</th><th>float64</th><th>float64</th><th>float64</th><th>float64</th><th>float64</th><th>float64</th><th>float64</th><th>float64</th><th>float64</th><th>float64</th><th>float64</th><th>float64</th><th>float64</th><th>float64</th><th>float64</th><th>float64</th><th>float64</th><th>float64</th><th>float64</th><th>float64</th><th>float64</th><th>float64</th><th>float64</th><th>float64</th><th>float64</th><th>float64</th><th>float64</th><th>float64</th><th>float64</th><th>float64</th><th>float64</th><th>float64</th><th>float64</th><th>str16</th></tr></thead>\n",
       "<tr><td>BD+35d4258</td><td>21.25738178715031</td><td>0.048423172954873195</td><td>21.24</td><td>0.05</td><td>19.55</td><td>0.07</td><td>-1.406351791486331</td><td>-0.76</td><td>15</td><td>1.7378008287493693e+21</td><td>2.005139904227841e+20</td><td>3.5481338923357606e+19</td><td>5.743710571506721e+18</td><td>1.8087635065960844e+21</td><td>2.0084277731545468e+20</td><td>0.039232701007032154</td><td>0.007701475402127867</td><td>0.17378008287493754</td><td>B0.5V</td><td>HD097471</td><td>9.41</td><td>0.95</td><td>0.04</td><td>0.03</td><td>0.31</td><td>0.053</td><td>0.037</td><td>3.06</td><td>0.38</td><td>0.011</td><td>0.05</td><td>0.06463745044476925</td><td>0.38015917718766173</td><td>0.6</td><td>0.119</td><td>0.032</td><td>0.38</td><td>0.022</td><td>0.018</td><td>1.84</td><td>0.276</td><td>0.078</td><td>0.04</td><td>0.012</td><td>0.003</td><td>4.73</td><td>0.08</td><td>0.012</td><td>1.34</td><td>0.033</td><td>0.024</td><td>0.123227432010896</td><td>0.02842534080710379</td><td>0.2868100416652109</td><td>0.012369316876852983</td><td>0.08089499366462674</td><td>0.040804411526206334</td><td>-1.2240000000000002</td><td>-0.3582288598960656</td><td>1.1628</td><td>0.2575834659025062</td><td>5.630400000000001</td><td>1.4657713329578816</td><td>0.12240000000000001</td><td>0.04565053121951978</td><td>1.9039615858906154e+21</td><td>2.3396023409334275e+20</td><td>5.834720989019627e+21</td><td>1.3783426827663216e+21</td><td>2.156914359181052</td><td>0.3425645129218912</td><td>no</td></tr>\n",
       "<tr><td>BD+53d2820</td><td>21.394307013116407</td><td>0.048508337038422056</td><td>21.35</td><td>0.05</td><td>20.08</td><td>0.17</td><td>-1.0132770174524268</td><td>-0.64</td><td>15</td><td>2.238721138568347e+21</td><td>2.583120582703549e+20</td><td>1.2022644346174082e+20</td><td>4.82724446937415e+19</td><td>2.4791740254918284e+21</td><td>2.7576445585809015e+20</td><td>0.09698911187800931</td><td>0.040409102286178014</td><td>0.2290867652767773</td><td>B0IV</td><td>HD104705</td><td>9.95</td><td>1.2</td><td>0.04</td><td>0.03</td><td>0.4</td><td>0.047</td><td>0.035</td><td>3.01</td><td>0.249</td><td>0.012</td><td>0.05</td><td>0.05860034129593445</td><td>0.24928898892650675</td><td>0.7</td><td>0.06</td><td>0.026</td><td>0.3</td><td>0.012</td><td>0.012</td><td>1.06</td><td>0.089</td><td>0.042</td><td>0.1</td><td>0.008</td><td>0.004</td><td>4.62</td><td>0.033</td><td>0.012</td><td>1.01</td><td>0.023</td><td>0.015</td><td>0.06539113089708726</td><td>0.01697056274847714</td><td>0.09841239759298621</td><td>0.008944271909999158</td><td>0.03511409973215888</td><td>0.02745906043549196</td><td>-0.903</td><td>-0.15689616713769652</td><td>0.9029999999999999</td><td>0.14180981793409086</td><td>3.1906</td><td>0.5533839362743554</td><td>0.301</td><td>0.051665578120253325</td><td>2.0659783545765238e+21</td><td>2.4539749715548717e+20</td><td>6.197935063729571e+21</td><td>1.1400687519478279e+21</td><td>1.6485585211906837</td><td>0.15948266874647712</td><td>no</td></tr>\n",
       "<tr><td>BD+56d524</td><td>21.570568601612063</td><td>0.1563332035447722</td><td>21.38</td><td>0.16</td><td>20.82</td><td>0.28</td><td>-0.4495386059480802</td><td>-0.32</td><td>0</td><td>2.398832919019485e+21</td><td>9.038907985438767e+20</td><td>6.606934480075964e+20</td><td>4.560942806708201e+20</td><td>3.7202198150346776e+21</td><td>1.284175434718644e+21</td><td>0.35519054295528923</td><td>0.2741430576487368</td><td>0.4786300923226383</td><td>B1V</td><td>BD+52d3210</td><td>9.75</td><td>1.8</td><td>0.04</td><td>0.02</td><td>0.6</td><td>0.044</td><td>0.023</td><td>2.98</td><td>0.191</td><td>0.009</td><td>0.044721359549995794</td><td>0.04964876634922563</td><td>0.1912119243143586</td><td>0.67</td><td>0.046</td><td>0.018</td><td>0.32</td><td>0.008</td><td>0.008</td><td>1.4</td><td>0.078</td><td>0.036</td><td>0.13</td><td>0.009</td><td>0.003</td><td>4.58</td><td>0.021</td><td>0.008</td><td>1.03</td><td>0.019</td><td>0.009</td><td>0.04939635614091387</td><td>0.01131370849898476</td><td>0.08590692637965812</td><td>0.009486832980505138</td><td>0.022472205054244233</td><td>0.02102379604162864</td><td>-0.9833999999999998</td><td>-0.1089877479186896</td><td>0.9536</td><td>0.08580928268873686</td><td>4.172</td><td>0.42978745160317966</td><td>0.3874</td><td>0.04274176669904457</td><td>2.0667887861303765e+21</td><td>7.152763816400112e+20</td><td>6.200366358391129e+21</td><td>2.2009293148174743e+21</td><td>2.1350629684590827</td><td>0.13806997620211023</td><td>no</td></tr>\n",
       "<tr><td>HD001383</td><td>21.53591122078555</td><td>0.03984725816956036</td><td>21.46</td><td>0.04</td><td>20.44</td><td>0.13</td><td>-0.7948812251215694</td><td>-0.45</td><td>15</td><td>2.8840315031266116e+21</td><td>2.6600483413649365e+20</td><td>2.7542287033381745e+20</td><td>8.36807173151094e+19</td><td>3.4348772437942463e+21</td><td>3.1427443673558385e+20</td><td>0.1603683921056689</td><td>0.05088552167906548</td><td>0.35481338923357547</td><td>B1II</td><td>HD100276</td><td>7.63</td><td>1.36</td><td>0.04</td><td>0.02</td><td>0.45</td><td>0.035</td><td>0.029</td><td>3.04</td><td>0.151</td><td>0.009</td><td>0.044721359549995794</td><td>0.04545327270945405</td><td>0.1512679741386127</td><td>0.82</td><td>0.051</td><td>0.026</td><td>0.26</td><td>0.011</td><td>0.008</td><td>1.3</td><td>0.075</td><td>0.043</td><td>0.11</td><td>0.008</td><td>0.004</td><td>4.56</td><td>0.026</td><td>0.009</td><td>1.0</td><td>0.019</td><td>0.01</td><td>0.05724508712544684</td><td>0.013601470508735444</td><td>0.08645229898620395</td><td>0.008944271909999158</td><td>0.027513632984395207</td><td>0.021470910553583886</td><td>-0.5472000000000001</td><td>-0.06718772930772154</td><td>0.7904</td><td>0.08990832319948587</td><td>3.9520000000000004</td><td>0.4779298933040078</td><td>0.33440000000000003</td><td>0.043361300477058204</td><td>2.525645032201652e+21</td><td>2.4555541701605566e+20</td><td>7.633060541764992e+21</td><td>1.0402778511257731e+21</td><td>2.0420352248333655</td><td>0.14270137822265994</td><td>no</td></tr>\n",
       "<tr><td>HD013268</td><td>21.433580274180407</td><td>0.04344710265934282</td><td>21.34</td><td>0.05</td><td>20.42</td><td>0.08</td><td>-0.7125502785164249</td><td>-0.43</td><td>15</td><td>2.1877616239495519e+21</td><td>2.5243215796349606e+20</td><td>2.6302679918953923e+20</td><td>4.872580181094048e+19</td><td>2.7138152223286304e+21</td><td>2.7058974374980223e+20</td><td>0.19384282100374178</td><td>0.0407805027036028</td><td>0.37153522909717257</td><td>O8V</td><td>HD093028</td><td>8.18</td><td>1.35</td><td>0.04</td><td>0.03</td><td>0.44</td><td>0.052</td><td>0.042</td><td>3.07</td><td>0.231</td><td>0.014</td><td>0.05</td><td>0.06684309986827361</td><td>0.23142385356743156</td><td>0.53</td><td>0.057</td><td>0.019</td><td>0.36</td><td>0.011</td><td>0.014</td><td>0.83</td><td>0.062</td><td>0.039</td><td>0.1</td><td>0.008</td><td>0.004</td><td>4.58</td><td>0.028</td><td>0.016</td><td>0.89</td><td>0.023</td><td>0.018</td><td>0.06008327554319921</td><td>0.017804493814764857</td><td>0.07324616030891995</td><td>0.008944271909999158</td><td>0.0322490309931942</td><td>0.029206163733020464</td><td>-1.4428999999999998</td><td>-0.27350496249813466</td><td>1.1052</td><td>0.17657104950923688</td><td>2.5481</td><td>0.4476707136811719</td><td>0.307</td><td>0.054121333269571546</td><td>2.0102334980212075e+21</td><td>2.138181299843719e+20</td><td>6.167761868928705e+21</td><td>1.1207732291092561e+21</td><td>1.464899945213218</td><td>0.1379237477562966</td><td>no</td></tr>\n",
       "<tr><td>HD014250</td><td>21.625876830963694</td><td>0.13018015751057632</td><td>21.52</td><td>0.15</td><td>20.66</td><td>0.18</td><td>-0.6648468352997121</td><td>-0.23</td><td>4</td><td>3.311311214825908e+21</td><td>1.1665612987760173e+21</td><td>4.5708818961487515e+20</td><td>1.9491789943936716e+20</td><td>4.2254875940556584e+21</td><td>1.229974476926009e+21</td><td>0.21634813944686468</td><td>0.11170273192484285</td><td>0.5888436553555889</td><td>B1IV</td><td>BD+52d3210</td><td>8.96</td><td>1.77</td><td>0.04</td><td>0.02</td><td>0.58</td><td>0.044</td><td>0.024</td><td>3.04</td><td>0.203</td><td>0.009</td><td>0.044721359549995794</td><td>0.05011985634456667</td><td>0.20319940944796075</td><td>0.73</td><td>0.043</td><td>0.02</td><td>0.29</td><td>0.008</td><td>0.008</td><td>1.42</td><td>0.066</td><td>0.038</td><td>0.13</td><td>0.007</td><td>0.003</td><td>4.59</td><td>0.02</td><td>0.008</td><td>1.0</td><td>0.018</td><td>0.009</td><td>0.0474236228055175</td><td>0.01131370849898476</td><td>0.07615773105863909</td><td>0.007615773105863909</td><td>0.021540659228538015</td><td>0.020124611797498106</td><td>-0.8208000000000001</td><td>-0.08873605301596081</td><td>0.8815999999999999</td><td>0.08358618067599453</td><td>4.3168</td><td>0.4390360527169217</td><td>0.3952</td><td>0.04125867841545308</td><td>2.3872811265851177e+21</td><td>6.975137298852075e+20</td><td>7.285323438026998e+21</td><td>2.212119337946259e+21</td><td>2.230530784048753</td><td>0.12777288347262172</td><td>no</td></tr>\n",
       "<tr><td>...</td><td>...</td><td>...</td><td>...</td><td>...</td><td>...</td><td>...</td><td>...</td><td>...</td><td>...</td><td>...</td><td>...</td><td>...</td><td>...</td><td>...</td><td>...</td><td>...</td><td>...</td><td>...</td><td>...</td><td>...</td><td>...</td><td>...</td><td>...</td><td>...</td><td>...</td><td>...</td><td>...</td><td>...</td><td>...</td><td>...</td><td>...</td><td>...</td><td>...</td><td>...</td><td>...</td><td>...</td><td>...</td><td>...</td><td>...</td><td>...</td><td>...</td><td>...</td><td>...</td><td>...</td><td>...</td><td>...</td><td>...</td><td>...</td><td>...</td><td>...</td><td>...</td><td>...</td><td>...</td><td>...</td><td>...</td><td>...</td><td>...</td><td>...</td><td>...</td><td>...</td><td>...</td><td>...</td><td>...</td><td>...</td><td>...</td><td>...</td><td>...</td><td>...</td><td>...</td><td>...</td><td>...</td><td>...</td></tr>\n",
       "<tr><td>HD206773</td><td>21.24460423270423</td><td>0.04453154583943686</td><td>21.09</td><td>0.05</td><td>20.42</td><td>0.09</td><td>-0.5235742370402471</td><td>-0.04</td><td>15</td><td>1.230268770812381e+21</td><td>1.4195303422985188e+20</td><td>2.6302679918953923e+20</td><td>5.489872398970266e+19</td><td>1.7563223691914594e+21</td><td>1.7946070185378113e+20</td><td>0.29951995579333907</td><td>0.06960497687624438</td><td>0.9120108393559098</td><td>B0V</td><td>HD097471</td><td>6.87</td><td>2.16</td><td>0.04</td><td>0.03</td><td>0.53</td><td>0.05</td><td>0.033</td><td>4.08</td><td>0.293</td><td>0.01</td><td>0.05</td><td>0.05990826320300064</td><td>0.29317059879871993</td><td>0.84</td><td>0.07</td><td>0.02</td><td>0.18</td><td>0.012</td><td>0.007</td><td>0.75</td><td>0.073</td><td>0.025</td><td>0.04</td><td>0.007</td><td>0.002</td><td>4.57</td><td>0.041</td><td>0.01</td><td>1.04</td><td>0.023</td><td>0.016</td><td>0.07280109889280519</td><td>0.013892443989449804</td><td>0.0771621668954417</td><td>0.007280109889280519</td><td>0.04220189569201839</td><td>0.028017851452243798</td><td>-0.6528000000000002</td><td>-0.09298247897848773</td><td>0.7343999999999999</td><td>0.10051781658729658</td><td>3.06</td><td>0.46770653841595805</td><td>0.1632</td><td>0.0349651149261854</td><td>8.13112207959009e+20</td><td>8.51889871417585e+19</td><td>3.3138157909272817e+21</td><td>5.049357618932302e+20</td><td>1.1327858125924735</td><td>0.12047359797143999</td><td>lo_h_av</td></tr>\n",
       "<tr><td>HD207198</td><td>21.512901311711836</td><td>0.045898605456503816</td><td>21.28</td><td>0.06</td><td>20.83</td><td>0.07</td><td>-0.3818713160478574</td><td>-0.4</td><td>15</td><td>1.905460717963252e+21</td><td>2.6408735825599096e+20</td><td>6.760829753919791e+20</td><td>1.0944414869356233e+20</td><td>3.25762666874721e+21</td><td>3.430076085506886e+20</td><td>0.41507701412082393</td><td>0.08015589849014847</td><td>0.3981071705534972</td><td>O9II</td><td>HD210809</td><td>5.94</td><td>1.54</td><td>0.03</td><td>0.01</td><td>0.58</td><td>0.032</td><td>0.026</td><td>2.68</td><td>0.106</td><td>0.009</td><td>0.03162277660168379</td><td>0.0412310562561766</td><td>0.10638138934982941</td><td>0.73</td><td>0.049</td><td>0.019</td><td>0.35</td><td>0.01</td><td>0.008</td><td>1.16</td><td>0.068</td><td>0.028</td><td>0.2</td><td>0.01</td><td>0.005</td><td>4.62</td><td>0.027</td><td>0.009</td><td>1.04</td><td>0.018</td><td>0.008</td><td>0.05255473337388365</td><td>0.012806248474865698</td><td>0.07353910524340095</td><td>0.011180339887498949</td><td>0.02846049894151541</td><td>0.01969771560359221</td><td>-0.7236000000000001</td><td>-0.07321054561491362</td><td>0.938</td><td>0.07499474684417012</td><td>3.1088</td><td>0.2961127136750464</td><td>0.536</td><td>0.04847321483541587</td><td>2.1153419926929935e+21</td><td>2.2692820944201777e+20</td><td>5.61659770473657e+21</td><td>7.135571577061276e+20</td><td>1.7520420568096922</td><td>0.11592314184994969</td><td>no</td></tr>\n",
       "<tr><td>HD209339</td><td>21.253580274180408</td><td>0.0923420198002809</td><td>21.16</td><td>0.11</td><td>20.24</td><td>0.08</td><td>-0.7125502785164278</td><td>-0.15</td><td>0</td><td>1.445439770745928e+21</td><td>3.7003434118045014e+20</td><td>1.7378008287493692e+20</td><td>3.2192818005404787e+19</td><td>1.7929999364958019e+21</td><td>3.755940944388852e+20</td><td>0.1938428210037405</td><td>0.054206276081379665</td><td>0.7079457843841379</td><td>B0IV</td><td>HD104705</td><td>6.65</td><td>1.05</td><td>0.04</td><td>0.03</td><td>0.37</td><td>0.054</td><td>0.037</td><td>2.83</td><td>0.32</td><td>0.011</td><td>0.05</td><td>0.06545991139621257</td><td>0.3201890066819909</td><td>1.08</td><td>0.089</td><td>0.047</td><td>0.22</td><td>0.017</td><td>0.011</td><td>1.03</td><td>0.081</td><td>0.048</td><td>0.11</td><td>0.01</td><td>0.005</td><td>4.57</td><td>0.034</td><td>0.012</td><td>0.91</td><td>0.019</td><td>0.011</td><td>0.10064790112068905</td><td>0.020248456731316585</td><td>0.0941541289588513</td><td>0.011180339887498949</td><td>0.0360555127546399</td><td>0.02195449840010015</td><td>0.2264000000000002</td><td>0.04527154395586269</td><td>0.6226</td><td>0.12416350805551354</td><td>2.9149000000000003</td><td>0.5804702019489208</td><td>0.3113</td><td>0.06351648945874523</td><td>1.707618987138859e+21</td><td>3.668346310286944e+20</td><td>4.845945774312978e+21</td><td>1.3287196637423524e+21</td><td>1.7779343039546631</td><td>0.1680892607131086</td><td>no</td></tr>\n",
       "<tr><td>HD216898</td><td>21.82380921045476</td><td>0.1944459301459016</td><td>21.66</td><td>0.25</td><td>21.02</td><td>0.07</td><td>-0.5027792147907789</td><td>0.68</td><td>0</td><td>4.5708818961487516e+21</td><td>2.778954689436065e+21</td><td>1.0471285480508985e+21</td><td>1.6950891633931852e+20</td><td>6.665138992250549e+21</td><td>2.7995575108957514e+21</td><td>0.3142105661317426</td><td>0.14144018709665532</td><td>4.786300923226384</td><td>O8.5V</td><td>HD093028</td><td>8.0</td><td>2.5</td><td>0.05</td><td>0.03</td><td>0.84</td><td>0.041</td><td>0.027</td><td>2.98</td><td>0.118</td><td>0.013</td><td>0.05830951894845301</td><td>0.04909175083453431</td><td>0.11871394189394942</td><td>1.11</td><td>0.014</td><td>0.021</td><td>0.2</td><td>0.003</td><td>0.005</td><td>1.36</td><td>0.041</td><td>0.036</td><td>0.1</td><td>0.005</td><td>0.002</td><td>4.59</td><td>0.012</td><td>0.009</td><td>0.99</td><td>0.019</td><td>0.012</td><td>0.025238858928247926</td><td>0.0058309518948453</td><td>0.05456189146281496</td><td>0.005385164807134504</td><td>0.015</td><td>0.022472205054244233</td><td>0.3278000000000003</td><td>0.020556317796185435</td><td>0.596</td><td>0.03892538410135014</td><td>4.0528</td><td>0.2872937867840455</td><td>0.298</td><td>0.023682157457871326</td><td>2.6660555969002194e+21</td><td>1.1215481411069903e+21</td><td>7.934689276488749e+21</td><td>3.364912942227158e+21</td><td>2.157861620647535</td><td>0.09946760787378434</td><td>no</td></tr>\n",
       "<tr><td>HD239729</td><td>21.57545719196596</td><td>0.09675976922022755</td><td>21.15</td><td>0.15</td><td>21.07</td><td>0.12</td><td>-0.2044271963019786</td><td>0.29</td><td>4</td><td>1.4125375446227498e+21</td><td>4.976311574844333e+20</td><td>1.1748975549395303e+21</td><td>3.28782840389371e+20</td><td>3.7623326545018104e+21</td><td>8.246389473201633e+20</td><td>0.6245580403602586</td><td>0.22200497892829452</td><td>1.9498445997580451</td><td>B0V</td><td>HD097471</td><td>8.35</td><td>2.01</td><td>0.04</td><td>0.03</td><td>0.66</td><td>0.044</td><td>0.024</td><td>3.04</td><td>0.178</td><td>0.01</td><td>0.05</td><td>0.05011985634456667</td><td>0.17828067758453242</td><td>0.87</td><td>0.049</td><td>0.021</td><td>0.26</td><td>0.009</td><td>0.008</td><td>1.16</td><td>0.06</td><td>0.029</td><td>0.18</td><td>0.008</td><td>0.004</td><td>4.6</td><td>0.022</td><td>0.009</td><td>1.11</td><td>0.021</td><td>0.011</td><td>0.053310411741047364</td><td>0.012041594578792296</td><td>0.06664082832618454</td><td>0.008944271909999158</td><td>0.023769728648009424</td><td>0.023706539182259397</td><td>-0.3952</td><td>-0.03856299100962932</td><td>0.7904</td><td>0.07030442013255263</td><td>3.5263999999999998</td><td>0.3357892989980166</td><td>0.5472</td><td>0.049659400315241645</td><td>1.8718072907969208e+21</td><td>4.1290191969790814e+20</td><td>5.70050402197244e+21</td><td>1.3223190973982253e+21</td><td>1.6415529180919637</td><td>0.10061150353641356</td><td>no</td></tr>\n",
       "<tr><td>HD326329</td><td>21.557309137306998</td><td>0.12147559807343633</td><td>21.51</td><td>0.13</td><td>20.27</td><td>0.04</td><td>-0.9862791416430163</td><td>-0.36</td><td>0</td><td>3.2359365692962945e+21</td><td>9.831627016910804e+20</td><td>1.8620871366628655e+20</td><td>1.7174714610388877e+19</td><td>3.6083539966288677e+21</td><td>9.837625634696097e+20</td><td>0.10320978143511056</td><td>0.029705191463313723</td><td>0.436515832240166</td><td>O9V</td><td>HD093028</td><td>8.6</td><td>1.28</td><td>0.09</td><td>0.03</td><td>0.48</td><td>0.163</td><td>0.038</td><td>2.66</td><td>0.896</td><td>0.013</td><td>0.09486832980505137</td><td>0.16737084572887836</td><td>0.8960943030730639</td><td>1.07</td><td>0.074</td><td>0.077</td><td>0.27</td><td>0.013</td><td>0.02</td><td>1.2</td><td>0.089</td><td>0.093</td><td>0.12</td><td>0.009</td><td>0.009</td><td>4.61</td><td>0.033</td><td>0.016</td><td>0.95</td><td>0.024</td><td>0.018</td><td>0.1067941945987702</td><td>0.023853720883753128</td><td>0.12872451204024818</td><td>0.012727922061357855</td><td>0.0366742416417845</td><td>0.03</td><td>0.18620000000000017</td><td>0.06753332310038072</td><td>0.7182000000000001</td><td>0.2583418550734908</td><td>3.192</td><td>1.164494561816413</td><td>0.3192</td><td>0.1163369937938917</td><td>2.819026559866303e+21</td><td>7.964578327447369e+20</td><td>7.517404159643475e+21</td><td>3.3273655285100907e+21</td><td>1.9841637812146062</td><td>0.22187329255993948</td><td>no</td></tr>\n",
       "<tr><td>HD332407</td><td>21.350282550168377</td><td>0.11417338008700995</td><td>21.24</td><td>0.14</td><td>20.4</td><td>0.07</td><td>-0.6492525545043962</td><td>-0.8</td><td>3</td><td>1.7378008287493693e+21</td><td>5.6995375361266195e+20</td><td>2.5118864315095718e+20</td><td>4.0662356858207715e+19</td><td>2.2401781150512835e+21</td><td>5.757264891580202e+20</td><td>0.2242577422422563</td><td>0.0681146557276672</td><td>0.15848931924611134</td><td>B1Ib</td><td>HD100276</td><td>8.5</td><td>1.19</td><td>0.04</td><td>0.02</td><td>0.39</td><td>0.039</td><td>0.033</td><td>3.08</td><td>0.179</td><td>0.009</td><td>0.044721359549995794</td><td>0.05108815909777921</td><td>0.17922611416866682</td><td>0.64</td><td>0.05</td><td>0.025</td><td>0.31</td><td>0.009</td><td>0.011</td><td>1.27</td><td>0.067</td><td>0.051</td><td>0.1</td><td>0.007</td><td>0.004</td><td>4.57</td><td>0.024</td><td>0.01</td><td>1.01</td><td>0.019</td><td>0.011</td><td>0.05590169943749475</td><td>0.014212670403551895</td><td>0.08420213774008355</td><td>0.00806225774829855</td><td>0.026000000000000002</td><td>0.02195449840010015</td><td>-1.1088</td><td>-0.1745758252466244</td><td>0.9548</td><td>0.13251351475566336</td><td>3.9116</td><td>0.5742939146485595</td><td>0.30800000000000005</td><td>0.04737572993614187</td><td>1.8825026176901542e+21</td><td>4.889490021533518e+20</td><td>5.744046448849445e+21</td><td>1.65692520373664e+21</td><td>1.9751597376529888</td><td>0.1378133859530898</td><td>no</td></tr>\n",
       "</table></div>"
      ],
      "text/plain": [
       "<Table length=75>\n",
       "   Name         lognhtot      ...    bump_area_unc    comment\n",
       "  str10         float64       ...       float64        str16 \n",
       "---------- ------------------ ... ------------------- -------\n",
       "BD+35d4258  21.25738178715031 ...  0.3425645129218912      no\n",
       "BD+53d2820 21.394307013116407 ... 0.15948266874647712      no\n",
       " BD+56d524 21.570568601612063 ... 0.13806997620211023      no\n",
       "  HD001383  21.53591122078555 ... 0.14270137822265994      no\n",
       "  HD013268 21.433580274180407 ...  0.1379237477562966      no\n",
       "  HD014250 21.625876830963694 ... 0.12777288347262172      no\n",
       "       ...                ... ...                 ...     ...\n",
       "  HD206773  21.24460423270423 ... 0.12047359797143999 lo_h_av\n",
       "  HD207198 21.512901311711836 ... 0.11592314184994969      no\n",
       "  HD209339 21.253580274180408 ...  0.1680892607131086      no\n",
       "  HD216898  21.82380921045476 ... 0.09946760787378434      no\n",
       "  HD239729  21.57545719196596 ... 0.10061150353641356      no\n",
       "  HD326329 21.557309137306998 ... 0.22187329255993948      no\n",
       "  HD332407 21.350282550168377 ...  0.1378133859530898      no"
      ]
     },
     "execution_count": 30,
     "metadata": {},
     "output_type": "execute_result"
    }
   ],
   "source": [
    "data = get_data.get_merged_table()\n",
    "\n",
    "# add comments for certain stars here\n",
    "data.add_column(Column(['no'] * len(data), dtype='<U16', name='comment'))\n",
    "def set_comment(name, s):\n",
    "    data['comment'][data['Name'] == name] = s\n",
    "\n",
    "for name in [\"HD200775\", \"HD164906\", \"HD045314\", \"HD206773\"]:\n",
    "    set_comment(name, \"lo_h_av\")\n",
    "\n",
    "set_comment(\"HD096675\", \"hi_h_av\")\n",
    "\n",
    "data"
   ]
  },
  {
   "cell_type": "code",
   "execution_count": 31,
   "id": "8d794b4a-a3e4-4f7f-9acd-0542694a042b",
   "metadata": {},
   "outputs": [
    {
     "data": {
      "text/html": [
       "<div><i>Table length=136</i>\n",
       "<table id=\"table140445180739056\" class=\"table-striped table-bordered table-condensed\">\n",
       "<thead><tr><th>name</th><th>lognj0</th><th>lognj0_unc</th><th>lognj1</th><th>lognj1_unc</th><th>lognj2</th><th>lognj2_unc</th><th>lognj3</th><th>lognj3_unc</th><th>lognj4</th><th>lognj4_unc</th><th>lognj5</th><th>lognj5_unc</th><th>lognj6</th><th>lognj6_unc</th><th>lognj7</th><th>lognj7_unc</th></tr></thead>\n",
       "<thead><tr><th>str10</th><th>float64</th><th>float64</th><th>float64</th><th>float64</th><th>float64</th><th>float64</th><th>float64</th><th>float64</th><th>float64</th><th>float64</th><th>float64</th><th>float64</th><th>float64</th><th>float64</th><th>float64</th><th>float64</th></tr></thead>\n",
       "<tr><td>BD+35d4258</td><td>19.1</td><td>0.1</td><td>19.35</td><td>0.1</td><td>17.45</td><td>0.35</td><td>17.25</td><td>0.4</td><td>15.5</td><td>0.1</td><td>15.2</td><td>0.06</td><td>--</td><td>--</td><td>--</td><td>--</td></tr>\n",
       "<tr><td>BD+53d2820</td><td>19.55</td><td>0.25</td><td>19.8</td><td>0.25</td><td>17.45</td><td>0.5</td><td>17.05</td><td>0.5</td><td>15.25</td><td>0.25</td><td>14.65</td><td>0.15</td><td>--</td><td>--</td><td>--</td><td>--</td></tr>\n",
       "<tr><td>idem</td><td>19.0</td><td>0.5</td><td>19.0</td><td>0.5</td><td>15.4</td><td>0.25</td><td>15.4</td><td>0.25</td><td>14.6</td><td>0.25</td><td>14.3</td><td>0.25</td><td>--</td><td>--</td><td>--</td><td>--</td></tr>\n",
       "<tr><td>BD+56d524</td><td>19.65</td><td>0.4</td><td>20.4</td><td>0.4</td><td>18.55</td><td>0.25</td><td>16.45</td><td>0.25</td><td>15.65</td><td>0.25</td><td>15.0</td><td>0.25</td><td>--</td><td>--</td><td>--</td><td>--</td></tr>\n",
       "<tr><td>idem</td><td>20.45</td><td>0.4</td><td>19.85</td><td>0.4</td><td>18.75</td><td>0.25</td><td>16.65</td><td>0.25</td><td>14.85</td><td>0.25</td><td>14.65</td><td>0.25</td><td>--</td><td>--</td><td>--</td><td>--</td></tr>\n",
       "<tr><td>HD001383</td><td>19.8</td><td>0.25</td><td>19.85</td><td>0.25</td><td>17.2</td><td>0.25</td><td>16.55</td><td>0.25</td><td>15.1</td><td>0.25</td><td>14.75</td><td>0.25</td><td>--</td><td>--</td><td>--</td><td>--</td></tr>\n",
       "<tr><td>...</td><td>...</td><td>...</td><td>...</td><td>...</td><td>...</td><td>...</td><td>...</td><td>...</td><td>...</td><td>...</td><td>...</td><td>...</td><td>...</td><td>...</td><td>...</td><td>...</td></tr>\n",
       "<tr><td>HD116852</td><td>19.54</td><td>0.1</td><td>19.45</td><td>0.1</td><td>17.61</td><td>0.05</td><td>17.37</td><td>0.06</td><td>14.97</td><td>0.05</td><td>14.11</td><td>0.05</td><td>--</td><td>--</td><td>--</td><td>--</td></tr>\n",
       "<tr><td>HD172140</td><td>19.0</td><td>0.15</td><td>18.8</td><td>0.2</td><td>16.23</td><td>0.1</td><td>15.82</td><td>0.1</td><td>14.44</td><td>0.1</td><td>14.01</td><td>0.1</td><td>--</td><td>--</td><td>--</td><td>--</td></tr>\n",
       "<tr><td>HD210809</td><td>18.15</td><td>0.75</td><td>18.5</td><td>0.5</td><td>15.4</td><td>0.2</td><td>16.0</td><td>0.4</td><td>14.6</td><td>0.2</td><td>14.15</td><td>0.15</td><td>--</td><td>--</td><td>--</td><td>--</td></tr>\n",
       "<tr><td>idem</td><td>19.0</td><td>0.35</td><td>19.45</td><td>0.2</td><td>15.25</td><td>0.3</td><td>14.7</td><td>0.3</td><td>15.7</td><td>0.15</td><td>15.05</td><td>0.1</td><td>--</td><td>--</td><td>--</td><td>--</td></tr>\n",
       "<tr><td>idem</td><td>19.4</td><td>0.35</td><td>18.65</td><td>0.35</td><td>17.25</td><td>1.0</td><td>17.35</td><td>0.5</td><td>14.15</td><td>0.15</td><td>13.7</td><td>0.25</td><td>--</td><td>--</td><td>--</td><td>--</td></tr>\n",
       "<tr><td>idem</td><td>18.1</td><td>0.75</td><td>19.0</td><td>0.35</td><td>15.3</td><td>0.2</td><td>15.0</td><td>0.2</td><td>14.75</td><td>0.1</td><td>14.4</td><td>0.1</td><td>--</td><td>--</td><td>--</td><td>--</td></tr>\n",
       "<tr><td>HD235874</td><td>19.2</td><td>0.1</td><td>19.45</td><td>0.1</td><td>17.7</td><td>0.25</td><td>17.4</td><td>0.25</td><td>15.72</td><td>0.25</td><td>15.2</td><td>0.25</td><td>--</td><td>--</td><td>--</td><td>--</td></tr>\n",
       "</table></div>"
      ],
      "text/plain": [
       "<Table length=136>\n",
       "   name     lognj0 lognj0_unc  lognj1 ...  lognj6 lognj6_unc  lognj7 lognj7_unc\n",
       "  str10    float64  float64   float64 ... float64  float64   float64  float64  \n",
       "---------- ------- ---------- ------- ... ------- ---------- ------- ----------\n",
       "BD+35d4258    19.1        0.1   19.35 ...      --         --      --         --\n",
       "BD+53d2820   19.55       0.25    19.8 ...      --         --      --         --\n",
       "      idem    19.0        0.5    19.0 ...      --         --      --         --\n",
       " BD+56d524   19.65        0.4    20.4 ...      --         --      --         --\n",
       "      idem   20.45        0.4   19.85 ...      --         --      --         --\n",
       "  HD001383    19.8       0.25   19.85 ...      --         --      --         --\n",
       "       ...     ...        ...     ... ...     ...        ...     ...        ...\n",
       "  HD116852   19.54        0.1   19.45 ...      --         --      --         --\n",
       "  HD172140    19.0       0.15    18.8 ...      --         --      --         --\n",
       "  HD210809   18.15       0.75    18.5 ...      --         --      --         --\n",
       "      idem    19.0       0.35   19.45 ...      --         --      --         --\n",
       "      idem    19.4       0.35   18.65 ...      --         --      --         --\n",
       "      idem    18.1       0.75    19.0 ...      --         --      --         --\n",
       "  HD235874    19.2        0.1   19.45 ...      --         --      --         --"
      ]
     },
     "execution_count": 31,
     "metadata": {},
     "output_type": "execute_result"
    }
   ],
   "source": [
    "# note: T01 is related to ortho to para ratio, not just excitation\n",
    "from astropy.table import Table\n",
    "import pandas as pd\n",
    "# data = Table.read('data/fuse_h2_details.dat', format=\"ascii.commented_header\")\n",
    "t = pd.read_csv('data/fuse_h2_details.dat', delim_whitespace=True)\n",
    "t\n",
    "type(t['name'])\n",
    "t2 = Table.from_pandas(t)\n",
    "t2"
   ]
  },
  {
   "cell_type": "code",
   "execution_count": 52,
   "id": "9f02c775-cdc0-480f-a4a9-cc73a63178d0",
   "metadata": {},
   "outputs": [
    {
     "name": "stderr",
     "output_type": "stream",
     "text": [
      "/Users/dvandeputte/Projects/FUSE H2/plotting_git/get_data.py:12: RuntimeWarning: overflow encountered in power\n",
      "  lin = np.power(10.0, log)\n",
      "/Users/dvandeputte/Projects/FUSE H2/plotting_git/get_data.py:13: RuntimeWarning: overflow encountered in power\n",
      "  lin_unc = 0.5 * (np.power(10.0, log + log_unc) - np.power(10.0, log - log_unc))\n",
      "/Users/dvandeputte/Projects/FUSE H2/plotting_git/get_data.py:13: RuntimeWarning: invalid value encountered in subtract\n",
      "  lin_unc = 0.5 * (np.power(10.0, log + log_unc) - np.power(10.0, log - log_unc))\n",
      "WARNING: AstropyDeprecationWarning: data/fuse_h2_details_main.dat already exists. Automatically overwriting ASCII files is deprecated. Use the argument 'overwrite=True' in the future. [astropy.io.ascii.ui]\n"
     ]
    }
   ],
   "source": [
    "h2data = get_data.get_fuse_h2_details(stars=data['Name'])"
   ]
  },
  {
   "cell_type": "code",
   "execution_count": 53,
   "id": "eb171aeb-200c-4493-82cb-dabecc1274ca",
   "metadata": {},
   "outputs": [
    {
     "data": {
      "text/html": [
       "<div><i>Table length=75</i>\n",
       "<table id=\"table140445701787456\" class=\"table-striped table-bordered table-condensed\">\n",
       "<thead><tr><th>name</th><th>nj0</th><th>nj0_unc</th><th>nj1</th><th>nj1_unc</th><th>nj2</th><th>nj2_unc</th><th>nj3</th><th>nj3_unc</th><th>nj4</th><th>nj4_unc</th><th>nj5</th><th>nj5_unc</th><th>nj6</th><th>nj6_unc</th><th>nj7</th><th>nj7_unc</th></tr></thead>\n",
       "<thead><tr><th>str10</th><th>float64</th><th>float64</th><th>float64</th><th>float64</th><th>float64</th><th>float64</th><th>float64</th><th>float64</th><th>float64</th><th>float64</th><th>float64</th><th>float64</th><th>float64</th><th>float64</th><th>float64</th><th>float64</th></tr></thead>\n",
       "<tr><td>BD+35d4258</td><td>1.2589254117941713e+19</td><td>2.924465962305619e+18</td><td>2.238721138568347e+19</td><td>5.200517606127747e+18</td><td>2.8183829312644493e+17</td><td>2.5253240165038912e+17</td><td>1.778279410038923e+17</td><td>1.8794450685627382e+17</td><td>3162277660168379.5</td><td>734592637012693.8</td><td>1584893192461111.0</td><td>219658297003550.75</td><td>0.0</td><td>0.0</td><td>0.0</td><td>0.0</td></tr>\n",
       "<tr><td>BD+53d2820</td><td>4.54813389233576e+19</td><td>2.5842445958636257e+19</td><td>7.309573444801943e+19</td><td>4.091465543868699e+19</td><td>2.843501795579545e+17</td><td>4.0106582965432275e+17</td><td>1.1471373186170611e+17</td><td>1.5967332830963264e+17</td><td>2176386580592419.8</td><td>1107900266062001.9</td><td>646209823647851.8</td><td>198692645023904.38</td><td>0.0</td><td>0.0</td><td>0.0</td><td>0.0</td></tr>\n",
       "<tr><td>BD+56d524</td><td>3.265066523415411e+20</td><td>3.015898697131478e+20</td><td>3.219832215893712e+20</td><td>2.758210750746382e+20</td><td>9.171547144239251e+18</td><td>4.0425155324882125e+18</td><td>7.285218852774066e+16</td><td>3.21108422676684e+16</td><td>5174781705893772.0</td><td>2749594044486222.0</td><td>1446683592150963.5</td><td>665865234510643.0</td><td>0.0</td><td>0.0</td><td>0.0</td><td>0.0</td></tr>\n",
       "<tr><td>HD001383</td><td>1.1290645150336929e+20</td><td>4.576341291430912e+19</td><td>1.6397636826251153e+20</td><td>6.237220721905389e+19</td><td>2.743382511707222e+17</td><td>1.1434029825834176e+17</td><td>6.851665306966414e+16</td><td>2.8908404854145376e+16</td><td>2597283647060760.5</td><td>1083498397383515.1</td><td>1000259212799195.8</td><td>419587612915669.3</td><td>0.0</td><td>0.0</td><td>0.0</td><td>0.0</td></tr>\n",
       "<tr><td>HD013268</td><td>9.54992586021437e+19</td><td>2.2184342979411804e+19</td><td>1.6595869074375564e+20</td><td>3.855196961488207e+19</td><td>1.0471285480508986e+17</td><td>1.4900900466716586e+17</td><td>3.715352290971728e+16</td><td>3.926717309900837e+16</td><td>4677351412871981.0</td><td>1086542131292078.0</td><td>1548816618912479.5</td><td>286918792484866.6</td><td>0.0</td><td>0.0</td><td>0.0</td><td>0.0</td></tr>\n",
       "<tr><td>HD014250</td><td>1.7673509338563258e+20</td><td>9.9620978499732e+19</td><td>2.763075074660529e+20</td><td>1.5347659398752217e+20</td><td>5.021872336272715e+18</td><td>1.76571931875348e+18</td><td>1.1320184543019653e+18</td><td>6.82179577355325e+17</td><td>8201476298143338.0</td><td>2525193583769513.0</td><td>1295515468351553.5</td><td>330885545678333.44</td><td>0.0</td><td>0.0</td><td>0.0</td><td>0.0</td></tr>\n",
       "<tr><td>...</td><td>...</td><td>...</td><td>...</td><td>...</td><td>...</td><td>...</td><td>...</td><td>...</td><td>...</td><td>...</td><td>...</td><td>...</td><td>...</td><td>...</td><td>...</td><td>...</td></tr>\n",
       "<tr><td>HD206773</td><td>1e+20</td><td>3.522958801193047e+19</td><td>1.5848931924611108e+20</td><td>3.6816845158736093e+19</td><td>1.5848931924611108e+18</td><td>2.9360198970341325e+17</td><td>2.511886431509572e+17</td><td>1.0711535278840203e+17</td><td>2511886431509582.0</td><td>348134939588529.9</td><td>562341325190349.06</td><td>64885055426461.41</td><td>0.0</td><td>0.0</td><td>0.0</td><td>0.0</td></tr>\n",
       "<tr><td>HD207198</td><td>3.9810717055349857e+20</td><td>9.247973380521882e+19</td><td>2.818382931264449e+20</td><td>6.547063768837158e+19</td><td>2.511886431509572e+18</td><td>5.835076725997564e+17</td><td>1e+17</td><td>3.5229588011930468e+16</td><td>5011872336272715.0</td><td>1164250869633473.8</td><td>794328234724282.1</td><td>91652576874805.19</td><td>0.0</td><td>0.0</td><td>0.0</td><td>0.0</td></tr>\n",
       "<tr><td>HD209339</td><td>7.0794578438414025e+19</td><td>1.6445480647170118e+19</td><td>1e+20</td><td>2.322985885349462e+19</td><td>1e+18</td><td>4.2643390021430534e+17</td><td>1.2022644346174082e+17</td><td>6.987325799675437e+16</td><td>2041737944669531.8</td><td>474292842704965.6</td><td>501187233627271.44</td><td>57828866519693.69</td><td>0.0</td><td>0.0</td><td>0.0</td><td>0.0</td></tr>\n",
       "<tr><td>HD216898</td><td>3.9810717055349857e+20</td><td>9.247973380521882e+19</td><td>6.309573444801943e+20</td><td>1.4657050054850694e+20</td><td>6.606934480075964e+18</td><td>2.1669037351663677e+18</td><td>3.9810717055349856e+17</td><td>3.444967520475421e+17</td><td>9332543007969924.0</td><td>2167936568193056.0</td><td>2290867652767770.0</td><td>807063235968677.2</td><td>0.0</td><td>0.0</td><td>0.0</td><td>0.0</td></tr>\n",
       "<tr><td>HD239729</td><td>8.317637711026743e+20</td><td>2.9302694979196856e+20</td><td>3.311311214825908e+20</td><td>1.1665612987760175e+20</td><td>5.248074602497712e+18</td><td>3.1906668906517545e+18</td><td>5.495408738576226e+17</td><td>4.1052766290468384e+17</td><td>2290867652767770.0</td><td>1.1339794881200462e+16</td><td>0.0</td><td>0.0</td><td>0.0</td><td>0.0</td><td>0.0</td><td>0.0</td></tr>\n",
       "<tr><td>HD326329</td><td>9.54992586021437e+19</td><td>1.3235721252025426e+19</td><td>9.120108393559115e+19</td><td>1.2640015666330649e+19</td><td>1.5848931924611108e+18</td><td>9.635659965653524e+17</td><td>5.011872336272715e+17</td><td>4.490731702225662e+17</td><td>5011872336272715.0</td><td>1164250869633473.8</td><td>1412537544622755.5</td><td>395283915712628.1</td><td>50118723362727.15</td><td>93468488689472.9</td><td>0.0</td><td>0.0</td></tr>\n",
       "<tr><td>HD332407</td><td>1.0964781961431828e+20</td><td>2.547103373234053e+19</td><td>1.4125375446227496e+20</td><td>3.2813047786848346e+19</td><td>5.75439937337159e+17</td><td>3.4984966767556416e+17</td><td>7.413102413009192e+16</td><td>6.642278929774896e+16</td><td>4073802778041122.0</td><td>564608760268117.5</td><td>1445439770745928.0</td><td>233987440824682.38</td><td>0.0</td><td>0.0</td><td>0.0</td><td>0.0</td></tr>\n",
       "</table></div>"
      ],
      "text/plain": [
       "<Table length=75>\n",
       "   name             nj0                  nj0_unc         ...   nj7   nj7_unc\n",
       "  str10           float64                float64         ... float64 float64\n",
       "---------- ---------------------- ---------------------- ... ------- -------\n",
       "BD+35d4258 1.2589254117941713e+19  2.924465962305619e+18 ...     0.0     0.0\n",
       "BD+53d2820   4.54813389233576e+19 2.5842445958636257e+19 ...     0.0     0.0\n",
       " BD+56d524  3.265066523415411e+20  3.015898697131478e+20 ...     0.0     0.0\n",
       "  HD001383 1.1290645150336929e+20  4.576341291430912e+19 ...     0.0     0.0\n",
       "  HD013268   9.54992586021437e+19 2.2184342979411804e+19 ...     0.0     0.0\n",
       "  HD014250 1.7673509338563258e+20    9.9620978499732e+19 ...     0.0     0.0\n",
       "       ...                    ...                    ... ...     ...     ...\n",
       "  HD206773                  1e+20  3.522958801193047e+19 ...     0.0     0.0\n",
       "  HD207198 3.9810717055349857e+20  9.247973380521882e+19 ...     0.0     0.0\n",
       "  HD209339 7.0794578438414025e+19 1.6445480647170118e+19 ...     0.0     0.0\n",
       "  HD216898 3.9810717055349857e+20  9.247973380521882e+19 ...     0.0     0.0\n",
       "  HD239729  8.317637711026743e+20 2.9302694979196856e+20 ...     0.0     0.0\n",
       "  HD326329   9.54992586021437e+19 1.3235721252025426e+19 ...     0.0     0.0\n",
       "  HD332407 1.0964781961431828e+20  2.547103373234053e+19 ...     0.0     0.0"
      ]
     },
     "execution_count": 53,
     "metadata": {},
     "output_type": "execute_result"
    }
   ],
   "source": [
    "h2data"
   ]
  },
  {
   "cell_type": "code",
   "execution_count": 54,
   "id": "b38e8525-549e-4b9e-b5ad-4323e5e4b10c",
   "metadata": {},
   "outputs": [
    {
     "data": {
      "text/plain": [
       "<TableColumns names=('name','nj0','nj0_unc','nj1','nj1_unc','nj2','nj2_unc','nj3','nj3_unc','nj4','nj4_unc','nj5','nj5_unc','nj6','nj6_unc','nj7','nj7_unc')>"
      ]
     },
     "execution_count": 54,
     "metadata": {},
     "output_type": "execute_result"
    }
   ],
   "source": [
    "h2data.columns"
   ]
  },
  {
   "cell_type": "code",
   "execution_count": 81,
   "id": "e6a42738-6c43-4e41-bf9f-9f9c6e4290d0",
   "metadata": {},
   "outputs": [
    {
     "data": {
      "text/plain": [
       "9"
      ]
     },
     "execution_count": 81,
     "metadata": {},
     "output_type": "execute_result"
    }
   ],
   "source": [
    "def gi(J):\n",
    "    grot = 2*J + 1\n",
    "    if J % 2 == 0:\n",
    "        return grot\n",
    "    else:\n",
    "        return 3 * grot\n",
    "    \n",
    "dE01 = 170.48\n",
    "dE35 = 1\n",
    "\n",
    "gi(1)"
   ]
  },
  {
   "cell_type": "code",
   "execution_count": 82,
   "id": "7a027f74-07d3-486d-8908-6b5403420a72",
   "metadata": {},
   "outputs": [
    {
     "name": "stderr",
     "output_type": "stream",
     "text": [
      "/var/folders/ls/5hq1qd290zb7dmjtzf31p6dr000122/T/ipykernel_22955/445515245.py:2: RuntimeWarning: divide by zero encountered in true_divide\n",
      "  t35 = dE35 / np.log(gi(5)/gi(3) * h2data['nj3'] / h2data['nj5'])\n"
     ]
    }
   ],
   "source": [
    "\n",
    "t01 = dE01 / np.log(gi(1)/gi(0) * h2data['nj0'] / h2data['nj1'])\n",
    "t35 = dE35 / np.log(gi(5)/gi(3) * h2data['nj3'] / h2data['nj5'])"
   ]
  },
  {
   "cell_type": "code",
   "execution_count": 70,
   "id": "3f7894f1-18e4-4194-99a1-6752c7e102b5",
   "metadata": {},
   "outputs": [
    {
     "data": {
      "text/plain": [
       "<matplotlib.collections.PathCollection at 0x7fbc20d78280>"
      ]
     },
     "execution_count": 70,
     "metadata": {},
     "output_type": "execute_result"
    },
    {
     "data": {
      "image/png": "[encoded data removed]",
      "text/plain": [
       "<Figure size 432x288 with 1 Axes>"
      ]
     },
     "metadata": {
      "needs_background": "light"
     },
     "output_type": "display_data"
    }
   ],
   "source": [
    "plt.scatter(data['fh2'], t01)"
   ]
  },
  {
   "cell_type": "code",
   "execution_count": 71,
   "id": "ab4f231e-2b84-43f6-aab1-94b832f6d932",
   "metadata": {},
   "outputs": [
    {
     "data": {
      "text/plain": [
       "<matplotlib.collections.PathCollection at 0x7fbbc09b7760>"
      ]
     },
     "execution_count": 71,
     "metadata": {},
     "output_type": "execute_result"
    },
    {
     "data": {
      "image/png": "[encoded data removed]",
      "text/plain": [
       "<Figure size 432x288 with 1 Axes>"
      ]
     },
     "metadata": {
      "needs_background": "light"
     },
     "output_type": "display_data"
    }
   ],
   "source": [
    "plt.scatter(data['RV'], t01)"
   ]
  },
  {
   "cell_type": "code",
   "execution_count": 83,
   "id": "d2d46a70-5f7c-4c54-bf43-f8f6401eaf34",
   "metadata": {},
   "outputs": [
    {
     "data": {
      "text/plain": [
       "<matplotlib.collections.PathCollection at 0x7fbc10a583d0>"
      ]
     },
     "execution_count": 83,
     "metadata": {},
     "output_type": "execute_result"
    },
    {
     "data": {
      "image/png": "[encoded data removed]",
      "text/plain": [
       "<Figure size 432x288 with 1 Axes>"
      ]
     },
     "metadata": {
      "needs_background": "light"
     },
     "output_type": "display_data"
    }
   ],
   "source": [
    "plt.scatter(data['RV'], t35)"
   ]
  },
  {
   "cell_type": "code",
   "execution_count": 74,
   "id": "f2c50ccb-1444-44aa-a547-16efe24e61cc",
   "metadata": {
    "tags": []
   },
   "outputs": [
    {
     "data": {
      "text/plain": [
       "<matplotlib.collections.PathCollection at 0x7fbbf1910c10>"
      ]
     },
     "execution_count": 74,
     "metadata": {},
     "output_type": "execute_result"
    },
    {
     "data": {
      "image/png": "[encoded data removed]",
      "text/plain": [
       "<Figure size 432x288 with 1 Axes>"
      ]
     },
     "metadata": {
      "needs_background": "light"
     },
     "output_type": "display_data"
    }
   ],
   "source": [
    "plt.scatter(data['AV'], t01)"
   ]
  },
  {
   "cell_type": "code",
   "execution_count": 84,
   "id": "7abfb097-8c62-4b84-b31b-a5b55eade16c",
   "metadata": {
    "tags": []
   },
   "outputs": [
    {
     "data": {
      "text/plain": [
       "<matplotlib.collections.PathCollection at 0x7fbbe1019370>"
      ]
     },
     "execution_count": 84,
     "metadata": {},
     "output_type": "execute_result"
    },
    {
     "data": {
      "image/png": "[encoded data removed]",
      "text/plain": [
       "<Figure size 432x288 with 1 Axes>"
      ]
     },
     "metadata": {
      "needs_background": "light"
     },
     "output_type": "display_data"
    }
   ],
   "source": [
    "plt.scatter(data['AV'], t35)"
   ]
  },
  {
   "cell_type": "code",
   "execution_count": 75,
   "id": "ef13b656-93bd-4110-ba54-7542d1585a18",
   "metadata": {},
   "outputs": [
    {
     "data": {
      "text/plain": [
       "<matplotlib.collections.PathCollection at 0x7fbc20d9e280>"
      ]
     },
     "execution_count": 75,
     "metadata": {},
     "output_type": "execute_result"
    },
    {
     "data": {
      "image/png": "[encoded data removed]",
      "text/plain": [
       "<Figure size 432x288 with 1 Axes>"
      ]
     },
     "metadata": {
      "needs_background": "light"
     },
     "output_type": "display_data"
    }
   ],
   "source": [
    "plt.scatter(data['NH_AV'], t01)"
   ]
  },
  {
   "cell_type": "code",
   "execution_count": 85,
   "id": "09b4a5d2-55de-48fd-9524-6f622df4eaa7",
   "metadata": {},
   "outputs": [
    {
     "data": {
      "text/plain": [
       "<matplotlib.collections.PathCollection at 0x7fbc005c1700>"
      ]
     },
     "execution_count": 85,
     "metadata": {},
     "output_type": "execute_result"
    },
    {
     "data": {
      "image/png": "[encoded data removed]",
      "text/plain": [
       "<Figure size 432x288 with 1 Axes>"
      ]
     },
     "metadata": {
      "needs_background": "light"
     },
     "output_type": "display_data"
    }
   ],
   "source": [
    "plt.scatter(data['NH_AV'], t35)"
   ]
  },
  {
   "cell_type": "code",
   "execution_count": null,
   "id": "b93a9c22-7af6-43fc-a672-83cbe5516075",
   "metadata": {},
   "outputs": [],
   "source": []
  }
 ],
 "metadata": {
  "kernelspec": {
   "display_name": "Python 3 (ipykernel)",
   "language": "python",
   "name": "python3"
  },
  "language_info": {
   "codemirror_mode": {
    "name": "ipython",
    "version": 3
   },
   "file_extension": ".py",
   "mimetype": "text/x-python",
   "name": "python",
   "nbconvert_exporter": "python",
   "pygments_lexer": "ipython3",
   "version": "3.8.10"
  }
 },
 "nbformat": 4,
 "nbformat_minor": 5
}
